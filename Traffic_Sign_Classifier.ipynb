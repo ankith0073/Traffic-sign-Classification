{
 "cells": [
  {
   "cell_type": "markdown",
   "metadata": {
    "deletable": true,
    "editable": true
   },
   "source": [
    "# Self-Driving Car Engineer Nanodegree\n",
    "\n",
    "## Deep Learning\n",
    "\n",
    "## Project: Build a Traffic Sign Recognition Classifier\n",
    "\n",
    "In this notebook, a template is provided for you to implement your functionality in stages, which is required to successfully complete this project. If additional code is required that cannot be included in the notebook, be sure that the Python code is successfully imported and included in your submission if necessary. \n",
    "\n",
    "> **Note**: Once you have completed all of the code implementations, you need to finalize your work by exporting the iPython Notebook as an HTML document. Before exporting the notebook to html, all of the code cells need to have been run so that reviewers can see the final implementation and output. You can then export the notebook by using the menu above and navigating to  \\n\",\n",
    "    \"**File -> Download as -> HTML (.html)**. Include the finished document along with this notebook as your submission. \n",
    "\n",
    "In addition to implementing code, there is a writeup to complete. The writeup should be completed in a separate file, which can be either a markdown file or a pdf document. There is a [write up template](https://github.com/udacity/CarND-Traffic-Sign-Classifier-Project/blob/master/writeup_template.md) that can be used to guide the writing process. Completing the code template and writeup template will cover all of the [rubric points](https://review.udacity.com/#!/rubrics/481/view) for this project.\n",
    "\n",
    "The [rubric](https://review.udacity.com/#!/rubrics/481/view) contains \"Stand Out Suggestions\" for enhancing the project beyond the minimum requirements. The stand out suggestions are optional. If you decide to pursue the \"stand out suggestions\", you can include the code in this Ipython notebook and also discuss the results in the writeup file.\n",
    "\n",
    "\n",
    ">**Note:** Code and Markdown cells can be executed using the **Shift + Enter** keyboard shortcut. In addition, Markdown cells can be edited by typically double-clicking the cell to enter edit mode."
   ]
  },
  {
   "cell_type": "markdown",
   "metadata": {
    "deletable": true,
    "editable": true
   },
   "source": [
    "---\n",
    "## Step 0: Load The Data"
   ]
  },
  {
   "cell_type": "code",
   "execution_count": 1,
   "metadata": {
    "collapsed": false,
    "deletable": true,
    "editable": true
   },
   "outputs": [],
   "source": [
    "# Load pickled data\n",
    "import pickle\n",
    "import numpy as np \n",
    "\n",
    "# TODO: Fill this in based on where you saved the training and testing data\n",
    "\n",
    "training_file = \"traffic-sign-data/train.p\"\n",
    "validation_file= \"traffic-sign-data/valid.p\"\n",
    "testing_file =  \"traffic-sign-data/test.p\"\n",
    "\n",
    "\n",
    "with open(training_file, mode='rb') as f:\n",
    "    train = pickle.load(f)\n",
    "with open(validation_file, mode='rb') as f:\n",
    "    valid = pickle.load(f)\n",
    "with open(testing_file, mode='rb') as f:\n",
    "    test = pickle.load(f)\n",
    "    \n",
    "X_train, y_train = train['features'], train['labels']\n",
    "X_valid, y_valid = valid['features'], valid['labels']\n",
    "X_test, y_test = test['features'], test['labels']"
   ]
  },
  {
   "cell_type": "markdown",
   "metadata": {
    "deletable": true,
    "editable": true
   },
   "source": [
    "---\n",
    "\n",
    "## Step 1: Dataset Summary & Exploration\n",
    "\n",
    "The pickled data is a dictionary with 4 key/value pairs:\n",
    "\n",
    "- `'features'` is a 4D array containing raw pixel data of the traffic sign images, (num examples, width, height, channels).\n",
    "- `'labels'` is a 1D array containing the label/class id of the traffic sign. The file `signnames.csv` contains id -> name mappings for each id.\n",
    "- `'sizes'` is a list containing tuples, (width, height) representing the original width and height the image.\n",
    "- `'coords'` is a list containing tuples, (x1, y1, x2, y2) representing coordinates of a bounding box around the sign in the image. **THESE COORDINATES ASSUME THE ORIGINAL IMAGE. THE PICKLED DATA CONTAINS RESIZED VERSIONS (32 by 32) OF THESE IMAGES**\n",
    "\n",
    "Complete the basic data summary below. Use python, numpy and/or pandas methods to calculate the data summary rather than hard coding the results. For example, the [pandas shape method](http://pandas.pydata.org/pandas-docs/stable/generated/pandas.DataFrame.shape.html) might be useful for calculating some of the summary results. "
   ]
  },
  {
   "cell_type": "markdown",
   "metadata": {
    "deletable": true,
    "editable": true
   },
   "source": [
    "### Provide a Basic Summary of the Data Set Using Python, Numpy and/or Pandas"
   ]
  },
  {
   "cell_type": "code",
   "execution_count": 2,
   "metadata": {
    "collapsed": false,
    "deletable": true,
    "editable": true
   },
   "outputs": [
    {
     "name": "stdout",
     "output_type": "stream",
     "text": [
      "Number of training examples = 34799\n",
      "Number of testing examples = 12630\n",
      "Image data shape = (32, 32, 3)\n",
      "Number of classes = 43\n"
     ]
    }
   ],
   "source": [
    "### Replace each question mark with the appropriate value.\n",
    "### Use python, pandas or numpy methods rather than hard coding the results\n",
    "\n",
    "# TODO: Number of training examples\n",
    "n_train = X_train.shape[0]\n",
    "\n",
    "# TODO: Number of testing examples.\n",
    "n_test = X_test.shape[0]\n",
    "\n",
    "# TODO: What's the shape of an traffic sign image?\n",
    "image_shape = X_train.shape[1:]\n",
    "\n",
    "# TODO: How many unique classes/labels there are in the dataset.\n",
    "n_classes = len(set(y_train))\n",
    "\n",
    "print(\"Number of training examples =\", n_train)\n",
    "print(\"Number of testing examples =\", n_test)\n",
    "print(\"Image data shape =\", image_shape)\n",
    "print(\"Number of classes =\", n_classes)"
   ]
  },
  {
   "cell_type": "markdown",
   "metadata": {
    "deletable": true,
    "editable": true
   },
   "source": [
    "### Include an exploratory visualization of the dataset"
   ]
  },
  {
   "cell_type": "markdown",
   "metadata": {
    "deletable": true,
    "editable": true
   },
   "source": [
    "Visualize the German Traffic Signs Dataset using the pickled file(s). This is open ended, suggestions include: plotting traffic sign images, plotting the count of each sign, etc.\n",
    "\n",
    "The [Matplotlib](http://matplotlib.org/) [examples](http://matplotlib.org/examples/index.html) and [gallery](http://matplotlib.org/gallery.html) pages are a great resource for doing visualizations in Python.\n",
    "\n",
    "**NOTE:** It's recommended you start with something simple first. If you wish to do more, come back to it after you've completed the rest of the sections."
   ]
  },
  {
   "cell_type": "code",
   "execution_count": 3,
   "metadata": {
    "collapsed": false,
    "deletable": true,
    "editable": true
   },
   "outputs": [
    {
     "data": {
      "image/png": "[encoded data removed]",
      "text/plain": [
       "<matplotlib.figure.Figure at 0x7f7089043630>"
      ]
     },
     "metadata": {},
     "output_type": "display_data"
    }
   ],
   "source": [
    "# Visualizations will be shown in the notebook.\n",
    "import matplotlib.pyplot as plt\n",
    "%matplotlib inline\n",
    "elements_in_each_class, bins, patches = plt.hist(y_train, n_classes, normed=0)\n",
    "plt.show()"
   ]
  },
  {
   "cell_type": "markdown",
   "metadata": {
    "deletable": true,
    "editable": true
   },
   "source": [
    "----\n",
    "\n",
    "## Step 2: Design and Test a Model Architecture\n",
    "\n",
    "Design and implement a deep learning model that learns to recognize traffic signs. Train and test your model on the [German Traffic Sign Dataset](http://benchmark.ini.rub.de/?section=gtsrb&subsection=dataset).\n",
    "\n",
    "The LeNet-5 implementation shown in the [classroom](https://classroom.udacity.com/nanodegrees/nd013/parts/fbf77062-5703-404e-b60c-95b78b2f3f9e/modules/6df7ae49-c61c-4bb2-a23e-6527e69209ec/lessons/601ae704-1035-4287-8b11-e2c2716217ad/concepts/d4aca031-508f-4e0b-b493-e7b706120f81) at the end of the CNN lesson is a solid starting point. You'll have to change the number of classes and possibly the preprocessing, but aside from that it's plug and play! \n",
    "\n",
    "With the LeNet-5 solution from the lecture, you should expect a validation set accuracy of about 0.89. To meet specifications, the validation set accuracy will need to be at least 0.93. It is possible to get an even higher accuracy, but 0.93 is the minimum for a successful project submission. \n",
    "\n",
    "There are various aspects to consider when thinking about this problem:\n",
    "\n",
    "- Neural network architecture (is the network over or underfitting?)\n",
    "- Play around preprocessing techniques (normalization, rgb to grayscale, etc)\n",
    "- Number of examples per label (some have more than others).\n",
    "- Generate fake data.\n",
    "\n",
    "Here is an example of a [published baseline model on this problem](http://yann.lecun.com/exdb/publis/pdf/sermanet-ijcnn-11.pdf). It's not required to be familiar with the approach used in the paper but, it's good practice to try to read papers like these."
   ]
  },
  {
   "cell_type": "markdown",
   "metadata": {
    "deletable": true,
    "editable": true
   },
   "source": [
    "### Pre-process the Data Set (normalization, grayscale, etc.)"
   ]
  },
  {
   "cell_type": "markdown",
   "metadata": {
    "deletable": true,
    "editable": true
   },
   "source": [
    "Use the code cell (or multiple code cells, if necessary) to implement the first step of your project."
   ]
  },
  {
   "cell_type": "code",
   "execution_count": 4,
   "metadata": {
    "collapsed": false,
    "deletable": true,
    "editable": true
   },
   "outputs": [],
   "source": [
    "#arrange indices of images in the order of there classes in a dictionary\n",
    "#i.e separated_elements['0'] = [3 4 5 6], indices 3 ,4, 5, 6 of x_train belong to class 0 and so on \n",
    "separated_elements = dict()\n",
    "for i in range(n_classes):\n",
    "    #get the indices of images in x_train where images belong to class i\n",
    "    separated_elements[str(i)] = np.array(np.where(y_train == i))"
   ]
  },
  {
   "cell_type": "code",
   "execution_count": 5,
   "metadata": {
    "collapsed": false,
    "deletable": true,
    "editable": true
   },
   "outputs": [
    {
     "data": {
      "text/plain": [
       "<matplotlib.text.Text at 0x7f70615bee80>"
      ]
     },
     "execution_count": 5,
     "metadata": {},
     "output_type": "execute_result"
    },
    {
     "data": {
      "image/png": "[encoded data removed]",
      "text/plain": [
       "<matplotlib.figure.Figure at 0x7f70616d0320>"
      ]
     },
     "metadata": {},
     "output_type": "display_data"
    }
   ],
   "source": [
    "#translate the image\n",
    "import random\n",
    "import cv2\n",
    "%matplotlib inline\n",
    "def Translate_Image(input_x, random_X, random_Y):\n",
    "    # Function to perform image translation by the amount specified in translation_matrix\n",
    "    # Translation matrix is specified by M=[1 0 random_x; 0 1 random_Y]\n",
    "    # translate_X and translate_Y are the number of pixels by which we are doing the translation\n",
    "    # note that translation_matrix should be of np.float32() format\n",
    "    height, width = input_x.shape[:2]\n",
    "    translation_matrix = np.float32([[1,0,random_X],\n",
    "                                    [0,1,random_Y]])\n",
    "    return cv2.warpAffine(input_x,\n",
    "                          M = translation_matrix,\n",
    "                          dsize = (height, width))\n",
    "\n",
    "random_index = random.randint(0,X_train.shape[0]-1)\n",
    "image = X_train[random_index]\n",
    "random_x = random.randint(-2, 2)\n",
    "random_y = random.randint(-2, 2)\n",
    "#when random_x and random_Y is zero , we have a duplicate copy of the same image !\n",
    "if random_x == 0 and random_y == 0:\n",
    "    random_x = 1\n",
    "    random_y = 1\n",
    "jittered_image = Translate_Image(image,\n",
    "                                    random_X = random_x,\n",
    "                                    random_Y = random_y)\n",
    "temp_str = 'translated '+ str(y_train[random_index])\n",
    "\n",
    "fig = plt.figure()\n",
    "a=fig.add_subplot(1,2,1)\n",
    "disp_image = image.squeeze()\n",
    "plt.imshow(image.squeeze())\n",
    "plt.title('Original image')\n",
    "\n",
    "\n",
    "a=fig.add_subplot(1,2,2)\n",
    "plt.imshow(jittered_image.squeeze())\n",
    "plt.title(temp_str)"
   ]
  },
  {
   "cell_type": "code",
   "execution_count": 30,
   "metadata": {
    "collapsed": false,
    "deletable": true,
    "editable": true
   },
   "outputs": [
    {
     "data": {
      "text/plain": [
       "<matplotlib.text.Text at 0x7f0fb3529860>"
      ]
     },
     "execution_count": 30,
     "metadata": {},
     "output_type": "execute_result"
    },
    {
     "data": {
      "image/png": "[encoded data removed]",
      "text/plain": [
       "<matplotlib.figure.Figure at 0x7f0fcf08e630>"
      ]
     },
     "metadata": {},
     "output_type": "display_data"
    }
   ],
   "source": [
    "#rotating the image\n",
    "\n",
    "def Rotate_Image(input_x, random_angle):\n",
    "    # Function to perform image rotation by the amount specified in random_angle\n",
    "    # Translation matrix is specified by M=[1 0 random_x; 0 1 random_Y]\n",
    "    # translate_X and translate_Y are the number of pixels by which we are doing the translation\n",
    "    # note that translation_matrix should be of np.float32() format\n",
    "    height,width = input_x.shape[:2]\n",
    "    center = [height/2,width/2]\n",
    "    translation_matrix = cv2.getRotationMatrix2D((center[0],center[1]),\n",
    "                                                 angle = random_angle,\n",
    "                                                 scale = 1)\n",
    "    return cv2.warpAffine(input_x,\n",
    "                          M = translation_matrix ,\n",
    "                          dsize = (height, width))\n",
    "\n",
    "random_index = random.randint(0,X_train.shape[0]-1)\n",
    "image = X_train[random_index]\n",
    "rand_angle = random.randint(-15,15)\n",
    "jittered_image = Rotate_Image(image,\n",
    "                              random_angle = rand_angle)\n",
    "temp_str = 'rotated '+ str(y_train[random_index])\n",
    "\n",
    "fig = plt.figure()\n",
    "a=fig.add_subplot(1,2,1)\n",
    "disp_image = image.squeeze()\n",
    "plt.imshow(image.squeeze())\n",
    "plt.title('Original image')\n",
    "\n",
    "\n",
    "a=fig.add_subplot(1,2,2)\n",
    "plt.imshow(jittered_image.squeeze())\n",
    "plt.title(temp_str)"
   ]
  },
  {
   "cell_type": "code",
   "execution_count": 31,
   "metadata": {
    "collapsed": false,
    "deletable": true,
    "editable": true
   },
   "outputs": [
    {
     "data": {
      "text/plain": [
       "<matplotlib.text.Text at 0x7f0fb346d3c8>"
      ]
     },
     "execution_count": 31,
     "metadata": {},
     "output_type": "execute_result"
    },
    {
     "data": {
      "image/png": "[encoded data removed]",
      "text/plain": [
       "<matplotlib.figure.Figure at 0x7f0f9c01d160>"
      ]
     },
     "metadata": {},
     "output_type": "display_data"
    }
   ],
   "source": [
    "#image scaling\n",
    "import math\n",
    "def Scale_Image(input_x, random_scaling):\n",
    "    #Function to perform image scaling by factor specified in random_scaling\n",
    "    height, width = input_x.shape[:2]\n",
    "    resized_image = cv2.resize(input_x,\n",
    "                                dsize = (math.floor(random_scaling * width), math.floor(random_scaling * height)),\n",
    "                                interpolation=cv2.INTER_CUBIC)\n",
    "\n",
    "    if (resized_image.shape[0] < 32) or (resized_image.shape[1] < 32):\n",
    "        return cv2.copyMakeBorder(resized_image,\n",
    "                                  top = 32 - resized_image.shape[1],\n",
    "                                  bottom = 32 - resized_image.shape[1],\n",
    "                                  left = 32 - resized_image.shape[2],\n",
    "                                  right = 32 - resized_image.shape[2],\n",
    "                                  borderType = 'BORDER_CONSTANT')\n",
    "    else:\n",
    "        return resized_image[0:32,0:32]\n",
    "    \n",
    "random_index = random.randint(0,X_train.shape[0]-1)\n",
    "image = X_train[random_index]\n",
    "rand_scaling = random.uniform(1.1, 1.5)\n",
    "jittered_image = Scale_Image(image,\n",
    "                             random_scaling = rand_scaling)\n",
    "temp_str = 'scaled ' + str(y_train[random_index])  \n",
    "\n",
    "fig = plt.figure()\n",
    "a=fig.add_subplot(1,2,1)\n",
    "disp_image = image.squeeze()\n",
    "plt.imshow(image.squeeze())\n",
    "plt.title('Original image')\n",
    "\n",
    "\n",
    "a=fig.add_subplot(1,2,2)\n",
    "plt.imshow(jittered_image.squeeze())\n",
    "plt.title(temp_str)"
   ]
  },
  {
   "cell_type": "code",
   "execution_count": 32,
   "metadata": {
    "collapsed": false,
    "deletable": true,
    "editable": true
   },
   "outputs": [
    {
     "data": {
      "text/plain": [
       "<matplotlib.text.Text at 0x7f0fb33aeef0>"
      ]
     },
     "execution_count": 32,
     "metadata": {},
     "output_type": "execute_result"
    },
    {
     "data": {
      "image/png": "[encoded data removed]",
      "text/plain": [
       "<matplotlib.figure.Figure at 0x7f0fb34d55c0>"
      ]
     },
     "metadata": {},
     "output_type": "display_data"
    }
   ],
   "source": [
    "#Altering the nbrightness of the original image\n",
    "def Brightness_Change(input_x, random_brightness_scale, grayscale_flag = False):\n",
    "    #Function to perform brightness change in input image\n",
    "    # output_brightness = input_brightness * random_brightness_scale\n",
    "    #return (input_x * random_brightness_scale - 1.0)\n",
    "    #convert image to HSV and sclae just the V channel to increase the brightness\n",
    "    if not(grayscale_flag):\n",
    "        hsv = cv2.cvtColor(input_x,\n",
    "                           code = cv2.COLOR_RGB2HSV)\n",
    "        #scale the v channel\n",
    "        h, s, v = cv2.split(hsv)\n",
    "        v = v*random_brightness_scale\n",
    "        v = np.array(v , dtype='f')\n",
    "        v = v.astype(np.uint8) # make the data types of h,s and v same\n",
    "        final_hsv = cv2.merge((h, s, v))\n",
    "        return cv2.cvtColor(final_hsv,\n",
    "                            code = cv2.COLOR_HSV2RGB)\n",
    "    else:\n",
    "        input_x = input_x * np.float32(random_brightness_scale)\n",
    "        return input_x.astype(np.uint8)\n",
    "grayscale_flag = 'False'\n",
    "random_index = random.randint(0,X_train.shape[0]-1)\n",
    "image = X_train[random_index]\n",
    "rand_brightness_scale = random.uniform(0.8, 1.5)\n",
    "jittered_image = Brightness_Change(image,\n",
    "                                   random_brightness_scale = rand_brightness_scale,\n",
    "                                   grayscale_flag = grayscale_flag)\n",
    "temp_str = 'brightness ' + str(y_train[random_index])\n",
    "\n",
    "fig = plt.figure()\n",
    "a=fig.add_subplot(1,2,1)\n",
    "disp_image = image.squeeze()\n",
    "plt.imshow(image.squeeze())\n",
    "plt.title('Original image')\n",
    "\n",
    "\n",
    "a=fig.add_subplot(1,2,2)\n",
    "plt.imshow(jittered_image.squeeze())\n",
    "plt.title(temp_str)"
   ]
  },
  {
   "cell_type": "code",
   "execution_count": 33,
   "metadata": {
    "collapsed": false,
    "deletable": true,
    "editable": true
   },
   "outputs": [
    {
     "data": {
      "text/plain": [
       "<matplotlib.text.Text at 0x7f0fcf145470>"
      ]
     },
     "execution_count": 33,
     "metadata": {},
     "output_type": "execute_result"
    },
    {
     "data": {
      "image/png": "[encoded data removed]",
      "text/plain": [
       "<matplotlib.figure.Figure at 0x7f0fb5bec9b0>"
      ]
     },
     "metadata": {},
     "output_type": "display_data"
    }
   ],
   "source": [
    "#Blurring the image\n",
    "def Gaussian_Blur(input_x, random_kernel_size):\n",
    "    #Function to perform gaussian blur by the kernel size specified by Random_kernel_size\n",
    "    return cv2.blur(input_x,\n",
    "                    (random_kernel_size, random_kernel_size))\n",
    "\n",
    "random_index = random.randint(0,X_train.shape[0]-1)\n",
    "image = X_train[random_index]\n",
    "rand_kernel_size = random.randint(2,4)\n",
    "jittered_image = Gaussian_Blur(image,\n",
    "                            random_kernel_size = rand_kernel_size)\n",
    "temp_str = 'blurred ' + str(y_train[random_index])\n",
    "\n",
    "fig = plt.figure()\n",
    "a=fig.add_subplot(1,2,1)\n",
    "disp_image = image.squeeze()\n",
    "plt.imshow(image.squeeze())\n",
    "plt.title('Original image')\n",
    "\n",
    "\n",
    "a=fig.add_subplot(1,2,2)\n",
    "plt.imshow(jittered_image.squeeze())\n",
    "plt.title(temp_str)"
   ]
  },
  {
   "cell_type": "code",
   "execution_count": null,
   "metadata": {
    "collapsed": false,
    "deletable": true,
    "editable": true
   },
   "outputs": [],
   "source": [
    "#pipeline to augment the data, \n",
    "#randomly select an image belonging to a particular class and perform a jittering operation(i.e either translation\n",
    "#rotation, scaling, brightness change , blurring) which is also selected at random\n",
    "\n",
    "#minimum number of instances of each class after data augmentation\n",
    "min_number = 1000\n",
    "gray_scale = 'False'\n",
    "for i in range(n_classes):\n",
    "    if elements_in_each_class[i] < min_number:\n",
    "        #get the diffrence between number of elements in the current class and max number, here max_number = 1000\n",
    "        diff_in_Classes = min_number - elements_in_each_class[i]\n",
    "        synthetically_generated_images = 0\n",
    "        while synthetically_generated_images < diff_in_Classes:\n",
    "            #create new artificial images to balance the data set\n",
    "            #choose a random image belong to a class and perform 5 jittering with random values and append it to the same class\n",
    "            random_index = random.randint(0,(separated_elements[str(i)].shape[1]) - 1 )\n",
    "            #get the index of image in x_train, i.e access the element in random_image_index of separated_elements\n",
    "\n",
    "            image_index = separated_elements[str(i)][0][random_index]\n",
    "            image = X_train[image_index]\n",
    "\n",
    "            # disp_image = image.squeeze()\n",
    "            # plt.figure(figsize=(5, 5))\n",
    "            # plt.imshow(disp_image)\n",
    "            # plt.title(str(i))\n",
    "            # plt.close()\n",
    "\n",
    "            #choose which jittering needds to be done\n",
    "            choose_jittering = random.randint(0,3) #blurring is making the features go away\n",
    "            if choose_jittering == 0:\n",
    "                random_x = random.randint(-2, 2)\n",
    "                random_y = random.randint(-2, 2)\n",
    "                jittered_image = Translate_Image(image,\n",
    "                                                    random_X = random_x,\n",
    "                                                    random_Y = random_y)\n",
    "                temp_str = 'translated'\n",
    "            elif choose_jittering == 1:\n",
    "                rand_angle = random.randint(-15,15)\n",
    "                jittered_image = Rotate_Image(image,\n",
    "                                                 random_angle = rand_angle)\n",
    "                temp_str = 'rotated'\n",
    "\n",
    "            elif choose_jittering == 2:\n",
    "                rand_scaling = random.uniform(1.1, 1.5)\n",
    "                jittered_image = Scale_Image(image,\n",
    "                                                random_scaling = rand_scaling)\n",
    "                temp_str = 'scaled'\n",
    "\n",
    "            elif choose_jittering == 3:\n",
    "                rand_brightness_scale = random.uniform(0.8, 1)\n",
    "                jittered_image = Brightness_Change(image,\n",
    "                                                      random_brightness_scale = rand_brightness_scale,\n",
    "                                                      grayscale_flag = gray_scale)\n",
    "                temp_str = 'brightness'\n",
    "\n",
    "            elif choose_jittering == 4:\n",
    "                rand_kernel_size = random.randint(2,6)\n",
    "                jittered_image = Gaussian_Blur(image,\n",
    "                                                  random_kernel_size = rand_kernel_size)\n",
    "                temp_str = 'blurred'\n",
    "\n",
    "            # disp_image = jittered_image.squeeze()\n",
    "            # plt.figure(figsize=(5, 5))\n",
    "            # plt.imshow(disp_image)\n",
    "            # plt.title(str(i)+temp_str)\n",
    "            # plt.close()\n",
    "\n",
    "\n",
    "            synthetically_generated_images = synthetically_generated_images + 1\n",
    "            #X_train.insert(jittered_image)\n",
    "            X_train = np.concatenate((X_train, [jittered_image]),\n",
    "                                     axis=0)\n",
    "            y_train = np.concatenate((y_train,[i]),\n",
    "                                     axis = 0)\n",
    "\n",
    "            # disp_image = X_train[X_train.shape[0]-1].squeeze()\n",
    "            # plt.figure(figsize=(5, 5))\n",
    "            # plt.imshow(disp_image)\n",
    "            # plt.title(str(y_train[X_train.shape[0]-1])+temp_str)\n",
    "            # plt.close()"
   ]
  },
  {
   "cell_type": "code",
   "execution_count": 21,
   "metadata": {
    "collapsed": false,
    "deletable": true,
    "editable": true
   },
   "outputs": [
    {
     "data": {
      "image/png": "[encoded data removed]",
      "text/plain": [
       "<matplotlib.figure.Figure at 0x7f594c0bff28>"
      ]
     },
     "metadata": {},
     "output_type": "display_data"
    }
   ],
   "source": [
    "#histogram of validation set \n",
    "elements_in_each_class, bins, patches = plt.hist(y_valid, n_classes, normed=0)"
   ]
  },
  {
   "cell_type": "code",
   "execution_count": 22,
   "metadata": {
    "collapsed": false,
    "deletable": true,
    "editable": true
   },
   "outputs": [
    {
     "data": {
      "image/png": "[encoded data removed]",
      "text/plain": [
       "<matplotlib.figure.Figure at 0x7f58dc01ce48>"
      ]
     },
     "metadata": {},
     "output_type": "display_data"
    }
   ],
   "source": [
    "#Augmented data\n",
    "elements_in_each_class, bins, patches = plt.hist(y_train, n_classes, normed=0)"
   ]
  },
  {
   "cell_type": "code",
   "execution_count": 6,
   "metadata": {
    "collapsed": false,
    "deletable": true,
    "editable": true
   },
   "outputs": [],
   "source": [
    "import numpy as np\n",
    "#convert to grayscale\n",
    "\n",
    "x_grayscale = temp = np.sum(X_train/3, axis=3, keepdims=True)\n",
    "x_valid_grayscale = np.sum(X_valid/3, axis=3, keepdims=True)\n",
    "x_train_temp = X_train\n",
    "x_valid_temp = X_valid\n",
    "\n",
    "#normalize\n",
    "X_train = (x_grayscale - 127.5)/255\n",
    "X_valid = (x_valid_grayscale - 127.5)/255"
   ]
  },
  {
   "cell_type": "code",
   "execution_count": 35,
   "metadata": {
    "collapsed": false,
    "deletable": true,
    "editable": true
   },
   "outputs": [
    {
     "data": {
      "text/plain": [
       "<matplotlib.text.Text at 0x7f0fcf15b9e8>"
      ]
     },
     "execution_count": 35,
     "metadata": {},
     "output_type": "execute_result"
    },
    {
     "data": {
      "image/png": "[encoded data removed]",
      "text/plain": [
       "<matplotlib.figure.Figure at 0x7f0fb36c40b8>"
      ]
     },
     "metadata": {},
     "output_type": "display_data"
    }
   ],
   "source": [
    "#display a random image\n",
    "import random\n",
    "index = random.randint(0,len(X_train))\n",
    "image = X_train[index].squeeze()\n",
    "plt.figure(figsize=(5,5))\n",
    "plt.imshow(image,cmap='gray')\n",
    "plt.title(str(y_train[index]))"
   ]
  },
  {
   "cell_type": "markdown",
   "metadata": {
    "deletable": true,
    "editable": true
   },
   "source": [
    "### Model Architecture"
   ]
  },
  {
   "cell_type": "code",
   "execution_count": 36,
   "metadata": {
    "collapsed": false,
    "deletable": true,
    "editable": true
   },
   "outputs": [],
   "source": [
    "import tensorflow as tf\n",
    "from tensorflow.contrib.layers import flatten\n",
    "keep_prob = 0.5\n",
    "mu = 0\n",
    "sigma = 0.1\n",
    "weights = {\n",
    "    'wc1': tf.Variable(tf.random_normal([5,5,1,6],mu,sigma), name = 'wc1'),\n",
    "    'wc2': tf.Variable(tf.random_normal([5, 5, 6, 16],mu,sigma), name = 'wc2'),\n",
    "    'wd1': tf.Variable(tf.random_normal([400, 120],mu,sigma),name = 'wd1'),\n",
    "    'wd2': tf.Variable(tf.random_normal([120, 84],mu,sigma), name = 'wd2'),\n",
    "    'out': tf.Variable(tf.random_normal([84, n_classes],mu,sigma),name = 'out')\n",
    "         }\n",
    "\n",
    "biases = {\n",
    "    'bc1': tf.Variable(tf.zeros([6]),name = 'bc1'),\n",
    "    'bc2': tf.Variable(tf.zeros([16]), name = 'bc2'),\n",
    "    'bd1': tf.Variable(tf.zeros([120]), name= 'bd1'),\n",
    "    'bd2': tf.Variable(tf.zeros([84]), name = 'bd2'),\n",
    "    'out': tf.Variable(tf.zeros([n_classes]), name= 'out_bias')}\n",
    "\n",
    "strides = {\n",
    "        'Layer1_strides': {'conv':[1,1,1,1],\n",
    "                          'maxpool':[1,2,2,1]},\n",
    "        'Layer2_strides': {'conv':[1,1,1,1],\n",
    "                          'maxpool':[1,2,2,1]}}\n",
    "\n",
    "def LeNet(x):\n",
    "\n",
    "    x = tf.nn.conv2d(x,weights['wc1'],strides['Layer1_strides']['conv'],'VALID')\n",
    "    x = tf.nn.bias_add(x,biases['bc1'])\n",
    "    x = tf.nn.relu(x)\n",
    "    x = tf.nn.max_pool(x,strides['Layer1_strides']['maxpool'],strides['Layer1_strides']['maxpool'],'VALID')\n",
    "\n",
    "\n",
    "    x = tf.nn.conv2d(x, weights['wc2'], strides['Layer2_strides']['conv'], 'VALID')\n",
    "    x = tf.nn.bias_add(x,biases['bc2'])\n",
    "    x = tf.nn.relu(x)\n",
    "    x = tf.nn.max_pool(x, strides['Layer2_strides']['maxpool'],strides['Layer2_strides']['maxpool'],'VALID')\n",
    "\n",
    "    x = flatten(x)\n",
    "\n",
    "    x = tf.add(tf.matmul(x,weights['wd1']),biases['bd1'])\n",
    "    x = tf.nn.relu(x)\n",
    "\n",
    "    x = tf.add(tf.matmul(x, weights['wd2']), biases['bd2'])\n",
    "    x = tf.nn.relu(x)\n",
    "    x = tf.nn.dropout(x, keep_prob)\n",
    "\n",
    "    logits = tf.add(tf.matmul(x, weights['out']), biases['out'])\n",
    "    return logits"
   ]
  },
  {
   "cell_type": "markdown",
   "metadata": {
    "deletable": true,
    "editable": true
   },
   "source": [
    "### Train, Validate and Test the Model"
   ]
  },
  {
   "cell_type": "markdown",
   "metadata": {
    "deletable": true,
    "editable": true
   },
   "source": [
    "A validation set can be used to assess how well the model is performing. A low accuracy on the training and validation\n",
    "sets imply underfitting. A high accuracy on the training set but low accuracy on the validation set implies overfitting."
   ]
  },
  {
   "cell_type": "code",
   "execution_count": 37,
   "metadata": {
    "collapsed": true,
    "deletable": true,
    "editable": true
   },
   "outputs": [],
   "source": [
    "#epochs and batch size definition\n",
    "EPOCHS = 10\n",
    "BATCH_SIZE = 128\n",
    "rate = 0.001"
   ]
  },
  {
   "cell_type": "code",
   "execution_count": 38,
   "metadata": {
    "collapsed": false,
    "deletable": true,
    "editable": true
   },
   "outputs": [
    {
     "name": "stdout",
     "output_type": "stream",
     "text": [
      "Training...\n",
      "\n",
      "EPOCH 1 ...\n",
      "Validation Accuracy = 0.520\n",
      "\n",
      "EPOCH 2 ...\n",
      "Validation Accuracy = 0.722\n",
      "\n",
      "EPOCH 3 ...\n",
      "Validation Accuracy = 0.795\n",
      "\n",
      "EPOCH 4 ...\n",
      "Validation Accuracy = 0.824\n",
      "\n",
      "EPOCH 5 ...\n",
      "Validation Accuracy = 0.851\n",
      "\n",
      "EPOCH 6 ...\n",
      "Validation Accuracy = 0.875\n",
      "\n",
      "EPOCH 7 ...\n",
      "Validation Accuracy = 0.876\n",
      "\n",
      "EPOCH 8 ...\n",
      "Validation Accuracy = 0.886\n",
      "\n",
      "EPOCH 9 ...\n",
      "Validation Accuracy = 0.895\n",
      "\n",
      "EPOCH 10 ...\n",
      "Validation Accuracy = 0.900\n",
      "\n",
      "Model saved\n"
     ]
    }
   ],
   "source": [
    "### Train your model here.\n",
    "### Calculate and report the accuracy on the training and validation set.\n",
    "### Once a final model architecture is selected, \n",
    "### the accuracy on the test set should be calculated and reported as well.\n",
    "### Feel free to use as many code cells as needed.\n",
    "from sklearn.utils import shuffle\n",
    "import tensorflow as tf\n",
    "x = tf.placeholder(tf.float32, (None, X_train.shape[1], X_train.shape[2], X_train.shape[3]))\n",
    "y = tf.placeholder(tf.int32, (None))\n",
    "one_hot_y = tf.one_hot(y, 43)\n",
    "\n",
    "\n",
    "\n",
    "logits = LeNet(x)\n",
    "cross_entropy = tf.nn.softmax_cross_entropy_with_logits(logits = logits, labels = one_hot_y)\n",
    "loss_operation = tf.reduce_mean(cross_entropy)\n",
    "optimizer = tf.train.AdamOptimizer(learning_rate = rate)\n",
    "training_operation = optimizer.minimize(loss_operation)\n",
    "\n",
    "correct_prediction = tf.equal(tf.argmax(logits, 1), tf.argmax(one_hot_y, 1))\n",
    "accuracy_operation = tf.reduce_mean(tf.cast(correct_prediction, tf.float32))\n",
    "saver = tf.train.Saver()\n",
    "\n",
    "def evaluate(X_data, y_data):\n",
    "    num_examples = len(X_data)\n",
    "    total_accuracy = 0\n",
    "    sess = tf.get_default_session()\n",
    "    for offset in range(0, num_examples, BATCH_SIZE):\n",
    "        batch_x, batch_y = X_data[offset:offset+BATCH_SIZE], y_data[offset:offset+BATCH_SIZE]\n",
    "        accuracy = sess.run(accuracy_operation, feed_dict={x: batch_x, y: batch_y})\n",
    "        total_accuracy += (accuracy * len(batch_x))\n",
    "    return total_accuracy / num_examples\n",
    "\n",
    "\n",
    "with tf.Session() as sess:\n",
    "    sess.run(tf.global_variables_initializer())\n",
    "    num_examples = len(X_train)\n",
    "\n",
    "    print(\"Training...\")\n",
    "    print()\n",
    "    for i in range(EPOCHS):\n",
    "        X_train, y_train = shuffle(X_train, y_train)\n",
    "        for offset in range(0, num_examples, BATCH_SIZE):\n",
    "            end = offset + BATCH_SIZE\n",
    "            batch_x, batch_y = X_train[offset:end], y_train[offset:end]\n",
    "            sess.run(training_operation, feed_dict={x: batch_x, y: batch_y})\n",
    "\n",
    "        validation_accuracy = evaluate(X_valid, y_valid)\n",
    "        print(\"EPOCH {} ...\".format(i + 1))\n",
    "        print(\"Validation Accuracy = {:.3f}\".format(validation_accuracy))\n",
    "        print()\n",
    "\n",
    "    saver.save(sess, './lenet')\n",
    "    print(\"Model saved\")"
   ]
  },
  {
   "cell_type": "code",
   "execution_count": 18,
   "metadata": {
    "collapsed": true,
    "deletable": true,
    "editable": true
   },
   "outputs": [],
   "source": [
    "import tensorflow as tf\n",
    "from tensorflow.contrib.layers import flatten \n",
    "keep_prob = 0.5\n",
    "def lenet_2(x):\n",
    "    mu = 0\n",
    "    sigma = 0.1\n",
    "    n_classes = 43\n",
    "    weights = {\n",
    "        'wc1': tf.Variable(tf.random_normal([5,5,1,6],mu,sigma)),\n",
    "        'wc2': tf.Variable(tf.random_normal([5, 5, 6, 16],mu,sigma)),\n",
    "        'wd1': tf.Variable(tf.random_normal([694, 100],mu,sigma)),\n",
    "        'wd2': tf.Variable(tf.random_normal([100, 84],mu,sigma)),\n",
    "        'out': tf.Variable(tf.random_normal([84, n_classes],mu,sigma))\n",
    "             }\n",
    "\n",
    "    biases = {\n",
    "        'bc1': tf.Variable(tf.zeros([6])),\n",
    "        'bc2': tf.Variable(tf.zeros([16])),\n",
    "        'bd1': tf.Variable(tf.zeros([100])),\n",
    "        'bd2': tf.Variable(tf.zeros([84])),\n",
    "        'out': tf.Variable(tf.zeros([n_classes]))}\n",
    "\n",
    "    strides = {\n",
    "            'Layer1_strides': {'conv':[1,1,1,1],\n",
    "                              'maxpool':[1,2,2,1]},\n",
    "            'Layer2_strides': {'conv':[1,1,1,1],\n",
    "                              'maxpool':[1,2,2,1]}}\n",
    "\n",
    "\n",
    "\n",
    "    x = tf.nn.conv2d(x,weights['wc1'],strides['Layer1_strides']['conv'],'VALID')\n",
    "    x = tf.nn.bias_add(x,biases['bc1'])\n",
    "    x = tf.nn.relu(x)\n",
    "    x = tf.nn.max_pool(x,strides['Layer1_strides']['maxpool'],strides['Layer1_strides']['maxpool'],'VALID')\n",
    "    #second subsampling layer\n",
    "    temp = tf.nn.max_pool(x,strides['Layer1_strides']['maxpool'],strides['Layer1_strides']['maxpool'],'VALID')\n",
    "    temp = flatten(temp)\n",
    "\n",
    "    x = tf.nn.conv2d(x, weights['wc2'], strides['Layer2_strides']['conv'], 'VALID')\n",
    "    x = tf.nn.bias_add(x,biases['bc2'])\n",
    "    x = tf.nn.relu(x)\n",
    "    x = tf.nn.max_pool(x, strides['Layer2_strides']['maxpool'],strides['Layer2_strides']['maxpool'],'VALID')\n",
    "\n",
    "    x = tf.concat([temp, flatten(x)], 1)\n",
    "\n",
    "    x = tf.add(tf.matmul(x,weights['wd1']),biases['bd1'])\n",
    "    x = tf.nn.relu(x)\n",
    "\n",
    "    #x = tf.nn.dropout(x, keep_prob)\n",
    "    \n",
    "    x = tf.add(tf.matmul(x, weights['wd2']), biases['bd2'])\n",
    "    x = tf.nn.relu(x)\n",
    "\n",
    "    x = tf.nn.dropout(x, keep_prob)\n",
    "    \n",
    "    logits = tf.add(tf.matmul(x, weights['out']), biases['out'])\n",
    "    return logits"
   ]
  },
  {
   "cell_type": "code",
   "execution_count": 52,
   "metadata": {
    "collapsed": false,
    "deletable": true,
    "editable": true
   },
   "outputs": [
    {
     "name": "stdout",
     "output_type": "stream",
     "text": [
      "Training...\n",
      "\n",
      "EPOCH 1 ...\n",
      "Validation Accuracy = 0.545\n",
      "\n",
      "EPOCH 2 ...\n",
      "Validation Accuracy = 0.705\n",
      "\n",
      "EPOCH 3 ...\n",
      "Validation Accuracy = 0.793\n",
      "\n",
      "EPOCH 4 ...\n",
      "Validation Accuracy = 0.818\n",
      "\n",
      "EPOCH 5 ...\n",
      "Validation Accuracy = 0.837\n",
      "\n",
      "EPOCH 6 ...\n",
      "Validation Accuracy = 0.851\n",
      "\n",
      "EPOCH 7 ...\n",
      "Validation Accuracy = 0.861\n",
      "\n",
      "EPOCH 8 ...\n",
      "Validation Accuracy = 0.873\n",
      "\n",
      "EPOCH 9 ...\n",
      "Validation Accuracy = 0.876\n",
      "\n",
      "EPOCH 10 ...\n",
      "Validation Accuracy = 0.880\n",
      "\n",
      "Model saved\n"
     ]
    }
   ],
   "source": [
    "### Train your model here.\n",
    "### Calculate and report the accuracy on the training and validation set.\n",
    "### Once a final model architecture is selected, \n",
    "### the accuracy on the test set should be calculated and reported as well.\n",
    "### Feel free to use as many code cells as needed.\n",
    "from sklearn.utils import shuffle\n",
    "import tensorflow as tf\n",
    "x = tf.placeholder(tf.float32, (None, X_train.shape[1], X_train.shape[2], X_train.shape[3]))\n",
    "y = tf.placeholder(tf.int32, (None))\n",
    "one_hot_y = tf.one_hot(y, 43)\n",
    "\n",
    "save_file = './train_model.ckpt'\n",
    "\n",
    "\n",
    "\n",
    "logits = lenet_2(x)\n",
    "cross_entropy = tf.nn.softmax_cross_entropy_with_logits(logits = logits, labels = one_hot_y)\n",
    "loss_operation = tf.reduce_mean(cross_entropy)\n",
    "optimizer = tf.train.AdamOptimizer(learning_rate = rate)\n",
    "training_operation = optimizer.minimize(loss_operation)\n",
    "\n",
    "correct_prediction = tf.equal(tf.argmax(logits, 1), tf.argmax(one_hot_y, 1))\n",
    "accuracy_operation = tf.reduce_mean(tf.cast(correct_prediction, tf.float32))\n",
    "saver = tf.train.Saver()\n",
    "\n",
    "def evaluate(X_data, y_data):\n",
    "    num_examples = len(X_data)\n",
    "    total_accuracy = 0\n",
    "    sess = tf.get_default_session()\n",
    "    for offset in range(0, num_examples, BATCH_SIZE):\n",
    "        batch_x, batch_y = X_data[offset:offset+BATCH_SIZE], y_data[offset:offset+BATCH_SIZE]\n",
    "        accuracy = sess.run(accuracy_operation, feed_dict={x: batch_x, y: batch_y})\n",
    "        total_accuracy += (accuracy * len(batch_x))\n",
    "    return total_accuracy / num_examples\n",
    "\n",
    "\n",
    "with tf.Session() as sess:\n",
    "    sess.run(tf.global_variables_initializer())\n",
    "    num_examples = len(X_train)\n",
    "\n",
    "    print(\"Training...\")\n",
    "    print()\n",
    "    for i in range(EPOCHS):\n",
    "        X_train, y_train = shuffle(X_train, y_train)\n",
    "        for offset in range(0, num_examples, BATCH_SIZE):\n",
    "            end = offset + BATCH_SIZE\n",
    "            batch_x, batch_y = X_train[offset:end], y_train[offset:end]\n",
    "            sess.run(training_operation, feed_dict={x: batch_x, y: batch_y})\n",
    "\n",
    "        validation_accuracy = evaluate(X_valid, y_valid)\n",
    "        print(\"EPOCH {} ...\".format(i + 1))\n",
    "        print(\"Validation Accuracy = {:.3f}\".format(validation_accuracy))\n",
    "        print()\n",
    "\n",
    "    saver.save(sess, save_file)\n",
    "    print(\"Model saved\")"
   ]
  },
  {
   "cell_type": "code",
   "execution_count": 39,
   "metadata": {
    "collapsed": true,
    "deletable": true,
    "editable": true
   },
   "outputs": [],
   "source": [
    "#normaliye the test set\n",
    "x_test_temp = X_test\n",
    "x_test_grayscale = temp = np.sum(X_test/3, axis=3, keepdims=True)\n",
    "X_test = (x_test_grayscale - 127.5)/255"
   ]
  },
  {
   "cell_type": "code",
   "execution_count": 40,
   "metadata": {
    "collapsed": false,
    "deletable": true,
    "editable": true
   },
   "outputs": [
    {
     "name": "stdout",
     "output_type": "stream",
     "text": [
      "Test Accuracy = 0.882\n"
     ]
    }
   ],
   "source": [
    "#test the model on the test set \n",
    "#tf.reset_default_graph()\n",
    "save_file = './leNet'\n",
    "with tf.Session() as sess:\n",
    "    saver.restore(sess, tf.train.latest_checkpoint('.'))\n",
    "    #saver.restore(sess,save_file)\n",
    "    test_accuracy = evaluate(X_test, y_test)\n",
    "    print(\"Test Accuracy = {:.3f}\".format(test_accuracy))"
   ]
  },
  {
   "cell_type": "markdown",
   "metadata": {
    "deletable": true,
    "editable": true
   },
   "source": [
    "---\n",
    "\n",
    "## Step 3: Test a Model on New Images\n",
    "\n",
    "To give yourself more insight into how your model is working, download at least five pictures of German traffic signs from the web and use your model to predict the traffic sign type.\n",
    "\n",
    "You may find `signnames.csv` useful as it contains mappings from the class id (integer) to the actual sign name."
   ]
  },
  {
   "cell_type": "markdown",
   "metadata": {
    "deletable": true,
    "editable": true
   },
   "source": [
    "### Load and Output the Images"
   ]
  },
  {
   "cell_type": "code",
   "execution_count": 7,
   "metadata": {
    "collapsed": false,
    "deletable": true,
    "editable": true
   },
   "outputs": [
    {
     "name": "stdout",
     "output_type": "stream",
     "text": [
      "Input Image shape: (5, 32, 32, 3)\n"
     ]
    }
   ],
   "source": [
    "### Load the images and plot them here.\n",
    "### Feel free to use as many code cells as needed.\n",
    "import glob\n",
    "import matplotlib.pyplot as plt\n",
    "from PIL import Image\n",
    "import numpy as np\n",
    "#tf.reset_default_graph()\n",
    "filelist = glob.glob('./traffic_sign_images/*.jpg')\n",
    "new_width  = 32\n",
    "new_height = 32\n",
    "my_images = np.array([np.array(Image.open(fname).resize((new_width, new_height), Image.ANTIALIAS)) for fname in filelist])\n",
    "\n",
    "print('Input Image shape:',my_images.shape)"
   ]
  },
  {
   "cell_type": "markdown",
   "metadata": {
    "deletable": true,
    "editable": true
   },
   "source": [
    "### Predict the Sign Type for Each Image"
   ]
  },
  {
   "cell_type": "code",
   "execution_count": 8,
   "metadata": {
    "collapsed": false,
    "deletable": true,
    "editable": true
   },
   "outputs": [
    {
     "data": {
      "text/plain": [
       "(5, 32, 32, 1)"
      ]
     },
     "execution_count": 8,
     "metadata": {},
     "output_type": "execute_result"
    }
   ],
   "source": [
    "### Run the predictions here and use the model to output the prediction for each image.\n",
    "### Make sure to pre-process the images with the same pre-processing pipeline used earlier.\n",
    "### Feel free to use as many code cells as needed.\n",
    "\n",
    "images_normalised = np.sum(my_images/3, axis=3, keepdims=True)\n",
    "images_normalised = (images_normalised - 127.5)/255\n",
    "labels = [12,11,14,2,3]\n",
    "images_normalised.shape"
   ]
  },
  {
   "cell_type": "code",
   "execution_count": 9,
   "metadata": {
    "collapsed": false,
    "deletable": true,
    "editable": true
   },
   "outputs": [
    {
     "data": {
      "text/plain": [
       "<matplotlib.text.Text at 0x7f70614bc080>"
      ]
     },
     "execution_count": 9,
     "metadata": {},
     "output_type": "execute_result"
    },
    {
     "data": {
      "image/png": "[encoded data removed]",
      "text/plain": [
       "<matplotlib.figure.Figure at 0x7f706150c9e8>"
      ]
     },
     "metadata": {},
     "output_type": "display_data"
    }
   ],
   "source": [
    "import random\n",
    "index = random.randint(0,4)\n",
    "image = images_normalised[index].squeeze()\n",
    "images_normalised[index].shape\n",
    "plt.figure(figsize=(5,5))\n",
    "plt.imshow(image,cmap='gray')\n",
    "plt.title(str(y_train[index]))"
   ]
  },
  {
   "cell_type": "markdown",
   "metadata": {
    "deletable": true,
    "editable": true
   },
   "source": [
    "### Analyze Performance"
   ]
  },
  {
   "cell_type": "code",
   "execution_count": 47,
   "metadata": {
    "collapsed": false,
    "deletable": true,
    "editable": true
   },
   "outputs": [
    {
     "name": "stdout",
     "output_type": "stream",
     "text": [
      "Test Accuracy: [[-23.32111549 -27.15913773 -29.94517708 -34.70682907 -42.56335068\n",
      "  -25.06363869 -27.19624901 -32.21824646 -34.14529037   0.19716884\n",
      "  -22.04166603  19.3076992    6.44157171 -18.070858   -28.09252548\n",
      "  -32.6187439   -0.26347771 -17.45253181  -7.42821312  -5.49876642\n",
      "    5.70846128  -8.22666836 -14.09731293   2.61742163   5.02736473\n",
      "    4.23911619   8.26091862  10.18511009  11.5623188   -8.16900826\n",
      "   14.48359013 -31.46639633 -15.09622574   2.32915282  -8.90222836\n",
      "  -12.95611668  -0.14563644 -16.23273087 -14.00427532 -25.25823975\n",
      "   -0.67026597   2.0911715  -21.72380638]\n",
      " [ -7.10609198  24.75937271  26.88153839  -1.52063334   5.08660746\n",
      "   14.43795681 -11.83813381   4.78002596  -5.90831757 -42.84202194\n",
      "  -18.32291985  -7.9061141  -21.85694122 -15.83839321 -13.00657463\n",
      "  -25.84912491 -36.17579651 -27.67373848 -28.38005066 -15.39053249\n",
      "  -61.133358    10.29027271 -67.75224304 -19.56674194 -29.0436573\n",
      "  -27.38328552 -47.2538147  -40.7875824  -41.69837952 -18.6973896\n",
      "  -32.63529968   5.40737247 -40.24949646 -18.92594528 -36.14431\n",
      "  -35.33826828 -33.60214996 -14.83181572 -32.485672   -17.64017868\n",
      "    4.407794   -68.18101501 -35.29621124]\n",
      " [-34.29763031  -6.51821661 -10.22241974 -10.93797493 -27.39155579\n",
      "  -17.37875366  -1.17954361 -15.55876064 -30.97787094  -6.70962\n",
      "  -17.39149857 -10.1021471   17.66461754  10.15223217 -13.75370884\n",
      "   -3.96511626 -22.93814087  -5.05099678  -1.26571572 -26.68267632\n",
      "  -22.11522293 -35.61317444 -38.10015106 -20.43188858 -25.98443413\n",
      "  -13.89993477  -2.54659629 -25.12185097  -8.67290211 -25.63221741\n",
      "  -12.25471783 -32.37640381   0.84840786  -5.92855072 -11.22519875\n",
      "  -13.23060417 -18.48978996 -15.51845551  -2.23553705 -25.63378716\n",
      "    4.81322527   0.69659972   8.31144905]\n",
      " [ -6.28937912   1.18899632 -10.25334167 -12.12934208  -3.97644448\n",
      "  -16.2075882  -21.1543808  -17.9875679  -10.84727192  -1.60529125\n",
      "   -4.53842497  -9.8861618   -1.15786052  -4.10712814  10.3472681\n",
      "   -6.59064913 -12.49744511  14.99089622  -8.86371613 -15.28971291\n",
      "   -6.86085129 -17.74582481 -15.31390381 -22.25157547 -32.21178055\n",
      "   -9.81682777  -9.76077843 -34.00992966 -14.35681534 -12.52422905\n",
      "  -11.78931999 -14.84062576  -8.87502193   9.63968658  -0.40510726\n",
      "    1.73200786  -8.4702301    4.76088524 -10.23826504  10.37312794\n",
      "    2.4794302  -10.63003254 -18.85030365]\n",
      " [-15.82856083  -6.53190804  -3.46622062 -16.7584362  -22.40041542\n",
      "   -5.7850337  -16.47623253   6.18007612  -7.25256681   5.41000843\n",
      "    7.81784725   9.65213966  15.97326946   1.04355812  -3.81442189\n",
      "   -9.85219097   5.26062679  -3.6385057  -12.35367393 -24.27009201\n",
      "  -12.74673557  -9.50331974 -32.41493225  -8.46801853 -21.11629868\n",
      "   -4.3822484   -9.35654068 -15.95248127 -12.72799301 -15.07524395\n",
      "    2.00042319 -24.58184814 -11.33090591  -2.93068194 -11.6976099\n",
      "    2.33008862 -10.00277138  -9.19410229 -16.62935257 -19.96595001\n",
      "    8.52379894 -10.86095905   4.51278639]]\n",
      "Test soft MAx: [[  3.03964990e-19   6.54624921e-21   4.03673454e-22   3.45200838e-24\n",
      "    1.33668128e-27   5.32176082e-20   6.30774977e-21   4.15764912e-23\n",
      "    6.05264179e-24   4.97375607e-09   1.09265089e-18   9.91476834e-01\n",
      "    2.56209137e-06   5.79405013e-17   2.57411175e-21   2.78556978e-23\n",
      "    3.13782400e-09   1.07526889e-16   2.42674067e-12   1.67098141e-11\n",
      "    1.23086033e-06   1.09209169e-12   3.08084115e-15   5.59483553e-08\n",
      "    6.22891093e-07   2.83191582e-07   1.58025323e-05   1.08241169e-04\n",
      "    4.29048698e-04   1.15691148e-12   7.96523504e-03   8.81807716e-23\n",
      "    1.13461524e-15   4.19366444e-08   5.55734170e-13   9.64461614e-15\n",
      "    3.53025920e-09   3.64141979e-16   3.38124223e-15   4.38066839e-20\n",
      "    2.08911755e-09   3.30551764e-08   1.50150269e-18]\n",
      " [  1.54963407e-15   1.06960639e-01   8.93035769e-01   4.13011612e-13\n",
      "    3.05809100e-10   3.52119469e-06   1.36498673e-17   2.25062816e-10\n",
      "    5.13352068e-15   4.68072353e-31   2.08363323e-20   6.96280035e-16\n",
      "    6.08157535e-22   2.49941204e-19   4.24307424e-18   1.12261991e-23\n",
      "    3.67634508e-28   1.81056436e-24   8.93440590e-25   3.91148172e-19\n",
      "    0.00000000e+00   5.56382318e-08   0.00000000e+00   6.00671459e-21\n",
      "    4.60114364e-25   2.42077963e-24   5.67929075e-33   3.65210371e-30\n",
      "    1.46888890e-30   1.43282368e-20   1.26775248e-26   4.21460339e-10\n",
      "    6.25505107e-30   1.14006984e-20   3.79394188e-28   8.49474061e-28\n",
      "    4.82099593e-27   6.83893543e-19   1.47237005e-26   4.12413448e-20\n",
      "    1.55112242e-10   0.00000000e+00   8.85962441e-28]\n",
      " [  2.70897896e-23   3.14233396e-11   7.73637610e-13   3.78247347e-13\n",
      "    2.70442985e-20   6.03365391e-16   6.54347465e-09   3.72387066e-15\n",
      "    7.49135688e-22   2.59494006e-11   5.95726636e-16   8.72510994e-13\n",
      "    9.99364674e-01   5.45929361e-04   2.26421580e-14   4.03691747e-10\n",
      "    2.32364216e-18   1.36288134e-10   6.00322148e-09   5.49463705e-20\n",
      "    5.29126634e-18   7.26895723e-24   6.04493856e-25   2.84854070e-17\n",
      "    1.10454061e-19   1.95619938e-14   1.66765135e-09   2.61695854e-19\n",
      "    3.64320900e-12   1.57089314e-19   1.01372964e-13   1.85005111e-22\n",
      "    4.97206578e-08   5.66684338e-11   2.83815560e-13   3.82031951e-14\n",
      "    1.98638914e-16   3.87701634e-15   2.27612884e-09   1.56843228e-19\n",
      "    2.62080698e-06   4.27176730e-08   8.66352275e-05]\n",
      " [  5.59337465e-10   9.89671548e-07   1.06205461e-11   1.62708334e-12\n",
      "    5.65156499e-09   2.75581746e-14   1.95832548e-16   4.64746268e-15\n",
      "    5.86415985e-12   6.05267516e-08   3.22183591e-09   1.53324315e-11\n",
      "    9.46813401e-08   4.95922059e-09   9.39459354e-03   4.13841655e-10\n",
      "    1.12601627e-12   9.76292729e-01   4.26239356e-11   6.90046910e-14\n",
      "    3.15854232e-10   5.91837887e-15   6.73554365e-14   6.53703699e-17\n",
      "    3.08829538e-21   1.64332107e-11   1.73805831e-11   5.11437533e-22\n",
      "    1.75400506e-13   1.09625850e-12   2.28601946e-12   1.08122150e-13\n",
      "    4.21447911e-11   4.62998124e-03   2.00992844e-07   1.70340559e-06\n",
      "    6.31745767e-11   3.52162206e-05   1.07818919e-11   9.64070484e-03\n",
      "    3.59682576e-06   7.28704857e-12   1.96124973e-15]\n",
      " [  1.53969024e-14   1.67849012e-10   3.60022634e-09   6.07566780e-15\n",
      "    2.15433665e-17   3.54227259e-10   8.05663180e-15   5.56753184e-05\n",
      "    8.16470364e-11   2.57766678e-05   2.86376831e-04   1.79292029e-03\n",
      "    9.97224092e-01   3.27266463e-07   2.54160293e-09   6.06649410e-12\n",
      "    2.21999071e-05   3.03045145e-09   4.97230783e-13   3.32141037e-18\n",
      "    3.35624025e-13   8.59905376e-12   9.63969548e-22   2.42145418e-11\n",
      "    7.78032188e-17   1.44046752e-09   9.95853747e-12   1.36023954e-14\n",
      "    3.41973466e-13   3.27035355e-14   8.52045616e-07   2.43180388e-18\n",
      "    1.38273724e-12   6.15050633e-09   9.58258212e-13   1.18477158e-06\n",
      "    5.21845544e-12   1.17149944e-11   6.91279216e-15   2.45803270e-16\n",
      "    5.80134685e-04   2.21225620e-12   1.05091594e-05]]\n",
      "Test soft MAx: TopKV2(values=array([[  9.91476834e-01,   7.96523504e-03,   4.29048698e-04],\n",
      "       [  8.93035769e-01,   1.06960639e-01,   3.52119469e-06],\n",
      "       [  9.99364674e-01,   5.45929361e-04,   8.66352275e-05],\n",
      "       [  9.76292729e-01,   9.64070484e-03,   9.39459354e-03],\n",
      "       [  9.97224092e-01,   1.79292029e-03,   5.80134685e-04]], dtype=float32), indices=array([[11, 30, 28],\n",
      "       [ 2,  1,  5],\n",
      "       [12, 13, 42],\n",
      "       [17, 39, 14],\n",
      "       [12, 11, 40]], dtype=int32))\n"
     ]
    }
   ],
   "source": [
    "### Calculate the accuracy for these 5 new images. \n",
    "### For example, if the model predicted 1 out of 5 signs correctly, it's 20% accurate on these new images.\n",
    "with tf.Session() as sess:   \n",
    "    saver.restore(sess, './lenet')\n",
    "    for i in range(images_normalised.shape[0]):\n",
    "        #test_accuracy = evaluate(images_normalised, labels)\n",
    "        predictions = sess.run(logits,feed_dict={x:images_normalised})\n",
    "        #predictions = logits(x)\n",
    "        soft_max_pred = sess.run(tf.nn.softmax(predictions, dim=-1, name=None))\n",
    "        top_5 = sess.run(tf.nn.top_k(soft_max_pred, k=3))\n",
    "#print('Test Accuracy: {}'.format(predictions))\n",
    "#print('Test soft MAx: {}'.format(soft_max_pred))\n",
    "print('Test soft MAx: {}'.format(top_5))"
   ]
  },
  {
   "cell_type": "markdown",
   "metadata": {
    "deletable": true,
    "editable": true
   },
   "source": [
    "### Output Top 5 Softmax Probabilities For Each Image Found on the Web"
   ]
  },
  {
   "cell_type": "markdown",
   "metadata": {
    "deletable": true,
    "editable": true
   },
   "source": [
    "For each of the new images, print out the model's softmax probabilities to show the **certainty** of the model's predictions (limit the output to the top 5 probabilities for each image). [`tf.nn.top_k`](https://www.tensorflow.org/versions/r0.12/api_docs/python/nn.html#top_k) could prove helpful here. \n",
    "\n",
    "The example below demonstrates how tf.nn.top_k can be used to find the top k predictions for each image.\n",
    "\n",
    "`tf.nn.top_k` will return the values and indices (class ids) of the top k predictions. So if k=3, for each sign, it'll return the 3 largest probabilities (out of a possible 43) and the correspoding class ids.\n",
    "\n",
    "Take this numpy array as an example. The values in the array represent predictions. The array contains softmax probabilities for five candidate images with six possible classes. `tk.nn.top_k` is used to choose the three classes with the highest probability:\n",
    "\n",
    "```\n",
    "# (5, 6) array\n",
    "a = np.array([[ 0.24879643,  0.07032244,  0.12641572,  0.34763842,  0.07893497,\n",
    "         0.12789202],\n",
    "       [ 0.28086119,  0.27569815,  0.08594638,  0.0178669 ,  0.18063401,\n",
    "         0.15899337],\n",
    "       [ 0.26076848,  0.23664738,  0.08020603,  0.07001922,  0.1134371 ,\n",
    "         0.23892179],\n",
    "       [ 0.11943333,  0.29198961,  0.02605103,  0.26234032,  0.1351348 ,\n",
    "         0.16505091],\n",
    "       [ 0.09561176,  0.34396535,  0.0643941 ,  0.16240774,  0.24206137,\n",
    "         0.09155967]])\n",
    "```\n",
    "\n",
    "Running it through `sess.run(tf.nn.top_k(tf.constant(a), k=3))` produces:\n",
    "\n",
    "```\n",
    "TopKV2(values=array([[ 0.34763842,  0.24879643,  0.12789202],\n",
    "       [ 0.28086119,  0.27569815,  0.18063401],\n",
    "       [ 0.26076848,  0.23892179,  0.23664738],\n",
    "       [ 0.29198961,  0.26234032,  0.16505091],\n",
    "       [ 0.34396535,  0.24206137,  0.16240774]]), indices=array([[3, 0, 5],\n",
    "       [0, 1, 4],\n",
    "       [0, 5, 1],\n",
    "       [1, 3, 5],\n",
    "       [1, 4, 3]], dtype=int32))\n",
    "```\n",
    "\n",
    "Looking just at the first row we get `[ 0.34763842,  0.24879643,  0.12789202]`, you can confirm these are the 3 largest probabilities in `a`. You'll also notice `[3, 0, 5]` are the corresponding indices."
   ]
  },
  {
   "cell_type": "code",
   "execution_count": 14,
   "metadata": {
    "collapsed": false,
    "deletable": true,
    "editable": true
   },
   "outputs": [
    {
     "data": {
      "image/png": "[encoded data removed]",
      "text/plain": [
       "<matplotlib.figure.Figure at 0x7f7048037c50>"
      ]
     },
     "metadata": {},
     "output_type": "display_data"
    }
   ],
   "source": [
    "### Print out the top five softmax probabilities for the predictions on the German traffic sign images found on the web. \n",
    "### Feel free to use as many code cells as needed.\n",
    "images_probablities = [[11, 30, 28],\n",
    "                       [ 2,  1,  5],\n",
    "                       [12, 13, 42],\n",
    "                       [17, 39, 14],\n",
    "                       [12, 11, 40]]\n",
    "plt.figure(figsize=(20,20))\n",
    "k = 1\n",
    "#looping through all the input images and the predctions priority wise\n",
    "for i in range(0,5):\n",
    "    plt.subplot(5,4,k)\n",
    "    plt.imshow(images_normalised[i].squeeze(),\n",
    "               cmap= 'gray')\n",
    "    plt.axis('off')\n",
    "    plt.title('Input')\n",
    "    k = k + 1\n",
    "    for j in range(0,3):\n",
    "        #temp = images_probablities[i][j]\n",
    "        plt.subplot(5, 4, k)\n",
    "        plt.imshow(X_train[separated_elements[str(images_probablities[i][j])][0][0]].squeeze(),cmap = 'gray')\n",
    "        plt.title(str(images_probablities[i][j]))\n",
    "        plt.axis('off')\n",
    "        k = k + 1"
   ]
  },
  {
   "cell_type": "markdown",
   "metadata": {
    "deletable": true,
    "editable": true
   },
   "source": [
    "---\n",
    "\n",
    "## Step 4: Visualize the Neural Network's State with Test Images\n",
    "\n",
    " This Section is not required to complete but acts as an additional excersise for understaning the output of a neural network's weights. While neural networks can be a great learning device they are often referred to as a black box. We can understand what the weights of a neural network look like better by plotting their feature maps. After successfully training your neural network you can see what it's feature maps look like by plotting the output of the network's weight layers in response to a test stimuli image. From these plotted feature maps, it's possible to see what characteristics of an image the network finds interesting. For a sign, maybe the inner network feature maps react with high activation to the sign's boundary outline or to the contrast in the sign's painted symbol.\n",
    "\n",
    " Provided for you below is the function code that allows you to get the visualization output of any tensorflow weight layer you want. The inputs to the function should be a stimuli image, one used during training or a new one you provided, and then the tensorflow variable name that represents the layer's state during the training process, for instance if you wanted to see what the [LeNet lab's](https://classroom.udacity.com/nanodegrees/nd013/parts/fbf77062-5703-404e-b60c-95b78b2f3f9e/modules/6df7ae49-c61c-4bb2-a23e-6527e69209ec/lessons/601ae704-1035-4287-8b11-e2c2716217ad/concepts/d4aca031-508f-4e0b-b493-e7b706120f81) feature maps looked like for it's second convolutional layer you could enter conv2 as the tf_activation variable.\n",
    "\n",
    "For an example of what feature map outputs look like, check out NVIDIA's results in their paper [End-to-End Deep Learning for Self-Driving Cars](https://devblogs.nvidia.com/parallelforall/deep-learning-self-driving-cars/) in the section Visualization of internal CNN State. NVIDIA was able to show that their network's inner weights had high activations to road boundary lines by comparing feature maps from an image with a clear path to one without. Try experimenting with a similar test to show that your trained network's weights are looking for interesting features, whether it's looking at differences in feature maps from images with or without a sign, or even what feature maps look like in a trained network vs a completely untrained one on the same sign image.\n",
    "\n",
    "<figure>\n",
    " <img src=\"visualize_cnn.png\" width=\"380\" alt=\"Combined Image\" />\n",
    " <figcaption>\n",
    " <p></p> \n",
    " <p style=\"text-align: center;\"> Your output should look something like this (above)</p> \n",
    " </figcaption>\n",
    "</figure>\n",
    " <p></p> \n"
   ]
  },
  {
   "cell_type": "code",
   "execution_count": null,
   "metadata": {
    "collapsed": true,
    "deletable": true,
    "editable": true
   },
   "outputs": [],
   "source": [
    "### Visualize your network's feature maps here.\n",
    "### Feel free to use as many code cells as needed.\n",
    "\n",
    "# image_input: the test image being fed into the network to produce the feature maps\n",
    "# tf_activation: should be a tf variable name used during your training procedure that represents the calculated state of a specific weight layer\n",
    "# activation_min/max: can be used to view the activation contrast in more detail, by default matplot sets min and max to the actual min and max values of the output\n",
    "# plt_num: used to plot out multiple different weight feature map sets on the same block, just extend the plt number for each new feature map entry\n",
    "\n",
    "def outputFeatureMap(image_input, tf_activation, activation_min=-1, activation_max=-1 ,plt_num=1):\n",
    "    # Here make sure to preprocess your image_input in a way your network expects\n",
    "    # with size, normalization, ect if needed\n",
    "    # image_input =\n",
    "    # Note: x should be the same name as your network's tensorflow data placeholder variable\n",
    "    # If you get an error tf_activation is not defined it maybe having trouble accessing the variable from inside a function\n",
    "    activation = tf_activation.eval(session=sess,feed_dict={x : image_input})\n",
    "    featuremaps = activation.shape[3]\n",
    "    plt.figure(plt_num, figsize=(15,15))\n",
    "    for featuremap in range(featuremaps):\n",
    "        plt.subplot(6,8, featuremap+1) # sets the number of feature maps to show on each row and column\n",
    "        plt.title('FeatureMap ' + str(featuremap)) # displays the feature map number\n",
    "        if activation_min != -1 & activation_max != -1:\n",
    "            plt.imshow(activation[0,:,:, featuremap], interpolation=\"nearest\", vmin =activation_min, vmax=activation_max, cmap=\"gray\")\n",
    "        elif activation_max != -1:\n",
    "            plt.imshow(activation[0,:,:, featuremap], interpolation=\"nearest\", vmax=activation_max, cmap=\"gray\")\n",
    "        elif activation_min !=-1:\n",
    "            plt.imshow(activation[0,:,:, featuremap], interpolation=\"nearest\", vmin=activation_min, cmap=\"gray\")\n",
    "        else:\n",
    "            plt.imshow(activation[0,:,:, featuremap], interpolation=\"nearest\", cmap=\"gray\")"
   ]
  },
  {
   "cell_type": "markdown",
   "metadata": {
    "deletable": true,
    "editable": true
   },
   "source": [
    "### Question 9\n",
    "\n",
    "Discuss how you used the visual output of your trained network's feature maps to show that it had learned to look for interesting characteristics in traffic sign images\n"
   ]
  },
  {
   "cell_type": "markdown",
   "metadata": {
    "deletable": true,
    "editable": true
   },
   "source": [
    "**Answer:**"
   ]
  },
  {
   "cell_type": "markdown",
   "metadata": {
    "deletable": true,
    "editable": true
   },
   "source": [
    "> **Note**: Once you have completed all of the code implementations and successfully answered each question above, you may finalize your work by exporting the iPython Notebook as an HTML document. You can do this by using the menu above and navigating to  \\n\",\n",
    "    \"**File -> Download as -> HTML (.html)**. Include the finished document along with this notebook as your submission."
   ]
  },
  {
   "cell_type": "markdown",
   "metadata": {
    "deletable": true,
    "editable": true
   },
   "source": [
    "### Project Writeup\n",
    "\n",
    "Once you have completed the code implementation, document your results in a project writeup using this [template](https://github.com/udacity/CarND-Traffic-Sign-Classifier-Project/blob/master/writeup_template.md) as a guide. The writeup can be in a markdown or pdf file. "
   ]
  }
 ],
 "metadata": {
  "anaconda-cloud": {},
  "kernelspec": {
   "display_name": "Python 3",
   "language": "python",
   "name": "python3"
  },
  "language_info": {
   "codemirror_mode": {
    "name": "ipython",
    "version": 3
   },
   "file_extension": ".py",
   "mimetype": "text/x-python",
   "name": "python",
   "nbconvert_exporter": "python",
   "pygments_lexer": "ipython3",
   "version": "3.5.2"
  },
  "widgets": {
   "state": {},
   "version": "1.1.2"
  }
 },
 "nbformat": 4,
 "nbformat_minor": 0
}
