{
 "cells": [
  {
   "cell_type": "markdown",
   "metadata": {
    "deletable": true,
    "editable": true
   },
   "source": [
    "# Self-Driving Car Engineer Nanodegree\n",
    "\n",
    "## Deep Learning\n",
    "\n",
    "## Project: Build a Traffic Sign Recognition Classifier\n",
    "\n",
    "In this notebook, a template is provided for you to implement your functionality in stages, which is required to successfully complete this project. If additional code is required that cannot be included in the notebook, be sure that the Python code is successfully imported and included in your submission if necessary. \n",
    "\n",
    "> **Note**: Once you have completed all of the code implementations, you need to finalize your work by exporting the iPython Notebook as an HTML document. Before exporting the notebook to html, all of the code cells need to have been run so that reviewers can see the final implementation and output. You can then export the notebook by using the menu above and navigating to  \\n\",\n",
    "    \"**File -> Download as -> HTML (.html)**. Include the finished document along with this notebook as your submission. \n",
    "\n",
    "In addition to implementing code, there is a writeup to complete. The writeup should be completed in a separate file, which can be either a markdown file or a pdf document. There is a [write up template](https://github.com/udacity/CarND-Traffic-Sign-Classifier-Project/blob/master/writeup_template.md) that can be used to guide the writing process. Completing the code template and writeup template will cover all of the [rubric points](https://review.udacity.com/#!/rubrics/481/view) for this project.\n",
    "\n",
    "The [rubric](https://review.udacity.com/#!/rubrics/481/view) contains \"Stand Out Suggestions\" for enhancing the project beyond the minimum requirements. The stand out suggestions are optional. If you decide to pursue the \"stand out suggestions\", you can include the code in this Ipython notebook and also discuss the results in the writeup file.\n",
    "\n",
    "\n",
    ">**Note:** Code and Markdown cells can be executed using the **Shift + Enter** keyboard shortcut. In addition, Markdown cells can be edited by typically double-clicking the cell to enter edit mode."
   ]
  },
  {
   "cell_type": "markdown",
   "metadata": {
    "deletable": true,
    "editable": true
   },
   "source": [
    "---\n",
    "## Step 0: Load The Data"
   ]
  },
  {
   "cell_type": "code",
   "execution_count": 1,
   "metadata": {
    "collapsed": false,
    "deletable": true,
    "editable": true
   },
   "outputs": [],
   "source": [
    "# Load pickled data\n",
    "import pickle\n",
    "import numpy as np \n",
    "\n",
    "# TODO: Fill this in based on where you saved the training and testing data\n",
    "\n",
    "training_file = \"../../ubuntu/train.p\"\n",
    "validation_file= \"../../ubuntu/valid.p\"\n",
    "testing_file =  \"../../ubuntu/test.p\"\n",
    "\n",
    "\n",
    "with open(training_file, mode='rb') as f:\n",
    "    train = pickle.load(f)\n",
    "with open(validation_file, mode='rb') as f:\n",
    "    valid = pickle.load(f)\n",
    "with open(testing_file, mode='rb') as f:\n",
    "    test = pickle.load(f)\n",
    "    \n",
    "X_train, y_train = train['features'], train['labels']\n",
    "X_valid, y_valid = valid['features'], valid['labels']\n",
    "X_test, y_test = test['features'], test['labels']"
   ]
  },
  {
   "cell_type": "markdown",
   "metadata": {
    "deletable": true,
    "editable": true
   },
   "source": [
    "---\n",
    "\n",
    "## Step 1: Dataset Summary & Exploration\n",
    "\n",
    "The pickled data is a dictionary with 4 key/value pairs:\n",
    "\n",
    "- `'features'` is a 4D array containing raw pixel data of the traffic sign images, (num examples, width, height, channels).\n",
    "- `'labels'` is a 1D array containing the label/class id of the traffic sign. The file `signnames.csv` contains id -> name mappings for each id.\n",
    "- `'sizes'` is a list containing tuples, (width, height) representing the original width and height the image.\n",
    "- `'coords'` is a list containing tuples, (x1, y1, x2, y2) representing coordinates of a bounding box around the sign in the image. **THESE COORDINATES ASSUME THE ORIGINAL IMAGE. THE PICKLED DATA CONTAINS RESIZED VERSIONS (32 by 32) OF THESE IMAGES**\n",
    "\n",
    "Complete the basic data summary below. Use python, numpy and/or pandas methods to calculate the data summary rather than hard coding the results. For example, the [pandas shape method](http://pandas.pydata.org/pandas-docs/stable/generated/pandas.DataFrame.shape.html) might be useful for calculating some of the summary results. "
   ]
  },
  {
   "cell_type": "markdown",
   "metadata": {
    "deletable": true,
    "editable": true
   },
   "source": [
    "### Provide a Basic Summary of the Data Set Using Python, Numpy and/or Pandas"
   ]
  },
  {
   "cell_type": "code",
   "execution_count": 2,
   "metadata": {
    "collapsed": false,
    "deletable": true,
    "editable": true
   },
   "outputs": [
    {
     "name": "stdout",
     "output_type": "stream",
     "text": [
      "Number of training examples = 34799\n",
      "Number of testing examples = 12630\n",
      "Image data shape = (32, 32, 3)\n",
      "Number of classes = 43\n"
     ]
    }
   ],
   "source": [
    "### Replace each question mark with the appropriate value.\n",
    "### Use python, pandas or numpy methods rather than hard coding the results\n",
    "\n",
    "# TODO: Number of training examples\n",
    "n_train = X_train.shape[0]\n",
    "\n",
    "# TODO: Number of testing examples.\n",
    "n_test = X_test.shape[0]\n",
    "\n",
    "# TODO: What's the shape of an traffic sign image?\n",
    "image_shape = X_train.shape[1:]\n",
    "\n",
    "# TODO: How many unique classes/labels there are in the dataset.\n",
    "n_classes = len(set(y_train))\n",
    "\n",
    "print(\"Number of training examples =\", n_train)\n",
    "print(\"Number of testing examples =\", n_test)\n",
    "print(\"Image data shape =\", image_shape)\n",
    "print(\"Number of classes =\", n_classes)"
   ]
  },
  {
   "cell_type": "markdown",
   "metadata": {
    "deletable": true,
    "editable": true
   },
   "source": [
    "### Include an exploratory visualization of the dataset"
   ]
  },
  {
   "cell_type": "markdown",
   "metadata": {
    "deletable": true,
    "editable": true
   },
   "source": [
    "Visualize the German Traffic Signs Dataset using the pickled file(s). This is open ended, suggestions include: plotting traffic sign images, plotting the count of each sign, etc.\n",
    "\n",
    "The [Matplotlib](http://matplotlib.org/) [examples](http://matplotlib.org/examples/index.html) and [gallery](http://matplotlib.org/gallery.html) pages are a great resource for doing visualizations in Python.\n",
    "\n",
    "**NOTE:** It's recommended you start with something simple first. If you wish to do more, come back to it after you've completed the rest of the sections."
   ]
  },
  {
   "cell_type": "code",
   "execution_count": 12,
   "metadata": {
    "collapsed": false,
    "deletable": true,
    "editable": true
   },
   "outputs": [
    {
     "data": {
      "image/png": "[encoded data removed]",
      "text/plain": [
       "<matplotlib.figure.Figure at 0x7f1ffb19c710>"
      ]
     },
     "metadata": {},
     "output_type": "display_data"
    }
   ],
   "source": [
    "# Visualizations will be shown in the notebook.\n",
    "import matplotlib.pyplot as plt\n",
    "%matplotlib inline\n",
    "elements_in_each_class, bins, patches = plt.hist(y_train, n_classes, normed=0)\n",
    "plt.show()"
   ]
  },
  {
   "cell_type": "markdown",
   "metadata": {
    "deletable": true,
    "editable": true
   },
   "source": [
    "----\n",
    "\n",
    "## Step 2: Design and Test a Model Architecture\n",
    "\n",
    "Design and implement a deep learning model that learns to recognize traffic signs. Train and test your model on the [German Traffic Sign Dataset](http://benchmark.ini.rub.de/?section=gtsrb&subsection=dataset).\n",
    "\n",
    "The LeNet-5 implementation shown in the [classroom](https://classroom.udacity.com/nanodegrees/nd013/parts/fbf77062-5703-404e-b60c-95b78b2f3f9e/modules/6df7ae49-c61c-4bb2-a23e-6527e69209ec/lessons/601ae704-1035-4287-8b11-e2c2716217ad/concepts/d4aca031-508f-4e0b-b493-e7b706120f81) at the end of the CNN lesson is a solid starting point. You'll have to change the number of classes and possibly the preprocessing, but aside from that it's plug and play! \n",
    "\n",
    "With the LeNet-5 solution from the lecture, you should expect a validation set accuracy of about 0.89. To meet specifications, the validation set accuracy will need to be at least 0.93. It is possible to get an even higher accuracy, but 0.93 is the minimum for a successful project submission. \n",
    "\n",
    "There are various aspects to consider when thinking about this problem:\n",
    "\n",
    "- Neural network architecture (is the network over or underfitting?)\n",
    "- Play around preprocessing techniques (normalization, rgb to grayscale, etc)\n",
    "- Number of examples per label (some have more than others).\n",
    "- Generate fake data.\n",
    "\n",
    "Here is an example of a [published baseline model on this problem](http://yann.lecun.com/exdb/publis/pdf/sermanet-ijcnn-11.pdf). It's not required to be familiar with the approach used in the paper but, it's good practice to try to read papers like these."
   ]
  },
  {
   "cell_type": "markdown",
   "metadata": {
    "deletable": true,
    "editable": true
   },
   "source": [
    "### Pre-process the Data Set (normalization, grayscale, etc.)"
   ]
  },
  {
   "cell_type": "markdown",
   "metadata": {
    "deletable": true,
    "editable": true
   },
   "source": [
    "Use the code cell (or multiple code cells, if necessary) to implement the first step of your project."
   ]
  },
  {
   "cell_type": "code",
   "execution_count": 4,
   "metadata": {
    "collapsed": false,
    "deletable": true,
    "editable": true
   },
   "outputs": [],
   "source": [
    "#arrange indices of images in the order of there classes in a dictionary\n",
    "#i.e separated_elements['0'] = [3 4 5 6], indices 3 ,4, 5, 6 of x_train belong to class 0 and so on \n",
    "separated_elements = dict()\n",
    "for i in range(n_classes):\n",
    "    #get the indices of images in x_train where images belong to class i\n",
    "    separated_elements[str(i)] = np.array(np.where(y_train == i))"
   ]
  },
  {
   "cell_type": "code",
   "execution_count": 5,
   "metadata": {
    "collapsed": false,
    "deletable": true,
    "editable": true
   },
   "outputs": [
    {
     "data": {
      "text/plain": [
       "<matplotlib.text.Text at 0x7f1ffb112ba8>"
      ]
     },
     "execution_count": 5,
     "metadata": {},
     "output_type": "execute_result"
    },
    {
     "data": {
      "image/png": "[encoded data removed]",
      "text/plain": [
       "<matplotlib.figure.Figure at 0x7f2014484550>"
      ]
     },
     "metadata": {},
     "output_type": "display_data"
    }
   ],
   "source": [
    "#translate the image\n",
    "import random\n",
    "import cv2\n",
    "%matplotlib inline\n",
    "def Translate_Image(input_x, random_X, random_Y):\n",
    "    # Function to perform image translation by the amount specified in translation_matrix\n",
    "    # Translation matrix is specified by M=[1 0 random_x; 0 1 random_Y]\n",
    "    # translate_X and translate_Y are the number of pixels by which we are doing the translation\n",
    "    # note that translation_matrix should be of np.float32() format\n",
    "    height, width = input_x.shape[:2]\n",
    "    translation_matrix = np.float32([[1,0,random_X],\n",
    "                                    [0,1,random_Y]])\n",
    "    return cv2.warpAffine(input_x,\n",
    "                          M = translation_matrix,\n",
    "                          dsize = (height, width))\n",
    "\n",
    "random_index = random.randint(0,X_train.shape[0]-1)\n",
    "image = X_train[random_index]\n",
    "random_x = random.randint(-2, 2)\n",
    "random_y = random.randint(-2, 2)\n",
    "#when random_x and random_Y is zero , we have a duplicate copy of the same image !\n",
    "if random_x == 0 and random_y == 0:\n",
    "    random_x = 1\n",
    "    random_y = 1\n",
    "jittered_image = Translate_Image(image,\n",
    "                                    random_X = random_x,\n",
    "                                    random_Y = random_y)\n",
    "temp_str = 'translated '+ str(y_train[random_index])\n",
    "\n",
    "fig = plt.figure()\n",
    "a=fig.add_subplot(1,2,1)\n",
    "disp_image = image.squeeze()\n",
    "plt.imshow(image.squeeze())\n",
    "plt.title('Original image')\n",
    "\n",
    "\n",
    "a=fig.add_subplot(1,2,2)\n",
    "plt.imshow(jittered_image.squeeze())\n",
    "plt.title(temp_str)\n"
   ]
  },
  {
   "cell_type": "code",
   "execution_count": 6,
   "metadata": {
    "collapsed": false,
    "deletable": true,
    "editable": true
   },
   "outputs": [
    {
     "data": {
      "text/plain": [
       "<matplotlib.text.Text at 0x7f1ffb06ac50>"
      ]
     },
     "execution_count": 6,
     "metadata": {},
     "output_type": "execute_result"
    },
    {
     "data": {
      "image/png": "[encoded data removed]",
      "text/plain": [
       "<matplotlib.figure.Figure at 0x7f20143da748>"
      ]
     },
     "metadata": {},
     "output_type": "display_data"
    }
   ],
   "source": [
    "#rotating the image\n",
    "\n",
    "def Rotate_Image(input_x, random_angle):\n",
    "    # Function to perform image rotation by the amount specified in random_angle\n",
    "    # Translation matrix is specified by M=[1 0 random_x; 0 1 random_Y]\n",
    "    # translate_X and translate_Y are the number of pixels by which we are doing the translation\n",
    "    # note that translation_matrix should be of np.float32() format\n",
    "    height,width = input_x.shape[:2]\n",
    "    center = [height/2,width/2]\n",
    "    translation_matrix = cv2.getRotationMatrix2D((center[0],center[1]),\n",
    "                                                 angle = random_angle,\n",
    "                                                 scale = 1)\n",
    "    return cv2.warpAffine(input_x,\n",
    "                          M = translation_matrix ,\n",
    "                          dsize = (height, width))\n",
    "\n",
    "random_index = random.randint(0,X_train.shape[0]-1)\n",
    "image = X_train[random_index]\n",
    "rand_angle = random.randint(-15,15)\n",
    "jittered_image = Rotate_Image(image,\n",
    "                              random_angle = rand_angle)\n",
    "temp_str = 'rotated '+ str(y_train[random_index])\n",
    "\n",
    "fig = plt.figure()\n",
    "a=fig.add_subplot(1,2,1)\n",
    "disp_image = image.squeeze()\n",
    "plt.imshow(image.squeeze())\n",
    "plt.title('Original image')\n",
    "\n",
    "\n",
    "a=fig.add_subplot(1,2,2)\n",
    "plt.imshow(jittered_image.squeeze())\n",
    "plt.title(temp_str)\n",
    "\n",
    "\n"
   ]
  },
  {
   "cell_type": "code",
   "execution_count": 7,
   "metadata": {
    "collapsed": false,
    "deletable": true,
    "editable": true
   },
   "outputs": [
    {
     "data": {
      "text/plain": [
       "<matplotlib.text.Text at 0x7f1fe8192860>"
      ]
     },
     "execution_count": 7,
     "metadata": {},
     "output_type": "execute_result"
    },
    {
     "data": {
      "image/png": "[encoded data removed]",
      "text/plain": [
       "<matplotlib.figure.Figure at 0x7f20143da898>"
      ]
     },
     "metadata": {},
     "output_type": "display_data"
    }
   ],
   "source": [
    "#image scaling\n",
    "import math\n",
    "def Scale_Image(input_x, random_scaling):\n",
    "    #Function to perform image scaling by factor specified in random_scaling\n",
    "    height, width = input_x.shape[:2]\n",
    "    resized_image = cv2.resize(input_x,\n",
    "                                dsize = (math.floor(random_scaling * width), math.floor(random_scaling * height)),\n",
    "                                interpolation=cv2.INTER_CUBIC)\n",
    "\n",
    "    if (resized_image.shape[0] < 32) or (resized_image.shape[1] < 32):\n",
    "        return cv2.copyMakeBorder(resized_image,\n",
    "                                  top = 32 - resized_image.shape[1],\n",
    "                                  bottom = 32 - resized_image.shape[1],\n",
    "                                  left = 32 - resized_image.shape[2],\n",
    "                                  right = 32 - resized_image.shape[2],\n",
    "                                  borderType = 'BORDER_CONSTANT')\n",
    "    else:\n",
    "        return resized_image[0:32,0:32]\n",
    "    \n",
    "random_index = random.randint(0,X_train.shape[0]-1)\n",
    "image = X_train[random_index]\n",
    "rand_scaling = random.uniform(1.1, 1.5)\n",
    "jittered_image = Scale_Image(image,\n",
    "                             random_scaling = rand_scaling)\n",
    "temp_str = 'scaled ' + str(y_train[random_index])  \n",
    "\n",
    "fig = plt.figure()\n",
    "a=fig.add_subplot(1,2,1)\n",
    "disp_image = image.squeeze()\n",
    "plt.imshow(image.squeeze())\n",
    "plt.title('Original image')\n",
    "\n",
    "\n",
    "a=fig.add_subplot(1,2,2)\n",
    "plt.imshow(jittered_image.squeeze())\n",
    "plt.title(temp_str)"
   ]
  },
  {
   "cell_type": "code",
   "execution_count": 8,
   "metadata": {
    "collapsed": false,
    "deletable": true,
    "editable": true
   },
   "outputs": [
    {
     "data": {
      "text/plain": [
       "<matplotlib.text.Text at 0x7f1fe80dc470>"
      ]
     },
     "execution_count": 8,
     "metadata": {},
     "output_type": "execute_result"
    },
    {
     "data": {
      "image/png": "[encoded data removed]",
      "text/plain": [
       "<matplotlib.figure.Figure at 0x7f1ffb087358>"
      ]
     },
     "metadata": {},
     "output_type": "display_data"
    }
   ],
   "source": [
    "#Altering the nbrightness of the original image\n",
    "def Brightness_Change(input_x, random_brightness_scale, grayscale_flag = False):\n",
    "    #Function to perform brightness change in input image\n",
    "    # output_brightness = input_brightness * random_brightness_scale\n",
    "    #return (input_x * random_brightness_scale - 1.0)\n",
    "    #convert image to HSV and sclae just the V channel to increase the brightness\n",
    "    if not(grayscale_flag):\n",
    "        hsv = cv2.cvtColor(input_x,\n",
    "                           code = cv2.COLOR_RGB2HSV)\n",
    "        #scale the v channel\n",
    "        h, s, v = cv2.split(hsv)\n",
    "        v = v*random_brightness_scale\n",
    "        v = np.array(v , dtype='f')\n",
    "        v = v.astype(np.uint8) # make the data types of h,s and v same\n",
    "        final_hsv = cv2.merge((h, s, v))\n",
    "        return cv2.cvtColor(final_hsv,\n",
    "                            code = cv2.COLOR_HSV2RGB)\n",
    "    else:\n",
    "        input_x = input_x * np.float32(random_brightness_scale)\n",
    "        return input_x.astype(np.uint8)\n",
    "grayscale_flag = 'False'\n",
    "random_index = random.randint(0,X_train.shape[0]-1)\n",
    "image = X_train[random_index]\n",
    "rand_brightness_scale = random.uniform(0.8, 1.5)\n",
    "jittered_image = Brightness_Change(image,\n",
    "                                   random_brightness_scale = rand_brightness_scale,\n",
    "                                   grayscale_flag = grayscale_flag)\n",
    "temp_str = 'brightness ' + str(y_train[random_index])\n",
    "\n",
    "fig = plt.figure()\n",
    "a=fig.add_subplot(1,2,1)\n",
    "disp_image = image.squeeze()\n",
    "plt.imshow(image.squeeze())\n",
    "plt.title('Original image')\n",
    "\n",
    "\n",
    "a=fig.add_subplot(1,2,2)\n",
    "plt.imshow(jittered_image.squeeze())\n",
    "plt.title(temp_str)"
   ]
  },
  {
   "cell_type": "code",
   "execution_count": 14,
   "metadata": {
    "collapsed": false,
    "deletable": true,
    "editable": true
   },
   "outputs": [
    {
     "data": {
      "text/plain": [
       "<matplotlib.text.Text at 0x7f1fd352ec88>"
      ]
     },
     "execution_count": 14,
     "metadata": {},
     "output_type": "execute_result"
    },
    {
     "data": {
      "image/png": "[encoded data removed]",
      "text/plain": [
       "<matplotlib.figure.Figure at 0x7f1fd9bab1d0>"
      ]
     },
     "metadata": {},
     "output_type": "display_data"
    }
   ],
   "source": [
    "#Blurring the image\n",
    "def Gaussian_Blur(input_x, random_kernel_size):\n",
    "    #Function to perform gaussian blur by the kernel size specified by Random_kernel_size\n",
    "    return cv2.blur(input_x,\n",
    "                    (random_kernel_size, random_kernel_size))\n",
    "\n",
    "random_index = random.randint(0,X_train.shape[0]-1)\n",
    "image = X_train[random_index]\n",
    "rand_kernel_size = random.randint(2,4)\n",
    "jittered_image = Gaussian_Blur(image,\n",
    "                            random_kernel_size = rand_kernel_size)\n",
    "temp_str = 'blurred ' + str(y_train[random_index])\n",
    "\n",
    "fig = plt.figure()\n",
    "a=fig.add_subplot(1,2,1)\n",
    "disp_image = image.squeeze()\n",
    "plt.imshow(image.squeeze())\n",
    "plt.title('Original image')\n",
    "\n",
    "\n",
    "a=fig.add_subplot(1,2,2)\n",
    "plt.imshow(jittered_image.squeeze())\n",
    "plt.title(temp_str)"
   ]
  },
  {
   "cell_type": "code",
   "execution_count": 15,
   "metadata": {
    "collapsed": false,
    "deletable": true,
    "editable": true
   },
   "outputs": [],
   "source": [
    "#pipeline to augment the data, \n",
    "#randomly select an image belonging to a particular class and perform a jittering operation(i.e either translation\n",
    "#rotation, scaling, brightness change , blurring) which is also selected at random\n",
    "\n",
    "#minimum number of instances of each class after data augmentation\n",
    "min_number = 1000\n",
    "gray_scale = 'False'\n",
    "for i in range(n_classes):\n",
    "    if elements_in_each_class[i] < min_number:\n",
    "        #get the diffrence between number of elements in the current class and max number, here max_number = 1000\n",
    "        diff_in_Classes = min_number - elements_in_each_class[i]\n",
    "        synthetically_generated_images = 0\n",
    "        while synthetically_generated_images < diff_in_Classes:\n",
    "            #create new artificial images to balance the data set\n",
    "            #choose a random image belong to a class and perform 5 jittering with random values and append it to the same class\n",
    "            random_index = random.randint(0,(separated_elements[str(i)].shape[1]) - 1 )\n",
    "            #get the index of image in x_train, i.e access the element in random_image_index of separated_elements\n",
    "\n",
    "            image_index = separated_elements[str(i)][0][random_index]\n",
    "            image = X_train[image_index]\n",
    "\n",
    "            # disp_image = image.squeeze()\n",
    "            # plt.figure(figsize=(5, 5))\n",
    "            # plt.imshow(disp_image)\n",
    "            # plt.title(str(i))\n",
    "            # plt.close()\n",
    "\n",
    "            #choose which jittering needds to be done\n",
    "            choose_jittering = random.randint(0,4) #blurring is making the features go away\n",
    "            if choose_jittering == 0:\n",
    "                random_x = random.randint(-2, 2)\n",
    "                random_y = random.randint(-2, 2)\n",
    "                jittered_image = Translate_Image(image,\n",
    "                                                    random_X = random_x,\n",
    "                                                    random_Y = random_y)\n",
    "                temp_str = 'translated'\n",
    "            elif choose_jittering == 1:\n",
    "                rand_angle = random.randint(-15,15)\n",
    "                jittered_image = Rotate_Image(image,\n",
    "                                                 random_angle = rand_angle)\n",
    "                temp_str = 'rotated'\n",
    "\n",
    "            elif choose_jittering == 2:\n",
    "                rand_scaling = random.uniform(1.1, 1.5)\n",
    "                jittered_image = Scale_Image(image,\n",
    "                                                random_scaling = rand_scaling)\n",
    "                temp_str = 'scaled'\n",
    "\n",
    "            elif choose_jittering == 3:\n",
    "                rand_brightness_scale = random.uniform(0.8, 1)\n",
    "                jittered_image = Brightness_Change(image,\n",
    "                                                      random_brightness_scale = rand_brightness_scale,\n",
    "                                                      grayscale_flag = gray_scale)\n",
    "                temp_str = 'brightness'\n",
    "\n",
    "            elif choose_jittering == 4:\n",
    "                rand_kernel_size = random.randint(2,6)\n",
    "                jittered_image = Gaussian_Blur(image,\n",
    "                                                  random_kernel_size = rand_kernel_size)\n",
    "                temp_str = 'blurred'\n",
    "\n",
    "            # disp_image = jittered_image.squeeze()\n",
    "            # plt.figure(figsize=(5, 5))\n",
    "            # plt.imshow(disp_image)\n",
    "            # plt.title(str(i)+temp_str)\n",
    "            # plt.close()\n",
    "\n",
    "\n",
    "            synthetically_generated_images = synthetically_generated_images + 1\n",
    "            #X_train.insert(jittered_image)\n",
    "            X_train = np.concatenate((X_train, [jittered_image]),\n",
    "                                     axis=0)\n",
    "            y_train = np.concatenate((y_train,[i]),\n",
    "                                     axis = 0)\n",
    "\n",
    "            # disp_image = X_train[X_train.shape[0]-1].squeeze()\n",
    "            # plt.figure(figsize=(5, 5))\n",
    "            # plt.imshow(disp_image)\n",
    "            # plt.title(str(y_train[X_train.shape[0]-1])+temp_str)\n",
    "            # plt.close()\n"
   ]
  },
  {
   "cell_type": "code",
   "execution_count": 16,
   "metadata": {
    "collapsed": false,
    "deletable": true,
    "editable": true
   },
   "outputs": [
    {
     "data": {
      "image/png": "[encoded data removed]",
      "text/plain": [
       "<matplotlib.figure.Figure at 0x7f1fd34eeb70>"
      ]
     },
     "metadata": {},
     "output_type": "display_data"
    }
   ],
   "source": [
    "#histogram of validation set \n",
    "elements_in_each_class, bins, patches = plt.hist(y_valid, n_classes, normed=0)"
   ]
  },
  {
   "cell_type": "code",
   "execution_count": 17,
   "metadata": {
    "collapsed": false
   },
   "outputs": [
    {
     "data": {
      "image/png": "[encoded data removed]",
      "text/plain": [
       "<matplotlib.figure.Figure at 0x7f1fc9c785f8>"
      ]
     },
     "metadata": {},
     "output_type": "display_data"
    }
   ],
   "source": [
    "#Augmented data\n",
    "elements_in_each_class, bins, patches = plt.hist(y_train, n_classes, normed=0)"
   ]
  },
  {
   "cell_type": "code",
   "execution_count": 18,
   "metadata": {
    "collapsed": false,
    "deletable": true,
    "editable": true
   },
   "outputs": [],
   "source": [
    "import numpy as np\n",
    "#convert to grayscale\n",
    "\n",
    "x_grayscale = temp = np.sum(X_train/3, axis=3, keepdims=True)\n",
    "x_valid_grayscale = np.sum(X_valid/3, axis=3, keepdims=True)\n",
    "x_train_temp = X_train\n",
    "x_valid_temp = X_valid\n",
    "\n",
    "#normalize\n",
    "X_train = (x_grayscale - 127.5)/255\n",
    "X_valid = (x_valid_grayscale - 127.5)/255"
   ]
  },
  {
   "cell_type": "code",
   "execution_count": 21,
   "metadata": {
    "collapsed": false,
    "deletable": true,
    "editable": true
   },
   "outputs": [
    {
     "data": {
      "text/plain": [
       "<matplotlib.text.Text at 0x7f1fd34b9128>"
      ]
     },
     "execution_count": 21,
     "metadata": {},
     "output_type": "execute_result"
    },
    {
     "data": {
      "image/png": "[encoded data removed]",
      "text/plain": [
       "<matplotlib.figure.Figure at 0x7f1fc9ac9518>"
      ]
     },
     "metadata": {},
     "output_type": "display_data"
    }
   ],
   "source": [
    "#display a random image\n",
    "import random\n",
    "index = random.randint(0,len(X_train))\n",
    "image = X_train[index].squeeze()\n",
    "plt.figure(figsize=(5,5))\n",
    "plt.imshow(image,cmap='gray')\n",
    "plt.title(str(y_train[index]))\n"
   ]
  },
  {
   "cell_type": "markdown",
   "metadata": {
    "deletable": true,
    "editable": true
   },
   "source": [
    "### Model Architecture"
   ]
  },
  {
   "cell_type": "code",
   "execution_count": 25,
   "metadata": {
    "collapsed": false,
    "deletable": true,
    "editable": true
   },
   "outputs": [],
   "source": [
    "import tensorflow as tf\n",
    "from tensorflow.contrib.layers import flatten\n",
    "keep_prob = 0.5\n",
    "mu = 0\n",
    "sigma = 0.1\n",
    "weights = {\n",
    "    'wc1': tf.Variable(tf.random_normal([5,5,1,6],mu,sigma)),\n",
    "    'wc2': tf.Variable(tf.random_normal([5, 5, 6, 16],mu,sigma)),\n",
    "    'wd1': tf.Variable(tf.random_normal([400, 120],mu,sigma)),\n",
    "    'wd2': tf.Variable(tf.random_normal([120, 84],mu,sigma)),\n",
    "    'out': tf.Variable(tf.random_normal([84, n_classes],mu,sigma))\n",
    "         }\n",
    "\n",
    "biases = {\n",
    "    'bc1': tf.Variable(tf.zeros([6])),\n",
    "    'bc2': tf.Variable(tf.zeros([16])),\n",
    "    'bd1': tf.Variable(tf.zeros([120])),\n",
    "    'bd2': tf.Variable(tf.zeros([84])),\n",
    "    'out': tf.Variable(tf.zeros([n_classes]))}\n",
    "\n",
    "strides = {\n",
    "        'Layer1_strides': {'conv':[1,1,1,1],\n",
    "                          'maxpool':[1,2,2,1]},\n",
    "        'Layer2_strides': {'conv':[1,1,1,1],\n",
    "                          'maxpool':[1,2,2,1]}}\n",
    "\n",
    "def LeNet(x):\n",
    "\n",
    "    x = tf.nn.conv2d(x,weights['wc1'],strides['Layer1_strides']['conv'],'VALID')\n",
    "    x = tf.nn.bias_add(x,biases['bc1'])\n",
    "    x = tf.nn.relu(x)\n",
    "    x = tf.nn.max_pool(x,strides['Layer1_strides']['maxpool'],strides['Layer1_strides']['maxpool'],'VALID')\n",
    "\n",
    "\n",
    "    x = tf.nn.conv2d(x, weights['wc2'], strides['Layer2_strides']['conv'], 'VALID')\n",
    "    x = tf.nn.bias_add(x,biases['bc2'])\n",
    "    x = tf.nn.relu(x)\n",
    "    x = tf.nn.max_pool(x, strides['Layer2_strides']['maxpool'],strides['Layer2_strides']['maxpool'],'VALID')\n",
    "\n",
    "    x = flatten(x)\n",
    "\n",
    "    x = tf.add(tf.matmul(x,weights['wd1']),biases['bd1'])\n",
    "    x = tf.nn.relu(x)\n",
    "\n",
    "    x = tf.add(tf.matmul(x, weights['wd2']), biases['bd2'])\n",
    "    x = tf.nn.relu(x)\n",
    "    x = tf.nn.dropout(x, keep_prob)\n",
    "\n",
    "    logits = tf.add(tf.matmul(x, weights['out']), biases['out'])\n",
    "    return logits\n"
   ]
  },
  {
   "cell_type": "markdown",
   "metadata": {
    "deletable": true,
    "editable": true
   },
   "source": [
    "### Train, Validate and Test the Model"
   ]
  },
  {
   "cell_type": "markdown",
   "metadata": {
    "deletable": true,
    "editable": true
   },
   "source": [
    "A validation set can be used to assess how well the model is performing. A low accuracy on the training and validation\n",
    "sets imply underfitting. A high accuracy on the training set but low accuracy on the validation set implies overfitting."
   ]
  },
  {
   "cell_type": "code",
   "execution_count": 32,
   "metadata": {
    "collapsed": true,
    "deletable": true,
    "editable": true
   },
   "outputs": [],
   "source": [
    "#epochs and batch size definition\n",
    "EPOCHS = 100\n",
    "BATCH_SIZE = 128\n",
    "rate = 0.0008"
   ]
  },
  {
   "cell_type": "code",
   "execution_count": 29,
   "metadata": {
    "collapsed": false
   },
   "outputs": [
    {
     "name": "stdout",
     "output_type": "stream",
     "text": [
      "Training...\n",
      "\n",
      "EPOCH 1 ...\n",
      "Validation Accuracy = 0.562\n",
      "\n",
      "EPOCH 2 ...\n",
      "Validation Accuracy = 0.741\n",
      "\n",
      "EPOCH 3 ...\n",
      "Validation Accuracy = 0.782\n",
      "\n",
      "EPOCH 4 ...\n",
      "Validation Accuracy = 0.824\n",
      "\n",
      "EPOCH 5 ...\n",
      "Validation Accuracy = 0.839\n",
      "\n",
      "EPOCH 6 ...\n",
      "Validation Accuracy = 0.858\n",
      "\n",
      "EPOCH 7 ...\n",
      "Validation Accuracy = 0.863\n",
      "\n",
      "EPOCH 8 ...\n",
      "Validation Accuracy = 0.872\n",
      "\n",
      "EPOCH 9 ...\n",
      "Validation Accuracy = 0.890\n",
      "\n",
      "EPOCH 10 ...\n",
      "Validation Accuracy = 0.879\n",
      "\n",
      "EPOCH 11 ...\n",
      "Validation Accuracy = 0.880\n",
      "\n",
      "EPOCH 12 ...\n",
      "Validation Accuracy = 0.897\n",
      "\n",
      "EPOCH 13 ...\n",
      "Validation Accuracy = 0.902\n",
      "\n",
      "EPOCH 14 ...\n",
      "Validation Accuracy = 0.898\n",
      "\n",
      "EPOCH 15 ...\n",
      "Validation Accuracy = 0.907\n",
      "\n",
      "EPOCH 16 ...\n",
      "Validation Accuracy = 0.899\n",
      "\n",
      "EPOCH 17 ...\n",
      "Validation Accuracy = 0.902\n",
      "\n",
      "EPOCH 18 ...\n",
      "Validation Accuracy = 0.909\n",
      "\n",
      "EPOCH 19 ...\n",
      "Validation Accuracy = 0.903\n",
      "\n",
      "EPOCH 20 ...\n",
      "Validation Accuracy = 0.918\n",
      "\n",
      "EPOCH 21 ...\n",
      "Validation Accuracy = 0.913\n",
      "\n",
      "EPOCH 22 ...\n",
      "Validation Accuracy = 0.919\n",
      "\n",
      "EPOCH 23 ...\n",
      "Validation Accuracy = 0.917\n",
      "\n",
      "EPOCH 24 ...\n",
      "Validation Accuracy = 0.917\n",
      "\n",
      "EPOCH 25 ...\n",
      "Validation Accuracy = 0.920\n",
      "\n",
      "EPOCH 26 ...\n",
      "Validation Accuracy = 0.922\n",
      "\n",
      "EPOCH 27 ...\n",
      "Validation Accuracy = 0.920\n",
      "\n",
      "EPOCH 28 ...\n",
      "Validation Accuracy = 0.913\n",
      "\n",
      "EPOCH 29 ...\n",
      "Validation Accuracy = 0.924\n",
      "\n",
      "EPOCH 30 ...\n",
      "Validation Accuracy = 0.914\n",
      "\n",
      "EPOCH 31 ...\n",
      "Validation Accuracy = 0.933\n",
      "\n",
      "EPOCH 32 ...\n",
      "Validation Accuracy = 0.926\n",
      "\n",
      "EPOCH 33 ...\n",
      "Validation Accuracy = 0.929\n",
      "\n",
      "EPOCH 34 ...\n",
      "Validation Accuracy = 0.931\n",
      "\n",
      "EPOCH 35 ...\n",
      "Validation Accuracy = 0.926\n",
      "\n",
      "EPOCH 36 ...\n",
      "Validation Accuracy = 0.931\n",
      "\n",
      "EPOCH 37 ...\n",
      "Validation Accuracy = 0.932\n",
      "\n",
      "EPOCH 38 ...\n",
      "Validation Accuracy = 0.932\n",
      "\n",
      "EPOCH 39 ...\n",
      "Validation Accuracy = 0.931\n",
      "\n",
      "EPOCH 40 ...\n",
      "Validation Accuracy = 0.924\n",
      "\n",
      "EPOCH 41 ...\n",
      "Validation Accuracy = 0.923\n",
      "\n",
      "EPOCH 42 ...\n",
      "Validation Accuracy = 0.930\n",
      "\n",
      "EPOCH 43 ...\n",
      "Validation Accuracy = 0.932\n",
      "\n",
      "EPOCH 44 ...\n",
      "Validation Accuracy = 0.935\n",
      "\n",
      "EPOCH 45 ...\n",
      "Validation Accuracy = 0.929\n",
      "\n",
      "EPOCH 46 ...\n",
      "Validation Accuracy = 0.934\n",
      "\n",
      "EPOCH 47 ...\n",
      "Validation Accuracy = 0.930\n",
      "\n",
      "EPOCH 48 ...\n",
      "Validation Accuracy = 0.931\n",
      "\n",
      "EPOCH 49 ...\n",
      "Validation Accuracy = 0.932\n",
      "\n",
      "EPOCH 50 ...\n",
      "Validation Accuracy = 0.938\n",
      "\n",
      "EPOCH 51 ...\n",
      "Validation Accuracy = 0.935\n",
      "\n",
      "EPOCH 52 ...\n",
      "Validation Accuracy = 0.929\n",
      "\n",
      "EPOCH 53 ...\n",
      "Validation Accuracy = 0.921\n",
      "\n",
      "EPOCH 54 ...\n",
      "Validation Accuracy = 0.924\n",
      "\n",
      "EPOCH 55 ...\n",
      "Validation Accuracy = 0.938\n",
      "\n",
      "EPOCH 56 ...\n",
      "Validation Accuracy = 0.933\n",
      "\n",
      "EPOCH 57 ...\n",
      "Validation Accuracy = 0.916\n",
      "\n",
      "EPOCH 58 ...\n",
      "Validation Accuracy = 0.924\n",
      "\n",
      "EPOCH 59 ...\n",
      "Validation Accuracy = 0.937\n",
      "\n",
      "EPOCH 60 ...\n",
      "Validation Accuracy = 0.917\n",
      "\n",
      "EPOCH 61 ...\n",
      "Validation Accuracy = 0.929\n",
      "\n",
      "EPOCH 62 ...\n",
      "Validation Accuracy = 0.926\n",
      "\n",
      "EPOCH 63 ...\n",
      "Validation Accuracy = 0.934\n",
      "\n",
      "EPOCH 64 ...\n",
      "Validation Accuracy = 0.948\n",
      "\n",
      "EPOCH 65 ...\n",
      "Validation Accuracy = 0.927\n",
      "\n",
      "EPOCH 66 ...\n",
      "Validation Accuracy = 0.942\n",
      "\n",
      "EPOCH 67 ...\n",
      "Validation Accuracy = 0.939\n",
      "\n",
      "EPOCH 68 ...\n",
      "Validation Accuracy = 0.935\n",
      "\n",
      "EPOCH 69 ...\n",
      "Validation Accuracy = 0.932\n",
      "\n",
      "EPOCH 70 ...\n",
      "Validation Accuracy = 0.931\n",
      "\n",
      "EPOCH 71 ...\n",
      "Validation Accuracy = 0.937\n",
      "\n",
      "EPOCH 72 ...\n",
      "Validation Accuracy = 0.938\n",
      "\n",
      "EPOCH 73 ...\n",
      "Validation Accuracy = 0.938\n",
      "\n",
      "EPOCH 74 ...\n",
      "Validation Accuracy = 0.929\n",
      "\n",
      "EPOCH 75 ...\n",
      "Validation Accuracy = 0.932\n",
      "\n",
      "EPOCH 76 ...\n",
      "Validation Accuracy = 0.932\n",
      "\n",
      "EPOCH 77 ...\n",
      "Validation Accuracy = 0.939\n",
      "\n",
      "EPOCH 78 ...\n",
      "Validation Accuracy = 0.933\n",
      "\n",
      "EPOCH 79 ...\n",
      "Validation Accuracy = 0.939\n",
      "\n",
      "EPOCH 80 ...\n",
      "Validation Accuracy = 0.934\n",
      "\n",
      "EPOCH 81 ...\n",
      "Validation Accuracy = 0.932\n",
      "\n",
      "EPOCH 82 ...\n",
      "Validation Accuracy = 0.937\n",
      "\n",
      "EPOCH 83 ...\n",
      "Validation Accuracy = 0.942\n",
      "\n",
      "EPOCH 84 ...\n",
      "Validation Accuracy = 0.936\n",
      "\n",
      "EPOCH 85 ...\n",
      "Validation Accuracy = 0.934\n",
      "\n",
      "EPOCH 86 ...\n",
      "Validation Accuracy = 0.943\n",
      "\n",
      "EPOCH 87 ...\n",
      "Validation Accuracy = 0.933\n",
      "\n",
      "EPOCH 88 ...\n",
      "Validation Accuracy = 0.941\n",
      "\n",
      "EPOCH 89 ...\n",
      "Validation Accuracy = 0.934\n",
      "\n",
      "EPOCH 90 ...\n",
      "Validation Accuracy = 0.938\n",
      "\n",
      "EPOCH 91 ...\n",
      "Validation Accuracy = 0.935\n",
      "\n",
      "EPOCH 92 ...\n",
      "Validation Accuracy = 0.939\n",
      "\n",
      "EPOCH 93 ...\n",
      "Validation Accuracy = 0.935\n",
      "\n",
      "EPOCH 94 ...\n",
      "Validation Accuracy = 0.927\n",
      "\n",
      "EPOCH 95 ...\n",
      "Validation Accuracy = 0.940\n",
      "\n",
      "EPOCH 96 ...\n",
      "Validation Accuracy = 0.941\n",
      "\n",
      "EPOCH 97 ...\n",
      "Validation Accuracy = 0.940\n",
      "\n",
      "EPOCH 98 ...\n",
      "Validation Accuracy = 0.933\n",
      "\n",
      "EPOCH 99 ...\n",
      "Validation Accuracy = 0.935\n",
      "\n",
      "EPOCH 100 ...\n",
      "Validation Accuracy = 0.937\n",
      "\n",
      "Model saved\n"
     ]
    }
   ],
   "source": [
    "### Train your model here.\n",
    "### Calculate and report the accuracy on the training and validation set.\n",
    "### Once a final model architecture is selected, \n",
    "### the accuracy on the test set should be calculated and reported as well.\n",
    "### Feel free to use as many code cells as needed.\n",
    "from sklearn.utils import shuffle\n",
    "import tensorflow as tf\n",
    "x = tf.placeholder(tf.float32, (None, X_train.shape[1], X_train.shape[2], X_train.shape[3]))\n",
    "y = tf.placeholder(tf.int32, (None))\n",
    "one_hot_y = tf.one_hot(y, 43)\n",
    "\n",
    "\n",
    "\n",
    "logits = LeNet(x)\n",
    "cross_entropy = tf.nn.softmax_cross_entropy_with_logits(logits = logits, labels = one_hot_y)\n",
    "loss_operation = tf.reduce_mean(cross_entropy)\n",
    "optimizer = tf.train.AdamOptimizer(learning_rate = rate)\n",
    "training_operation = optimizer.minimize(loss_operation)\n",
    "\n",
    "correct_prediction = tf.equal(tf.argmax(logits, 1), tf.argmax(one_hot_y, 1))\n",
    "accuracy_operation = tf.reduce_mean(tf.cast(correct_prediction, tf.float32))\n",
    "saver = tf.train.Saver()\n",
    "\n",
    "def evaluate(X_data, y_data):\n",
    "    num_examples = len(X_data)\n",
    "    total_accuracy = 0\n",
    "    sess = tf.get_default_session()\n",
    "    for offset in range(0, num_examples, BATCH_SIZE):\n",
    "        batch_x, batch_y = X_data[offset:offset+BATCH_SIZE], y_data[offset:offset+BATCH_SIZE]\n",
    "        accuracy = sess.run(accuracy_operation, feed_dict={x: batch_x, y: batch_y})\n",
    "        total_accuracy += (accuracy * len(batch_x))\n",
    "    return total_accuracy / num_examples\n",
    "\n",
    "\n",
    "with tf.Session() as sess:\n",
    "    sess.run(tf.global_variables_initializer())\n",
    "    num_examples = len(X_train)\n",
    "\n",
    "    print(\"Training...\")\n",
    "    print()\n",
    "    for i in range(EPOCHS):\n",
    "        X_train, y_train = shuffle(X_train, y_train)\n",
    "        for offset in range(0, num_examples, BATCH_SIZE):\n",
    "            end = offset + BATCH_SIZE\n",
    "            batch_x, batch_y = X_train[offset:end], y_train[offset:end]\n",
    "            sess.run(training_operation, feed_dict={x: batch_x, y: batch_y})\n",
    "\n",
    "        validation_accuracy = evaluate(X_valid, y_valid)\n",
    "        print(\"EPOCH {} ...\".format(i + 1))\n",
    "        print(\"Validation Accuracy = {:.3f}\".format(validation_accuracy))\n",
    "        print()\n",
    "\n",
    "    saver.save(sess, './lenet')\n",
    "    print(\"Model saved\")"
   ]
  },
  {
   "cell_type": "code",
   "execution_count": 35,
   "metadata": {
    "collapsed": true,
    "deletable": true,
    "editable": true
   },
   "outputs": [],
   "source": [
    "import tensorflow as tf\n",
    "from tensorflow.contrib.layers import flatten \n",
    "keep_prob = 0.5\n",
    "def lenet_2(x):\n",
    "    mu = 0\n",
    "    sigma = 0.1\n",
    "    n_classes = 43\n",
    "    weights = {\n",
    "        'wc1': tf.Variable(tf.random_normal([5,5,1,6],mu,sigma)),\n",
    "        'wc2': tf.Variable(tf.random_normal([5, 5, 6, 16],mu,sigma)),\n",
    "        'wd1': tf.Variable(tf.random_normal([694, 100],mu,sigma)),\n",
    "        'wd2': tf.Variable(tf.random_normal([100, 84],mu,sigma)),\n",
    "        'out': tf.Variable(tf.random_normal([84, n_classes],mu,sigma))\n",
    "             }\n",
    "\n",
    "    biases = {\n",
    "        'bc1': tf.Variable(tf.zeros([6])),\n",
    "        'bc2': tf.Variable(tf.zeros([16])),\n",
    "        'bd1': tf.Variable(tf.zeros([100])),\n",
    "        'bd2': tf.Variable(tf.zeros([84])),\n",
    "        'out': tf.Variable(tf.zeros([n_classes]))}\n",
    "\n",
    "    strides = {\n",
    "            'Layer1_strides': {'conv':[1,1,1,1],\n",
    "                              'maxpool':[1,2,2,1]},\n",
    "            'Layer2_strides': {'conv':[1,1,1,1],\n",
    "                              'maxpool':[1,2,2,1]}}\n",
    "\n",
    "\n",
    "\n",
    "    x = tf.nn.conv2d(x,weights['wc1'],strides['Layer1_strides']['conv'],'VALID')\n",
    "    x = tf.nn.bias_add(x,biases['bc1'])\n",
    "    x = tf.nn.relu(x)\n",
    "    x = tf.nn.max_pool(x,strides['Layer1_strides']['maxpool'],strides['Layer1_strides']['maxpool'],'VALID')\n",
    "    #second subsampling layer\n",
    "    temp = tf.nn.max_pool(x,strides['Layer1_strides']['maxpool'],strides['Layer1_strides']['maxpool'],'VALID')\n",
    "    temp = flatten(temp)\n",
    "\n",
    "    x = tf.nn.conv2d(x, weights['wc2'], strides['Layer2_strides']['conv'], 'VALID')\n",
    "    x = tf.nn.bias_add(x,biases['bc2'])\n",
    "    x = tf.nn.relu(x)\n",
    "    x = tf.nn.max_pool(x, strides['Layer2_strides']['maxpool'],strides['Layer2_strides']['maxpool'],'VALID')\n",
    "\n",
    "    x = tf.concat_v2([temp, flatten(x)], 1)\n",
    "\n",
    "    x = tf.add(tf.matmul(x,weights['wd1']),biases['bd1'])\n",
    "    x = tf.nn.relu(x)\n",
    "\n",
    "    #x = tf.nn.dropout(x, keep_prob)\n",
    "    \n",
    "    x = tf.add(tf.matmul(x, weights['wd2']), biases['bd2'])\n",
    "    x = tf.nn.relu(x)\n",
    "\n",
    "    x = tf.nn.dropout(x, keep_prob)\n",
    "    \n",
    "    logits = tf.add(tf.matmul(x, weights['out']), biases['out'])\n",
    "    return logits"
   ]
  },
  {
   "cell_type": "code",
   "execution_count": 36,
   "metadata": {
    "collapsed": false,
    "deletable": true,
    "editable": true
   },
   "outputs": [
    {
     "name": "stdout",
     "output_type": "stream",
     "text": [
      "Training...\n",
      "\n",
      "EPOCH 1 ...\n",
      "Validation Accuracy = 0.544\n",
      "\n",
      "EPOCH 2 ...\n",
      "Validation Accuracy = 0.727\n",
      "\n",
      "EPOCH 3 ...\n",
      "Validation Accuracy = 0.794\n",
      "\n",
      "EPOCH 4 ...\n",
      "Validation Accuracy = 0.827\n",
      "\n",
      "EPOCH 5 ...\n",
      "Validation Accuracy = 0.849\n",
      "\n",
      "EPOCH 6 ...\n",
      "Validation Accuracy = 0.878\n",
      "\n",
      "EPOCH 7 ...\n",
      "Validation Accuracy = 0.878\n",
      "\n",
      "EPOCH 8 ...\n",
      "Validation Accuracy = 0.889\n",
      "\n",
      "EPOCH 9 ...\n",
      "Validation Accuracy = 0.896\n",
      "\n",
      "EPOCH 10 ...\n",
      "Validation Accuracy = 0.901\n",
      "\n",
      "EPOCH 11 ...\n",
      "Validation Accuracy = 0.903\n",
      "\n",
      "EPOCH 12 ...\n",
      "Validation Accuracy = 0.908\n",
      "\n",
      "EPOCH 13 ...\n",
      "Validation Accuracy = 0.916\n",
      "\n",
      "EPOCH 14 ...\n",
      "Validation Accuracy = 0.911\n",
      "\n",
      "EPOCH 15 ...\n",
      "Validation Accuracy = 0.922\n",
      "\n",
      "EPOCH 16 ...\n",
      "Validation Accuracy = 0.920\n",
      "\n",
      "EPOCH 17 ...\n",
      "Validation Accuracy = 0.924\n",
      "\n",
      "EPOCH 18 ...\n",
      "Validation Accuracy = 0.924\n",
      "\n",
      "EPOCH 19 ...\n",
      "Validation Accuracy = 0.926\n",
      "\n",
      "EPOCH 20 ...\n",
      "Validation Accuracy = 0.933\n",
      "\n",
      "EPOCH 21 ...\n",
      "Validation Accuracy = 0.928\n",
      "\n",
      "EPOCH 22 ...\n",
      "Validation Accuracy = 0.926\n",
      "\n",
      "EPOCH 23 ...\n",
      "Validation Accuracy = 0.928\n",
      "\n",
      "EPOCH 24 ...\n",
      "Validation Accuracy = 0.932\n",
      "\n",
      "EPOCH 25 ...\n",
      "Validation Accuracy = 0.932\n",
      "\n",
      "EPOCH 26 ...\n",
      "Validation Accuracy = 0.939\n",
      "\n",
      "EPOCH 27 ...\n",
      "Validation Accuracy = 0.930\n",
      "\n",
      "EPOCH 28 ...\n",
      "Validation Accuracy = 0.940\n",
      "\n",
      "EPOCH 29 ...\n",
      "Validation Accuracy = 0.939\n",
      "\n",
      "EPOCH 30 ...\n",
      "Validation Accuracy = 0.943\n",
      "\n",
      "EPOCH 31 ...\n",
      "Validation Accuracy = 0.938\n",
      "\n",
      "EPOCH 32 ...\n",
      "Validation Accuracy = 0.942\n",
      "\n",
      "EPOCH 33 ...\n",
      "Validation Accuracy = 0.944\n",
      "\n",
      "EPOCH 34 ...\n",
      "Validation Accuracy = 0.944\n",
      "\n",
      "EPOCH 35 ...\n",
      "Validation Accuracy = 0.943\n",
      "\n",
      "EPOCH 36 ...\n",
      "Validation Accuracy = 0.942\n",
      "\n",
      "EPOCH 37 ...\n",
      "Validation Accuracy = 0.946\n",
      "\n",
      "EPOCH 38 ...\n",
      "Validation Accuracy = 0.944\n",
      "\n",
      "EPOCH 39 ...\n",
      "Validation Accuracy = 0.946\n",
      "\n",
      "EPOCH 40 ...\n",
      "Validation Accuracy = 0.945\n",
      "\n",
      "EPOCH 41 ...\n",
      "Validation Accuracy = 0.946\n",
      "\n",
      "EPOCH 42 ...\n",
      "Validation Accuracy = 0.944\n",
      "\n",
      "EPOCH 43 ...\n",
      "Validation Accuracy = 0.945\n",
      "\n",
      "EPOCH 44 ...\n",
      "Validation Accuracy = 0.938\n",
      "\n",
      "EPOCH 45 ...\n",
      "Validation Accuracy = 0.946\n",
      "\n",
      "EPOCH 46 ...\n",
      "Validation Accuracy = 0.951\n",
      "\n",
      "EPOCH 47 ...\n",
      "Validation Accuracy = 0.948\n",
      "\n",
      "EPOCH 48 ...\n",
      "Validation Accuracy = 0.946\n",
      "\n",
      "EPOCH 49 ...\n",
      "Validation Accuracy = 0.942\n",
      "\n",
      "EPOCH 50 ...\n",
      "Validation Accuracy = 0.949\n",
      "\n",
      "EPOCH 51 ...\n",
      "Validation Accuracy = 0.942\n",
      "\n",
      "EPOCH 52 ...\n",
      "Validation Accuracy = 0.945\n",
      "\n",
      "EPOCH 53 ...\n",
      "Validation Accuracy = 0.940\n",
      "\n",
      "EPOCH 54 ...\n",
      "Validation Accuracy = 0.946\n",
      "\n",
      "EPOCH 55 ...\n",
      "Validation Accuracy = 0.948\n",
      "\n",
      "EPOCH 56 ...\n",
      "Validation Accuracy = 0.945\n",
      "\n",
      "EPOCH 57 ...\n",
      "Validation Accuracy = 0.948\n",
      "\n",
      "EPOCH 58 ...\n",
      "Validation Accuracy = 0.952\n",
      "\n",
      "EPOCH 59 ...\n",
      "Validation Accuracy = 0.950\n",
      "\n",
      "EPOCH 60 ...\n",
      "Validation Accuracy = 0.952\n",
      "\n",
      "EPOCH 61 ...\n",
      "Validation Accuracy = 0.946\n",
      "\n",
      "EPOCH 62 ...\n",
      "Validation Accuracy = 0.946\n",
      "\n",
      "EPOCH 63 ...\n",
      "Validation Accuracy = 0.945\n",
      "\n",
      "EPOCH 64 ...\n",
      "Validation Accuracy = 0.955\n",
      "\n",
      "EPOCH 65 ...\n",
      "Validation Accuracy = 0.944\n",
      "\n",
      "EPOCH 66 ...\n",
      "Validation Accuracy = 0.949\n",
      "\n",
      "EPOCH 67 ...\n",
      "Validation Accuracy = 0.953\n",
      "\n",
      "EPOCH 68 ...\n",
      "Validation Accuracy = 0.948\n",
      "\n",
      "EPOCH 69 ...\n",
      "Validation Accuracy = 0.951\n",
      "\n",
      "EPOCH 70 ...\n",
      "Validation Accuracy = 0.943\n",
      "\n",
      "EPOCH 71 ...\n",
      "Validation Accuracy = 0.946\n",
      "\n",
      "EPOCH 72 ...\n",
      "Validation Accuracy = 0.953\n",
      "\n",
      "EPOCH 73 ...\n",
      "Validation Accuracy = 0.955\n",
      "\n",
      "EPOCH 74 ...\n",
      "Validation Accuracy = 0.952\n",
      "\n",
      "EPOCH 75 ...\n",
      "Validation Accuracy = 0.949\n",
      "\n",
      "EPOCH 76 ...\n",
      "Validation Accuracy = 0.949\n",
      "\n",
      "EPOCH 77 ...\n",
      "Validation Accuracy = 0.946\n",
      "\n",
      "EPOCH 78 ...\n",
      "Validation Accuracy = 0.942\n",
      "\n",
      "EPOCH 79 ...\n",
      "Validation Accuracy = 0.946\n",
      "\n",
      "EPOCH 80 ...\n",
      "Validation Accuracy = 0.942\n",
      "\n",
      "EPOCH 81 ...\n",
      "Validation Accuracy = 0.954\n",
      "\n",
      "EPOCH 82 ...\n",
      "Validation Accuracy = 0.949\n",
      "\n",
      "EPOCH 83 ...\n",
      "Validation Accuracy = 0.949\n",
      "\n",
      "EPOCH 84 ...\n",
      "Validation Accuracy = 0.953\n",
      "\n",
      "EPOCH 85 ...\n",
      "Validation Accuracy = 0.945\n",
      "\n",
      "EPOCH 86 ...\n",
      "Validation Accuracy = 0.950\n",
      "\n",
      "EPOCH 87 ...\n",
      "Validation Accuracy = 0.951\n",
      "\n",
      "EPOCH 88 ...\n",
      "Validation Accuracy = 0.950\n",
      "\n",
      "EPOCH 89 ...\n",
      "Validation Accuracy = 0.951\n",
      "\n",
      "EPOCH 90 ...\n",
      "Validation Accuracy = 0.950\n",
      "\n",
      "EPOCH 91 ...\n",
      "Validation Accuracy = 0.946\n",
      "\n",
      "EPOCH 92 ...\n",
      "Validation Accuracy = 0.951\n",
      "\n",
      "EPOCH 93 ...\n",
      "Validation Accuracy = 0.950\n",
      "\n",
      "EPOCH 94 ...\n",
      "Validation Accuracy = 0.950\n",
      "\n",
      "EPOCH 95 ...\n",
      "Validation Accuracy = 0.941\n",
      "\n",
      "EPOCH 96 ...\n",
      "Validation Accuracy = 0.944\n",
      "\n",
      "EPOCH 97 ...\n",
      "Validation Accuracy = 0.952\n",
      "\n",
      "EPOCH 98 ...\n",
      "Validation Accuracy = 0.945\n",
      "\n",
      "EPOCH 99 ...\n",
      "Validation Accuracy = 0.955\n",
      "\n",
      "EPOCH 100 ...\n",
      "Validation Accuracy = 0.954\n",
      "\n",
      "Model saved\n"
     ]
    }
   ],
   "source": [
    "### Train your model here.\n",
    "### Calculate and report the accuracy on the training and validation set.\n",
    "### Once a final model architecture is selected, \n",
    "### the accuracy on the test set should be calculated and reported as well.\n",
    "### Feel free to use as many code cells as needed.\n",
    "from sklearn.utils import shuffle\n",
    "import tensorflow as tf\n",
    "x = tf.placeholder(tf.float32, (None, X_train.shape[1], X_train.shape[2], X_train.shape[3]))\n",
    "y = tf.placeholder(tf.int32, (None))\n",
    "one_hot_y = tf.one_hot(y, 43)\n",
    "\n",
    "\n",
    "\n",
    "logits = lenet_2(x)\n",
    "cross_entropy = tf.nn.softmax_cross_entropy_with_logits(logits = logits, labels = one_hot_y)\n",
    "loss_operation = tf.reduce_mean(cross_entropy)\n",
    "optimizer = tf.train.AdamOptimizer(learning_rate = rate)\n",
    "training_operation = optimizer.minimize(loss_operation)\n",
    "\n",
    "correct_prediction = tf.equal(tf.argmax(logits, 1), tf.argmax(one_hot_y, 1))\n",
    "accuracy_operation = tf.reduce_mean(tf.cast(correct_prediction, tf.float32))\n",
    "saver = tf.train.Saver()\n",
    "\n",
    "def evaluate(X_data, y_data):\n",
    "    num_examples = len(X_data)\n",
    "    total_accuracy = 0\n",
    "    sess = tf.get_default_session()\n",
    "    for offset in range(0, num_examples, BATCH_SIZE):\n",
    "        batch_x, batch_y = X_data[offset:offset+BATCH_SIZE], y_data[offset:offset+BATCH_SIZE]\n",
    "        accuracy = sess.run(accuracy_operation, feed_dict={x: batch_x, y: batch_y})\n",
    "        total_accuracy += (accuracy * len(batch_x))\n",
    "    return total_accuracy / num_examples\n",
    "\n",
    "\n",
    "with tf.Session() as sess:\n",
    "    sess.run(tf.global_variables_initializer())\n",
    "    num_examples = len(X_train)\n",
    "\n",
    "    print(\"Training...\")\n",
    "    print()\n",
    "    for i in range(EPOCHS):\n",
    "        X_train, y_train = shuffle(X_train, y_train)\n",
    "        for offset in range(0, num_examples, BATCH_SIZE):\n",
    "            end = offset + BATCH_SIZE\n",
    "            batch_x, batch_y = X_train[offset:end], y_train[offset:end]\n",
    "            sess.run(training_operation, feed_dict={x: batch_x, y: batch_y})\n",
    "\n",
    "        validation_accuracy = evaluate(X_valid, y_valid)\n",
    "        print(\"EPOCH {} ...\".format(i + 1))\n",
    "        print(\"Validation Accuracy = {:.3f}\".format(validation_accuracy))\n",
    "        print()\n",
    "\n",
    "    saver.save(sess, './lenet')\n",
    "    print(\"Model saved\")"
   ]
  },
  {
   "cell_type": "code",
   "execution_count": 37,
   "metadata": {
    "collapsed": true
   },
   "outputs": [],
   "source": [
    "#normaliye the test set\n",
    "x_test_temp = X_test\n",
    "x_test_grayscale = temp = np.sum(X_test/3, axis=3, keepdims=True)\n",
    "X_test = (x_test_grayscale - 127.5)/255"
   ]
  },
  {
   "cell_type": "code",
   "execution_count": 38,
   "metadata": {
    "collapsed": false
   },
   "outputs": [
    {
     "name": "stdout",
     "output_type": "stream",
     "text": [
      "Test Accuracy = 0.927\n"
     ]
    }
   ],
   "source": [
    "#test the model on the test set \n",
    "with tf.Session() as sess:\n",
    "    saver.restore(sess, tf.train.latest_checkpoint('.'))\n",
    "\n",
    "    test_accuracy = evaluate(X_test, y_test)\n",
    "    print(\"Test Accuracy = {:.3f}\".format(test_accuracy))"
   ]
  },
  {
   "cell_type": "markdown",
   "metadata": {
    "deletable": true,
    "editable": true
   },
   "source": [
    "---\n",
    "\n",
    "## Step 3: Test a Model on New Images\n",
    "\n",
    "To give yourself more insight into how your model is working, download at least five pictures of German traffic signs from the web and use your model to predict the traffic sign type.\n",
    "\n",
    "You may find `signnames.csv` useful as it contains mappings from the class id (integer) to the actual sign name."
   ]
  },
  {
   "cell_type": "markdown",
   "metadata": {
    "deletable": true,
    "editable": true
   },
   "source": [
    "### Load and Output the Images"
   ]
  },
  {
   "cell_type": "code",
   "execution_count": 47,
   "metadata": {
    "collapsed": false,
    "deletable": true,
    "editable": true
   },
   "outputs": [
    {
     "ename": "ValueError",
     "evalue": "'axis' entry is out of bounds",
     "output_type": "error",
     "traceback": [
      "\u001b[0;31m---------------------------------------------------------------------------\u001b[0m",
      "\u001b[0;31mValueError\u001b[0m                                Traceback (most recent call last)",
      "\u001b[0;32m<ipython-input-47-bd867b3d6e57>\u001b[0m in \u001b[0;36m<module>\u001b[0;34m()\u001b[0m\n\u001b[1;32m     15\u001b[0m \u001b[0;34m\u001b[0m\u001b[0m\n\u001b[1;32m     16\u001b[0m \u001b[0mmy_images\u001b[0m \u001b[0;34m=\u001b[0m \u001b[0mnp\u001b[0m\u001b[0;34m.\u001b[0m\u001b[0masarray\u001b[0m\u001b[0;34m(\u001b[0m\u001b[0mmy_images\u001b[0m\u001b[0;34m)\u001b[0m\u001b[0;34m\u001b[0m\u001b[0m\n\u001b[0;32m---> 17\u001b[0;31m \u001b[0mimages_normalised\u001b[0m \u001b[0;34m=\u001b[0m \u001b[0mnp\u001b[0m\u001b[0;34m.\u001b[0m\u001b[0msum\u001b[0m\u001b[0;34m(\u001b[0m\u001b[0mmy_images\u001b[0m\u001b[0;34m/\u001b[0m\u001b[0;36m3\u001b[0m\u001b[0;34m,\u001b[0m \u001b[0maxis\u001b[0m\u001b[0;34m=\u001b[0m\u001b[0;36m3\u001b[0m\u001b[0;34m,\u001b[0m \u001b[0mkeepdims\u001b[0m\u001b[0;34m=\u001b[0m\u001b[0;32mTrue\u001b[0m\u001b[0;34m)\u001b[0m\u001b[0;34m\u001b[0m\u001b[0m\n\u001b[0m\u001b[1;32m     18\u001b[0m \u001b[0mimages_normalised\u001b[0m \u001b[0;34m=\u001b[0m \u001b[0;34m(\u001b[0m\u001b[0mimages_normalised\u001b[0m \u001b[0;34m-\u001b[0m \u001b[0;36m127.5\u001b[0m\u001b[0;34m)\u001b[0m\u001b[0;34m/\u001b[0m\u001b[0;36m255\u001b[0m\u001b[0;34m\u001b[0m\u001b[0m\n",
      "\u001b[0;32m/home/carnd/anaconda3/envs/carnd-term1/lib/python3.5/site-packages/numpy/core/fromnumeric.py\u001b[0m in \u001b[0;36msum\u001b[0;34m(a, axis, dtype, out, keepdims)\u001b[0m\n\u001b[1;32m   1846\u001b[0m     \u001b[0;32melse\u001b[0m\u001b[0;34m:\u001b[0m\u001b[0;34m\u001b[0m\u001b[0m\n\u001b[1;32m   1847\u001b[0m         return _methods._sum(a, axis=axis, dtype=dtype,\n\u001b[0;32m-> 1848\u001b[0;31m                             out=out, **kwargs)\n\u001b[0m\u001b[1;32m   1849\u001b[0m \u001b[0;34m\u001b[0m\u001b[0m\n\u001b[1;32m   1850\u001b[0m \u001b[0;34m\u001b[0m\u001b[0m\n",
      "\u001b[0;32m/home/carnd/anaconda3/envs/carnd-term1/lib/python3.5/site-packages/numpy/core/_methods.py\u001b[0m in \u001b[0;36m_sum\u001b[0;34m(a, axis, dtype, out, keepdims)\u001b[0m\n\u001b[1;32m     30\u001b[0m \u001b[0;34m\u001b[0m\u001b[0m\n\u001b[1;32m     31\u001b[0m \u001b[0;32mdef\u001b[0m \u001b[0m_sum\u001b[0m\u001b[0;34m(\u001b[0m\u001b[0ma\u001b[0m\u001b[0;34m,\u001b[0m \u001b[0maxis\u001b[0m\u001b[0;34m=\u001b[0m\u001b[0;32mNone\u001b[0m\u001b[0;34m,\u001b[0m \u001b[0mdtype\u001b[0m\u001b[0;34m=\u001b[0m\u001b[0;32mNone\u001b[0m\u001b[0;34m,\u001b[0m \u001b[0mout\u001b[0m\u001b[0;34m=\u001b[0m\u001b[0;32mNone\u001b[0m\u001b[0;34m,\u001b[0m \u001b[0mkeepdims\u001b[0m\u001b[0;34m=\u001b[0m\u001b[0;32mFalse\u001b[0m\u001b[0;34m)\u001b[0m\u001b[0;34m:\u001b[0m\u001b[0;34m\u001b[0m\u001b[0m\n\u001b[0;32m---> 32\u001b[0;31m     \u001b[0;32mreturn\u001b[0m \u001b[0mumr_sum\u001b[0m\u001b[0;34m(\u001b[0m\u001b[0ma\u001b[0m\u001b[0;34m,\u001b[0m \u001b[0maxis\u001b[0m\u001b[0;34m,\u001b[0m \u001b[0mdtype\u001b[0m\u001b[0;34m,\u001b[0m \u001b[0mout\u001b[0m\u001b[0;34m,\u001b[0m \u001b[0mkeepdims\u001b[0m\u001b[0;34m)\u001b[0m\u001b[0;34m\u001b[0m\u001b[0m\n\u001b[0m\u001b[1;32m     33\u001b[0m \u001b[0;34m\u001b[0m\u001b[0m\n\u001b[1;32m     34\u001b[0m \u001b[0;32mdef\u001b[0m \u001b[0m_prod\u001b[0m\u001b[0;34m(\u001b[0m\u001b[0ma\u001b[0m\u001b[0;34m,\u001b[0m \u001b[0maxis\u001b[0m\u001b[0;34m=\u001b[0m\u001b[0;32mNone\u001b[0m\u001b[0;34m,\u001b[0m \u001b[0mdtype\u001b[0m\u001b[0;34m=\u001b[0m\u001b[0;32mNone\u001b[0m\u001b[0;34m,\u001b[0m \u001b[0mout\u001b[0m\u001b[0;34m=\u001b[0m\u001b[0;32mNone\u001b[0m\u001b[0;34m,\u001b[0m \u001b[0mkeepdims\u001b[0m\u001b[0;34m=\u001b[0m\u001b[0;32mFalse\u001b[0m\u001b[0;34m)\u001b[0m\u001b[0;34m:\u001b[0m\u001b[0;34m\u001b[0m\u001b[0m\n",
      "\u001b[0;31mValueError\u001b[0m: 'axis' entry is out of bounds"
     ]
    },
    {
     "data": {
      "image/png": "[encoded data removed]",
      "text/plain": [
       "<matplotlib.figure.Figure at 0x7f1f9aef4ef0>"
      ]
     },
     "metadata": {},
     "output_type": "display_data"
    }
   ],
   "source": [
    "### Load the images and plot them here.\n",
    "### Feel free to use as many code cells as needed.\n",
    "import glob\n",
    "import matplotlib.pyplot as plt\n",
    "my_images = []\n",
    "fig = plt.figure()\n",
    "\n",
    "for i, img in enumerate(glob.glob('../../ubuntu/*.jpg')):\n",
    "    image = cv2.imread(img)\n",
    "    a=fig.add_subplot(1,5,i+1)    \n",
    "    plt.imshow(image.squeeze())\n",
    "    #cv2.imshow(cv2.cvtColor(image, cv2.COLOR_BGR2RGB))\n",
    "    my_images.append(image)\n",
    "    \n",
    "\n",
    "my_images = np.asarray(my_images)    \n",
    "images_normalised = np.sum(my_images/3, axis=3, keepdims=True)\n",
    "images_normalised = (images_normalised - 127.5)/255"
   ]
  },
  {
   "cell_type": "markdown",
   "metadata": {
    "deletable": true,
    "editable": true
   },
   "source": [
    "### Predict the Sign Type for Each Image"
   ]
  },
  {
   "cell_type": "code",
   "execution_count": 44,
   "metadata": {
    "collapsed": false,
    "deletable": true,
    "editable": true
   },
   "outputs": [
    {
     "ename": "NameError",
     "evalue": "name 'my_images_normalized' is not defined",
     "output_type": "error",
     "traceback": [
      "\u001b[0;31m---------------------------------------------------------------------------\u001b[0m",
      "\u001b[0;31mNameError\u001b[0m                                 Traceback (most recent call last)",
      "\u001b[0;32m<ipython-input-44-7b78727bdcfb>\u001b[0m in \u001b[0;36m<module>\u001b[0;34m()\u001b[0m\n\u001b[1;32m      7\u001b[0m     \u001b[0msaver3\u001b[0m \u001b[0;34m=\u001b[0m \u001b[0mtf\u001b[0m\u001b[0;34m.\u001b[0m\u001b[0mtrain\u001b[0m\u001b[0;34m.\u001b[0m\u001b[0mimport_meta_graph\u001b[0m\u001b[0;34m(\u001b[0m\u001b[0;34m'./lenet.meta'\u001b[0m\u001b[0;34m)\u001b[0m\u001b[0;34m\u001b[0m\u001b[0m\n\u001b[1;32m      8\u001b[0m     \u001b[0msaver3\u001b[0m\u001b[0;34m.\u001b[0m\u001b[0mrestore\u001b[0m\u001b[0;34m(\u001b[0m\u001b[0msess\u001b[0m\u001b[0;34m,\u001b[0m \u001b[0;34m\"./lenet\"\u001b[0m\u001b[0;34m)\u001b[0m\u001b[0;34m\u001b[0m\u001b[0m\n\u001b[0;32m----> 9\u001b[0;31m     \u001b[0mmy_accuracy\u001b[0m \u001b[0;34m=\u001b[0m \u001b[0mevaluate\u001b[0m\u001b[0;34m(\u001b[0m\u001b[0mmy_images_normalized\u001b[0m\u001b[0;34m,\u001b[0m \u001b[0mmy_labels\u001b[0m\u001b[0;34m)\u001b[0m\u001b[0;34m\u001b[0m\u001b[0m\n\u001b[0m\u001b[1;32m     10\u001b[0m     \u001b[0mprint\u001b[0m\u001b[0;34m(\u001b[0m\u001b[0;34m\"Test Set Accuracy = {:.3f}\"\u001b[0m\u001b[0;34m.\u001b[0m\u001b[0mformat\u001b[0m\u001b[0;34m(\u001b[0m\u001b[0mmy_accuracy\u001b[0m\u001b[0;34m)\u001b[0m\u001b[0;34m)\u001b[0m\u001b[0;34m\u001b[0m\u001b[0m\n",
      "\u001b[0;31mNameError\u001b[0m: name 'my_images_normalized' is not defined"
     ]
    }
   ],
   "source": [
    "### Run the predictions here and use the model to output the prediction for each image.\n",
    "### Make sure to pre-process the images with the same pre-processing pipeline used earlier.\n",
    "### Feel free to use as many code cells as needed.\n",
    "labels = [12,11,14,2,3]\n",
    "with tf.Session() as sess:\n",
    "    sess.run(tf.global_variables_initializer())\n",
    "    saver3 = tf.train.import_meta_graph('./lenet.meta')\n",
    "    saver3.restore(sess, \"./lenet\")\n",
    "    my_accuracy = evaluate(my_images_normalized, my_labels)\n",
    "    print(\"Test Set Accuracy = {:.3f}\".format(my_accuracy))"
   ]
  },
  {
   "cell_type": "markdown",
   "metadata": {
    "deletable": true,
    "editable": true
   },
   "source": [
    "### Analyze Performance"
   ]
  },
  {
   "cell_type": "code",
   "execution_count": null,
   "metadata": {
    "collapsed": true,
    "deletable": true,
    "editable": true
   },
   "outputs": [],
   "source": [
    "### Calculate the accuracy for these 5 new images. \n",
    "### For example, if the model predicted 1 out of 5 signs correctly, it's 20% accurate on these new images."
   ]
  },
  {
   "cell_type": "markdown",
   "metadata": {
    "deletable": true,
    "editable": true
   },
   "source": [
    "### Output Top 5 Softmax Probabilities For Each Image Found on the Web"
   ]
  },
  {
   "cell_type": "markdown",
   "metadata": {
    "deletable": true,
    "editable": true
   },
   "source": [
    "For each of the new images, print out the model's softmax probabilities to show the **certainty** of the model's predictions (limit the output to the top 5 probabilities for each image). [`tf.nn.top_k`](https://www.tensorflow.org/versions/r0.12/api_docs/python/nn.html#top_k) could prove helpful here. \n",
    "\n",
    "The example below demonstrates how tf.nn.top_k can be used to find the top k predictions for each image.\n",
    "\n",
    "`tf.nn.top_k` will return the values and indices (class ids) of the top k predictions. So if k=3, for each sign, it'll return the 3 largest probabilities (out of a possible 43) and the correspoding class ids.\n",
    "\n",
    "Take this numpy array as an example. The values in the array represent predictions. The array contains softmax probabilities for five candidate images with six possible classes. `tk.nn.top_k` is used to choose the three classes with the highest probability:\n",
    "\n",
    "```\n",
    "# (5, 6) array\n",
    "a = np.array([[ 0.24879643,  0.07032244,  0.12641572,  0.34763842,  0.07893497,\n",
    "         0.12789202],\n",
    "       [ 0.28086119,  0.27569815,  0.08594638,  0.0178669 ,  0.18063401,\n",
    "         0.15899337],\n",
    "       [ 0.26076848,  0.23664738,  0.08020603,  0.07001922,  0.1134371 ,\n",
    "         0.23892179],\n",
    "       [ 0.11943333,  0.29198961,  0.02605103,  0.26234032,  0.1351348 ,\n",
    "         0.16505091],\n",
    "       [ 0.09561176,  0.34396535,  0.0643941 ,  0.16240774,  0.24206137,\n",
    "         0.09155967]])\n",
    "```\n",
    "\n",
    "Running it through `sess.run(tf.nn.top_k(tf.constant(a), k=3))` produces:\n",
    "\n",
    "```\n",
    "TopKV2(values=array([[ 0.34763842,  0.24879643,  0.12789202],\n",
    "       [ 0.28086119,  0.27569815,  0.18063401],\n",
    "       [ 0.26076848,  0.23892179,  0.23664738],\n",
    "       [ 0.29198961,  0.26234032,  0.16505091],\n",
    "       [ 0.34396535,  0.24206137,  0.16240774]]), indices=array([[3, 0, 5],\n",
    "       [0, 1, 4],\n",
    "       [0, 5, 1],\n",
    "       [1, 3, 5],\n",
    "       [1, 4, 3]], dtype=int32))\n",
    "```\n",
    "\n",
    "Looking just at the first row we get `[ 0.34763842,  0.24879643,  0.12789202]`, you can confirm these are the 3 largest probabilities in `a`. You'll also notice `[3, 0, 5]` are the corresponding indices."
   ]
  },
  {
   "cell_type": "code",
   "execution_count": null,
   "metadata": {
    "collapsed": true,
    "deletable": true,
    "editable": true
   },
   "outputs": [],
   "source": [
    "### Print out the top five softmax probabilities for the predictions on the German traffic sign images found on the web. \n",
    "### Feel free to use as many code cells as needed."
   ]
  },
  {
   "cell_type": "markdown",
   "metadata": {
    "deletable": true,
    "editable": true
   },
   "source": [
    "---\n",
    "\n",
    "## Step 4: Visualize the Neural Network's State with Test Images\n",
    "\n",
    " This Section is not required to complete but acts as an additional excersise for understaning the output of a neural network's weights. While neural networks can be a great learning device they are often referred to as a black box. We can understand what the weights of a neural network look like better by plotting their feature maps. After successfully training your neural network you can see what it's feature maps look like by plotting the output of the network's weight layers in response to a test stimuli image. From these plotted feature maps, it's possible to see what characteristics of an image the network finds interesting. For a sign, maybe the inner network feature maps react with high activation to the sign's boundary outline or to the contrast in the sign's painted symbol.\n",
    "\n",
    " Provided for you below is the function code that allows you to get the visualization output of any tensorflow weight layer you want. The inputs to the function should be a stimuli image, one used during training or a new one you provided, and then the tensorflow variable name that represents the layer's state during the training process, for instance if you wanted to see what the [LeNet lab's](https://classroom.udacity.com/nanodegrees/nd013/parts/fbf77062-5703-404e-b60c-95b78b2f3f9e/modules/6df7ae49-c61c-4bb2-a23e-6527e69209ec/lessons/601ae704-1035-4287-8b11-e2c2716217ad/concepts/d4aca031-508f-4e0b-b493-e7b706120f81) feature maps looked like for it's second convolutional layer you could enter conv2 as the tf_activation variable.\n",
    "\n",
    "For an example of what feature map outputs look like, check out NVIDIA's results in their paper [End-to-End Deep Learning for Self-Driving Cars](https://devblogs.nvidia.com/parallelforall/deep-learning-self-driving-cars/) in the section Visualization of internal CNN State. NVIDIA was able to show that their network's inner weights had high activations to road boundary lines by comparing feature maps from an image with a clear path to one without. Try experimenting with a similar test to show that your trained network's weights are looking for interesting features, whether it's looking at differences in feature maps from images with or without a sign, or even what feature maps look like in a trained network vs a completely untrained one on the same sign image.\n",
    "\n",
    "<figure>\n",
    " <img src=\"visualize_cnn.png\" width=\"380\" alt=\"Combined Image\" />\n",
    " <figcaption>\n",
    " <p></p> \n",
    " <p style=\"text-align: center;\"> Your output should look something like this (above)</p> \n",
    " </figcaption>\n",
    "</figure>\n",
    " <p></p> \n"
   ]
  },
  {
   "cell_type": "code",
   "execution_count": null,
   "metadata": {
    "collapsed": true,
    "deletable": true,
    "editable": true
   },
   "outputs": [],
   "source": [
    "### Visualize your network's feature maps here.\n",
    "### Feel free to use as many code cells as needed.\n",
    "\n",
    "# image_input: the test image being fed into the network to produce the feature maps\n",
    "# tf_activation: should be a tf variable name used during your training procedure that represents the calculated state of a specific weight layer\n",
    "# activation_min/max: can be used to view the activation contrast in more detail, by default matplot sets min and max to the actual min and max values of the output\n",
    "# plt_num: used to plot out multiple different weight feature map sets on the same block, just extend the plt number for each new feature map entry\n",
    "\n",
    "def outputFeatureMap(image_input, tf_activation, activation_min=-1, activation_max=-1 ,plt_num=1):\n",
    "    # Here make sure to preprocess your image_input in a way your network expects\n",
    "    # with size, normalization, ect if needed\n",
    "    # image_input =\n",
    "    # Note: x should be the same name as your network's tensorflow data placeholder variable\n",
    "    # If you get an error tf_activation is not defined it maybe having trouble accessing the variable from inside a function\n",
    "    activation = tf_activation.eval(session=sess,feed_dict={x : image_input})\n",
    "    featuremaps = activation.shape[3]\n",
    "    plt.figure(plt_num, figsize=(15,15))\n",
    "    for featuremap in range(featuremaps):\n",
    "        plt.subplot(6,8, featuremap+1) # sets the number of feature maps to show on each row and column\n",
    "        plt.title('FeatureMap ' + str(featuremap)) # displays the feature map number\n",
    "        if activation_min != -1 & activation_max != -1:\n",
    "            plt.imshow(activation[0,:,:, featuremap], interpolation=\"nearest\", vmin =activation_min, vmax=activation_max, cmap=\"gray\")\n",
    "        elif activation_max != -1:\n",
    "            plt.imshow(activation[0,:,:, featuremap], interpolation=\"nearest\", vmax=activation_max, cmap=\"gray\")\n",
    "        elif activation_min !=-1:\n",
    "            plt.imshow(activation[0,:,:, featuremap], interpolation=\"nearest\", vmin=activation_min, cmap=\"gray\")\n",
    "        else:\n",
    "            plt.imshow(activation[0,:,:, featuremap], interpolation=\"nearest\", cmap=\"gray\")"
   ]
  },
  {
   "cell_type": "markdown",
   "metadata": {
    "deletable": true,
    "editable": true
   },
   "source": [
    "### Question 9\n",
    "\n",
    "Discuss how you used the visual output of your trained network's feature maps to show that it had learned to look for interesting characteristics in traffic sign images\n"
   ]
  },
  {
   "cell_type": "markdown",
   "metadata": {
    "deletable": true,
    "editable": true
   },
   "source": [
    "**Answer:**"
   ]
  },
  {
   "cell_type": "markdown",
   "metadata": {
    "deletable": true,
    "editable": true
   },
   "source": [
    "> **Note**: Once you have completed all of the code implementations and successfully answered each question above, you may finalize your work by exporting the iPython Notebook as an HTML document. You can do this by using the menu above and navigating to  \\n\",\n",
    "    \"**File -> Download as -> HTML (.html)**. Include the finished document along with this notebook as your submission."
   ]
  },
  {
   "cell_type": "markdown",
   "metadata": {
    "deletable": true,
    "editable": true
   },
   "source": [
    "### Project Writeup\n",
    "\n",
    "Once you have completed the code implementation, document your results in a project writeup using this [template](https://github.com/udacity/CarND-Traffic-Sign-Classifier-Project/blob/master/writeup_template.md) as a guide. The writeup can be in a markdown or pdf file. "
   ]
  }
 ],
 "metadata": {
  "anaconda-cloud": {},
  "kernelspec": {
   "display_name": "Python 3",
   "language": "python",
   "name": "python3"
  },
  "language_info": {
   "codemirror_mode": {
    "name": "ipython",
    "version": 3
   },
   "file_extension": ".py",
   "mimetype": "text/x-python",
   "name": "python",
   "nbconvert_exporter": "python",
   "pygments_lexer": "ipython3",
   "version": "3.5.2"
  },
  "widgets": {
   "state": {},
   "version": "1.1.2"
  }
 },
 "nbformat": 4,
 "nbformat_minor": 1
}
