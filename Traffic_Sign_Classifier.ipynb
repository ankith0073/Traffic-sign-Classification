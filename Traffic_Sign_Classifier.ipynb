{
 "cells": [
  {
   "cell_type": "markdown",
   "metadata": {
    "deletable": true,
    "editable": true
   },
   "source": [
    "# Self-Driving Car Engineer Nanodegree\n",
    "\n",
    "## Deep Learning\n",
    "\n",
    "## Project: Build a Traffic Sign Recognition Classifier\n",
    "\n",
    "In this notebook, a template is provided for you to implement your functionality in stages, which is required to successfully complete this project. If additional code is required that cannot be included in the notebook, be sure that the Python code is successfully imported and included in your submission if necessary. \n",
    "\n",
    "> **Note**: Once you have completed all of the code implementations, you need to finalize your work by exporting the iPython Notebook as an HTML document. Before exporting the notebook to html, all of the code cells need to have been run so that reviewers can see the final implementation and output. You can then export the notebook by using the menu above and navigating to  \\n\",\n",
    "    \"**File -> Download as -> HTML (.html)**. Include the finished document along with this notebook as your submission. \n",
    "\n",
    "In addition to implementing code, there is a writeup to complete. The writeup should be completed in a separate file, which can be either a markdown file or a pdf document. There is a [write up template](https://github.com/udacity/CarND-Traffic-Sign-Classifier-Project/blob/master/writeup_template.md) that can be used to guide the writing process. Completing the code template and writeup template will cover all of the [rubric points](https://review.udacity.com/#!/rubrics/481/view) for this project.\n",
    "\n",
    "The [rubric](https://review.udacity.com/#!/rubrics/481/view) contains \"Stand Out Suggestions\" for enhancing the project beyond the minimum requirements. The stand out suggestions are optional. If you decide to pursue the \"stand out suggestions\", you can include the code in this Ipython notebook and also discuss the results in the writeup file.\n",
    "\n",
    "\n",
    ">**Note:** Code and Markdown cells can be executed using the **Shift + Enter** keyboard shortcut. In addition, Markdown cells can be edited by typically double-clicking the cell to enter edit mode."
   ]
  },
  {
   "cell_type": "markdown",
   "metadata": {
    "deletable": true,
    "editable": true
   },
   "source": [
    "---\n",
    "## Step 0: Load The Data"
   ]
  },
  {
   "cell_type": "code",
   "execution_count": 1,
   "metadata": {
    "collapsed": false,
    "deletable": true,
    "editable": true
   },
   "outputs": [],
   "source": [
    "# Load pickled data\n",
    "import pickle\n",
    "import numpy as np \n",
    "\n",
    "# Locations of train, valid and test set\n",
    "\n",
    "training_file = \"../../ubuntu/train.p\"\n",
    "validation_file= \"../../ubuntu/valid.p\"\n",
    "testing_file =  \"../../ubuntu/test.p\"\n",
    "\n",
    "with open(training_file, mode='rb') as f:\n",
    "    train = pickle.load(f)\n",
    "with open(validation_file, mode='rb') as f:\n",
    "    valid = pickle.load(f)\n",
    "with open(testing_file, mode='rb') as f:\n",
    "    test = pickle.load(f)\n",
    "    \n",
    "X_train, y_train = train['features'], train['labels']\n",
    "X_valid, y_valid = valid['features'], valid['labels']\n",
    "X_test, y_test = test['features'], test['labels']"
   ]
  },
  {
   "cell_type": "markdown",
   "metadata": {
    "deletable": true,
    "editable": true
   },
   "source": [
    "---\n",
    "\n",
    "## Step 1: Dataset Summary & Exploration\n",
    "\n",
    "The pickled data is a dictionary with 4 key/value pairs:\n",
    "\n",
    "- `'features'` is a 4D array containing raw pixel data of the traffic sign images, (num examples, width, height, channels).\n",
    "- `'labels'` is a 1D array containing the label/class id of the traffic sign. The file `signnames.csv` contains id -> name mappings for each id.\n",
    "- `'sizes'` is a list containing tuples, (width, height) representing the original width and height the image.\n",
    "- `'coords'` is a list containing tuples, (x1, y1, x2, y2) representing coordinates of a bounding box around the sign in the image. **THESE COORDINATES ASSUME THE ORIGINAL IMAGE. THE PICKLED DATA CONTAINS RESIZED VERSIONS (32 by 32) OF THESE IMAGES**\n",
    "\n",
    "Complete the basic data summary below. Use python, numpy and/or pandas methods to calculate the data summary rather than hard coding the results. For example, the [pandas shape method](http://pandas.pydata.org/pandas-docs/stable/generated/pandas.DataFrame.shape.html) might be useful for calculating some of the summary results. "
   ]
  },
  {
   "cell_type": "markdown",
   "metadata": {
    "deletable": true,
    "editable": true
   },
   "source": [
    "### Provide a Basic Summary of the Data Set Using Python, Numpy and/or Pandas"
   ]
  },
  {
   "cell_type": "code",
   "execution_count": 2,
   "metadata": {
    "collapsed": false,
    "deletable": true,
    "editable": true
   },
   "outputs": [
    {
     "name": "stdout",
     "output_type": "stream",
     "text": [
      "Number of training examples = 34799\n",
      "Number of testing examples = 12630\n",
      "Image data shape = (32, 32, 3)\n",
      "Number of classes = 43\n"
     ]
    }
   ],
   "source": [
    "### Replace each question mark with the appropriate value.\n",
    "### Use python, pandas or numpy methods rather than hard coding the results\n",
    "\n",
    "# Number of training examples\n",
    "n_train = X_train.shape[0]\n",
    "\n",
    "# Number of testing examples.\n",
    "n_test = X_test.shape[0]\n",
    "\n",
    "# Shape of a traffic sign image\n",
    "image_shape = X_train.shape[1:]\n",
    "\n",
    "# Number of unique classes in the dataset\n",
    "n_classes = len(set(y_train))\n",
    "\n",
    "print(\"Number of training examples =\", n_train)\n",
    "print(\"Number of testing examples =\", n_test)\n",
    "print(\"Image data shape =\", image_shape)\n",
    "print(\"Number of classes =\", n_classes)"
   ]
  },
  {
   "cell_type": "markdown",
   "metadata": {
    "deletable": true,
    "editable": true
   },
   "source": [
    "### Include an exploratory visualization of the dataset"
   ]
  },
  {
   "cell_type": "markdown",
   "metadata": {
    "deletable": true,
    "editable": true
   },
   "source": [
    "Visualize the German Traffic Signs Dataset using the pickled file(s). This is open ended, suggestions include: plotting traffic sign images, plotting the count of each sign, etc.\n",
    "\n",
    "The [Matplotlib](http://matplotlib.org/) [examples](http://matplotlib.org/examples/index.html) and [gallery](http://matplotlib.org/gallery.html) pages are a great resource for doing visualizations in Python.\n",
    "\n",
    "**NOTE:** It's recommended you start with something simple first. If you wish to do more, come back to it after you've completed the rest of the sections."
   ]
  },
  {
   "cell_type": "code",
   "execution_count": 3,
   "metadata": {
    "collapsed": false,
    "deletable": true,
    "editable": true
   },
   "outputs": [
    {
     "name": "stderr",
     "output_type": "stream",
     "text": [
      "/home/carnd/anaconda3/envs/carnd-term1/lib/python3.5/site-packages/matplotlib/font_manager.py:280: UserWarning: Matplotlib is building the font cache using fc-list. This may take a moment.\n",
      "  'Matplotlib is building the font cache using fc-list. '\n"
     ]
    },
    {
     "data": {
      "image/png": "[encoded data removed]",
      "text/plain": [
       "<matplotlib.figure.Figure at 0x7fbfd3820da0>"
      ]
     },
     "metadata": {},
     "output_type": "display_data"
    }
   ],
   "source": [
    "# Visualizations will be shown in the notebook.\n",
    "import matplotlib.pyplot as plt\n",
    "%matplotlib inline\n",
    "elements_in_each_class, bins, patches = plt.hist(y_train, n_classes, normed=0)\n",
    "plt.show()"
   ]
  },
  {
   "cell_type": "markdown",
   "metadata": {
    "deletable": true,
    "editable": true
   },
   "source": [
    "----\n",
    "\n",
    "## Step 2: Design and Test a Model Architecture\n",
    "\n",
    "Design and implement a deep learning model that learns to recognize traffic signs. Train and test your model on the [German Traffic Sign Dataset](http://benchmark.ini.rub.de/?section=gtsrb&subsection=dataset).\n",
    "\n",
    "The LeNet-5 implementation shown in the [classroom](https://classroom.udacity.com/nanodegrees/nd013/parts/fbf77062-5703-404e-b60c-95b78b2f3f9e/modules/6df7ae49-c61c-4bb2-a23e-6527e69209ec/lessons/601ae704-1035-4287-8b11-e2c2716217ad/concepts/d4aca031-508f-4e0b-b493-e7b706120f81) at the end of the CNN lesson is a solid starting point. You'll have to change the number of classes and possibly the preprocessing, but aside from that it's plug and play! \n",
    "\n",
    "With the LeNet-5 solution from the lecture, you should expect a validation set accuracy of about 0.89. To meet specifications, the validation set accuracy will need to be at least 0.93. It is possible to get an even higher accuracy, but 0.93 is the minimum for a successful project submission. \n",
    "\n",
    "There are various aspects to consider when thinking about this problem:\n",
    "\n",
    "- Neural network architecture (is the network over or underfitting?)\n",
    "- Play around preprocessing techniques (normalization, rgb to grayscale, etc)\n",
    "- Number of examples per label (some have more than others).\n",
    "- Generate fake data.\n",
    "\n",
    "Here is an example of a [published baseline model on this problem](http://yann.lecun.com/exdb/publis/pdf/sermanet-ijcnn-11.pdf). It's not required to be familiar with the approach used in the paper but, it's good practice to try to read papers like these."
   ]
  },
  {
   "cell_type": "markdown",
   "metadata": {
    "deletable": true,
    "editable": true
   },
   "source": [
    "### Pre-process the Data Set (normalization, grayscale, etc.)"
   ]
  },
  {
   "cell_type": "markdown",
   "metadata": {
    "deletable": true,
    "editable": true
   },
   "source": [
    "Use the code cell (or multiple code cells, if necessary) to implement the first step of your project."
   ]
  },
  {
   "cell_type": "code",
   "execution_count": 4,
   "metadata": {
    "collapsed": false,
    "deletable": true,
    "editable": true
   },
   "outputs": [],
   "source": [
    "#arrange indices of images in the order of there classes in a dictionary\n",
    "#i.e separated_elements['0'] = [3 4 5 6], indices 3 ,4, 5, 6 of x_train belong to class 0 and so on \n",
    "separated_elements = dict()\n",
    "for i in range(n_classes):\n",
    "    #get the indices of images in x_train where images belong to class i\n",
    "    separated_elements[str(i)] = np.array(np.where(y_train == i))"
   ]
  },
  {
   "cell_type": "code",
   "execution_count": 5,
   "metadata": {
    "collapsed": false,
    "deletable": true,
    "editable": true
   },
   "outputs": [
    {
     "data": {
      "text/plain": [
       "<matplotlib.text.Text at 0x7fbfcf998b38>"
      ]
     },
     "execution_count": 5,
     "metadata": {},
     "output_type": "execute_result"
    },
    {
     "data": {
      "image/png": "[encoded data removed]",
      "text/plain": [
       "<matplotlib.figure.Figure at 0x7fbfe8263b70>"
      ]
     },
     "metadata": {},
     "output_type": "display_data"
    }
   ],
   "source": [
    "#translate the image\n",
    "import random\n",
    "import cv2\n",
    "%matplotlib inline\n",
    "def Translate_Image(input_x, random_X, random_Y):\n",
    "    # Function to perform image translation by the amount specified in translation_matrix\n",
    "    # Translation matrix is specified by M=[1 0 random_x; 0 1 random_Y]\n",
    "    # translate_X and translate_Y are the number of pixels by which we are doing the translation\n",
    "    # note that translation_matrix should be of np.float32() format\n",
    "    height, width = input_x.shape[:2]\n",
    "    translation_matrix = np.float32([[1,0,random_X],\n",
    "                                    [0,1,random_Y]])\n",
    "    return cv2.warpAffine(input_x,\n",
    "                          M = translation_matrix,\n",
    "                          dsize = (height, width))\n",
    "\n",
    "random_index = random.randint(0,X_train.shape[0]-1)\n",
    "image = X_train[random_index]\n",
    "random_x = random.randint(-2, 2)\n",
    "random_y = random.randint(-2, 2)\n",
    "#when random_x and random_Y is zero , we have a duplicate copy of the same image !\n",
    "if random_x == 0 and random_y == 0:\n",
    "    random_x = 1\n",
    "    random_y = 1\n",
    "jittered_image = Translate_Image(image,\n",
    "                                    random_X = random_x,\n",
    "                                    random_Y = random_y)\n",
    "temp_str = 'translated '+ str(y_train[random_index])\n",
    "\n",
    "fig = plt.figure()\n",
    "a=fig.add_subplot(1,2,1)\n",
    "disp_image = image.squeeze()\n",
    "plt.imshow(image.squeeze())\n",
    "plt.title('Original image')\n",
    "\n",
    "\n",
    "a=fig.add_subplot(1,2,2)\n",
    "plt.imshow(jittered_image.squeeze())\n",
    "plt.title(temp_str)"
   ]
  },
  {
   "cell_type": "code",
   "execution_count": 6,
   "metadata": {
    "collapsed": false,
    "deletable": true,
    "editable": true
   },
   "outputs": [
    {
     "data": {
      "text/plain": [
       "<matplotlib.text.Text at 0x7fbfc40babe0>"
      ]
     },
     "execution_count": 6,
     "metadata": {},
     "output_type": "execute_result"
    },
    {
     "data": {
      "image/png": "[encoded data removed]",
      "text/plain": [
       "<matplotlib.figure.Figure at 0x7fbfd3844d30>"
      ]
     },
     "metadata": {},
     "output_type": "display_data"
    }
   ],
   "source": [
    "#rotating the image\n",
    "\n",
    "def Rotate_Image(input_x, random_angle):\n",
    "    # Function to perform image rotation by the amount specified in random_angle\n",
    "    # Translation matrix is specified by M=[1 0 random_x; 0 1 random_Y]\n",
    "    # translate_X and translate_Y are the number of pixels by which we are doing the translation\n",
    "    # note that translation_matrix should be of np.float32() format\n",
    "    height,width = input_x.shape[:2]\n",
    "    center = [height/2,width/2]\n",
    "    #rotation matrix\n",
    "    translation_matrix = cv2.getRotationMatrix2D((center[0],center[1]),\n",
    "                                                 angle = random_angle,\n",
    "                                                 scale = 1)\n",
    "    return cv2.warpAffine(input_x,\n",
    "                          M = translation_matrix ,\n",
    "                          dsize = (height, width))\n",
    "\n",
    "random_index = random.randint(0,X_train.shape[0]-1)\n",
    "image = X_train[random_index]\n",
    "rand_angle = random.randint(-15,15)\n",
    "jittered_image = Rotate_Image(image,\n",
    "                              random_angle = rand_angle)\n",
    "temp_str = 'rotated '+ str(y_train[random_index])\n",
    "\n",
    "fig = plt.figure()\n",
    "a=fig.add_subplot(1,2,1)\n",
    "disp_image = image.squeeze()\n",
    "plt.imshow(image.squeeze())\n",
    "plt.title('Original image')\n",
    "\n",
    "\n",
    "a=fig.add_subplot(1,2,2)\n",
    "plt.imshow(jittered_image.squeeze())\n",
    "plt.title(temp_str)"
   ]
  },
  {
   "cell_type": "code",
   "execution_count": 7,
   "metadata": {
    "collapsed": false,
    "deletable": true,
    "editable": true
   },
   "outputs": [
    {
     "data": {
      "text/plain": [
       "<matplotlib.text.Text at 0x7fbfbc1a5860>"
      ]
     },
     "execution_count": 7,
     "metadata": {},
     "output_type": "execute_result"
    },
    {
     "data": {
      "image/png": "[encoded data removed]",
      "text/plain": [
       "<matplotlib.figure.Figure at 0x7fbfc40d60b8>"
      ]
     },
     "metadata": {},
     "output_type": "display_data"
    }
   ],
   "source": [
    "#image scaling\n",
    "import math\n",
    "def Scale_Image(input_x, random_scaling):\n",
    "    #Function to perform image scaling by factor specified in random_scaling\n",
    "    height, width = input_x.shape[:2]\n",
    "    resized_image = cv2.resize(input_x,\n",
    "                                dsize = (math.floor(random_scaling * width), math.floor(random_scaling * height)),\n",
    "                                interpolation=cv2.INTER_CUBIC)\n",
    "\n",
    "    if (resized_image.shape[0] < 32) or (resized_image.shape[1] < 32):\n",
    "        return cv2.copyMakeBorder(resized_image,\n",
    "                                  top = 32 - resized_image.shape[1],\n",
    "                                  bottom = 32 - resized_image.shape[1],\n",
    "                                  left = 32 - resized_image.shape[2],\n",
    "                                  right = 32 - resized_image.shape[2],\n",
    "                                  borderType = 'BORDER_CONSTANT')\n",
    "    else:\n",
    "        return resized_image[0:32,0:32]\n",
    "    \n",
    "random_index = random.randint(0,X_train.shape[0]-1)\n",
    "image = X_train[random_index]\n",
    "rand_scaling = random.uniform(1.1, 1.5)\n",
    "jittered_image = Scale_Image(image,\n",
    "                             random_scaling = rand_scaling)\n",
    "temp_str = 'scaled ' + str(y_train[random_index])  \n",
    "\n",
    "fig = plt.figure()\n",
    "a=fig.add_subplot(1,2,1)\n",
    "disp_image = image.squeeze()\n",
    "plt.imshow(image.squeeze())\n",
    "plt.title('Original image')\n",
    "\n",
    "\n",
    "a=fig.add_subplot(1,2,2)\n",
    "plt.imshow(jittered_image.squeeze())\n",
    "plt.title(temp_str)"
   ]
  },
  {
   "cell_type": "code",
   "execution_count": 8,
   "metadata": {
    "collapsed": false,
    "deletable": true,
    "editable": true
   },
   "outputs": [
    {
     "data": {
      "text/plain": [
       "<matplotlib.text.Text at 0x7fbfbc0ec630>"
      ]
     },
     "execution_count": 8,
     "metadata": {},
     "output_type": "execute_result"
    },
    {
     "data": {
      "image/png": "[encoded data removed]",
      "text/plain": [
       "<matplotlib.figure.Figure at 0x7fbfcf975ac8>"
      ]
     },
     "metadata": {},
     "output_type": "display_data"
    }
   ],
   "source": [
    "#Altering the nbrightness of the original image\n",
    "def Brightness_Change(input_x, random_brightness_scale, grayscale_flag = False):\n",
    "    #Function to perform brightness change in input image\n",
    "    # output_brightness = input_brightness * random_brightness_scale\n",
    "    #return (input_x * random_brightness_scale - 1.0)\n",
    "    #convert image to HSV and sclae just the V channel to increase the brightness\n",
    "    if not(grayscale_flag):\n",
    "        hsv = cv2.cvtColor(input_x,\n",
    "                           code = cv2.COLOR_RGB2HSV)\n",
    "        #scale the v channel\n",
    "        h, s, v = cv2.split(hsv)\n",
    "        v = v*random_brightness_scale\n",
    "        #check if overflow occurs\n",
    "        v[np.where(v >255)] = 255\n",
    "        v = np.array(v , dtype='f')\n",
    "        v = v.astype(np.uint8) # make the data types of h,s and v same\n",
    "        final_hsv = cv2.merge((h, s, v))\n",
    "        return cv2.cvtColor(final_hsv,\n",
    "                            code = cv2.COLOR_HSV2RGB)\n",
    "    else:\n",
    "        input_x = input_x * np.float32(random_brightness_scale)\n",
    "        return input_x.astype(np.uint8)\n",
    "grayscale_flag = 'False'\n",
    "random_index = random.randint(0,X_train.shape[0]-1)\n",
    "image = X_train[random_index]\n",
    "rand_brightness_scale = random.uniform(0.8, 1.5)\n",
    "jittered_image = Brightness_Change(image,\n",
    "                                   random_brightness_scale = rand_brightness_scale,\n",
    "                                   grayscale_flag = grayscale_flag)\n",
    "temp_str = 'brightness ' + str(y_train[random_index])\n",
    "\n",
    "fig = plt.figure()\n",
    "a=fig.add_subplot(1,2,1)\n",
    "disp_image = image.squeeze()\n",
    "plt.imshow(image.squeeze())\n",
    "plt.title('Original image')\n",
    "\n",
    "\n",
    "a=fig.add_subplot(1,2,2)\n",
    "plt.imshow(jittered_image.squeeze())\n",
    "plt.title(temp_str)"
   ]
  },
  {
   "cell_type": "code",
   "execution_count": 9,
   "metadata": {
    "collapsed": false,
    "deletable": true,
    "editable": true
   },
   "outputs": [
    {
     "data": {
      "text/plain": [
       "<matplotlib.text.Text at 0x7fbfae4fa4e0>"
      ]
     },
     "execution_count": 9,
     "metadata": {},
     "output_type": "execute_result"
    },
    {
     "data": {
      "image/png": "[encoded data removed]",
      "text/plain": [
       "<matplotlib.figure.Figure at 0x7fbfe8ae1e10>"
      ]
     },
     "metadata": {},
     "output_type": "display_data"
    }
   ],
   "source": [
    "#Blurring the image\n",
    "#Not used\n",
    "def Gaussian_Blur(input_x, random_kernel_size):\n",
    "    #Function to perform gaussian blur by the kernel size specified by Random_kernel_size\n",
    "    return cv2.blur(input_x,\n",
    "                    (random_kernel_size, random_kernel_size))\n",
    "\n",
    "random_index = random.randint(0,X_train.shape[0]-1)\n",
    "image = X_train[random_index]\n",
    "rand_kernel_size = random.randint(2,4)\n",
    "jittered_image = Gaussian_Blur(image,\n",
    "                            random_kernel_size = rand_kernel_size)\n",
    "temp_str = 'blurred ' + str(y_train[random_index])\n",
    "\n",
    "fig = plt.figure()\n",
    "a=fig.add_subplot(1,2,1)\n",
    "disp_image = image.squeeze()\n",
    "plt.imshow(image.squeeze())\n",
    "plt.title('Original image')\n",
    "\n",
    "\n",
    "a=fig.add_subplot(1,2,2)\n",
    "plt.imshow(jittered_image.squeeze())\n",
    "plt.title(temp_str)"
   ]
  },
  {
   "cell_type": "code",
   "execution_count": 10,
   "metadata": {
    "collapsed": false,
    "deletable": true,
    "editable": true
   },
   "outputs": [],
   "source": [
    "#pipeline to augment the data, \n",
    "#randomly select an image belonging to a particular class and perform a jittering operation(i.e either translation\n",
    "#rotation, scaling, brightness change , blurring) which is also selected at random\n",
    "\n",
    "#minimum number of instances of each class after data augmentation\n",
    "min_number = 700\n",
    "gray_scale = 'False'\n",
    "for i in range(n_classes):\n",
    "    if elements_in_each_class[i] < min_number:\n",
    "        #get the diffrence between number of elements in the current class and max number, here max_number = 1000\n",
    "        diff_in_Classes = min_number - elements_in_each_class[i]\n",
    "        synthetically_generated_images = 0\n",
    "        while synthetically_generated_images < diff_in_Classes:\n",
    "            #create new artificial images to balance the data set\n",
    "            #choose a random image belong to a class and perform 5 jittering with random values and append it to the same class\n",
    "            random_index = random.randint(0,(separated_elements[str(i)].shape[1]) - 1 )\n",
    "            #get the index of image in x_train, i.e access the element in random_image_index of separated_elements\n",
    "\n",
    "            image_index = separated_elements[str(i)][0][random_index]\n",
    "            image = X_train[image_index]         \n",
    "\n",
    "            \n",
    "            #random parameters for translate\n",
    "            random_x = random.randint(-2, 2)\n",
    "            random_y = random.randint(-2, 2)\n",
    "\n",
    "            #random parameters for rotate\n",
    "            rand_angle = random.randint(-15, 15)\n",
    "\n",
    "            #random paramteres for scaling\n",
    "            rand_scaling = random.uniform(1.1, 1.5)\n",
    "\n",
    "            #random parameters for brightness adjustment\n",
    "            rand_brightness_scale = random.uniform(0.8, 1.5)\n",
    "            #apply jitter\n",
    "            jittered_image = Brightness_Change(Scale_Image(Rotate_Image(Translate_Image(image,random_X = random_x,random_Y = random_y),random_angle = rand_angle),random_scaling = rand_scaling),random_brightness_scale = rand_brightness_scale )   \n",
    "\n",
    "\n",
    "            synthetically_generated_images = synthetically_generated_images + 1            \n",
    "            X_train = np.concatenate((X_train, [jittered_image]),\n",
    "                                     axis=0)\n",
    "            y_train = np.concatenate((y_train,[i]),\n",
    "                                     axis = 0)           "
   ]
  },
  {
   "cell_type": "code",
   "execution_count": 11,
   "metadata": {
    "collapsed": false,
    "deletable": true,
    "editable": true
   },
   "outputs": [
    {
     "data": {
      "image/png": "[encoded data removed]",
      "text/plain": [
       "<matplotlib.figure.Figure at 0x7fbfae4d19b0>"
      ]
     },
     "metadata": {},
     "output_type": "display_data"
    }
   ],
   "source": [
    "#histogram of validation set \n",
    "elements_in_each_class, bins, patches = plt.hist(y_valid, n_classes, normed=0)"
   ]
  },
  {
   "cell_type": "code",
   "execution_count": 12,
   "metadata": {
    "collapsed": false,
    "deletable": true,
    "editable": true,
    "scrolled": true
   },
   "outputs": [
    {
     "data": {
      "image/png": "[encoded data removed]",
      "text/plain": [
       "<matplotlib.figure.Figure at 0x7fbfae3aec88>"
      ]
     },
     "metadata": {},
     "output_type": "display_data"
    }
   ],
   "source": [
    "#histogram after Augmenting the data\n",
    "elements_in_each_class, bins, patches = plt.hist(y_train, n_classes, normed=0)"
   ]
  },
  {
   "cell_type": "code",
   "execution_count": 13,
   "metadata": {
    "collapsed": true,
    "deletable": true,
    "editable": true
   },
   "outputs": [],
   "source": [
    "#convert to grayscale , Histrogram normalize the images and center pixels to zero mean\n",
    "x_grayscale = temp = np.sum(X_train/3, axis=3, keepdims=True)\n",
    "x_valid_grayscale = np.sum(X_valid/3, axis=3, keepdims=True)\n",
    "\n",
    "#images copy without histogram normalization\n",
    "x_train_temp = (x_grayscale - 127.5)/255\n",
    "x_valid_temp = (x_valid_grayscale - 127.5)/255\n",
    "\n",
    "#histogram normalization\n",
    "for i in range(0,X_train.shape[0]):\n",
    "    x_grayscale[i,:,:,0] = cv2.equalizeHist(np.uint8(x_grayscale[i]))\n",
    "\n",
    "for i in range(0,X_valid.shape[0]):\n",
    "    x_valid_grayscale[i,:,:,0] = cv2.equalizeHist(np.uint8(x_valid_grayscale[i]))\n",
    "\n",
    "#normalize histogram and zero mean\n",
    "X_train = (x_grayscale - 127.5)/255\n",
    "X_valid = (x_valid_grayscale - 127.5)/255\n",
    "\n",
    "#display purposes\n",
    "x_grayscale = X_train\n",
    "x_valid_grayscale = X_valid\n"
   ]
  },
  {
   "cell_type": "code",
   "execution_count": 16,
   "metadata": {
    "collapsed": false,
    "deletable": true,
    "editable": true
   },
   "outputs": [
    {
     "data": {
      "text/plain": [
       "<matplotlib.text.Text at 0x7fbfae0a77f0>"
      ]
     },
     "execution_count": 16,
     "metadata": {},
     "output_type": "execute_result"
    },
    {
     "data": {
      "image/png": "[encoded data removed]",
      "text/plain": [
       "<matplotlib.figure.Figure at 0x7fbfae2b4e80>"
      ]
     },
     "metadata": {},
     "output_type": "display_data"
    }
   ],
   "source": [
    "#display a random image\n",
    "import random\n",
    "index = random.randint(0,len(X_train))\n",
    "image = x_train_temp[index].squeeze()\n",
    "plt.figure(figsize=(5,5))\n",
    "plt.subplot(1,2,1)\n",
    "plt.imshow(image,cmap='gray')\n",
    "plt.title('0 mean gray')\n",
    "\n",
    "#display the histogram normalized image\n",
    "plt.subplot(1,2,2)\n",
    "image = X_train[index].squeeze()\n",
    "plt.imshow(image,cmap='gray')\n",
    "plt.title('Histogram equalized')\n"
   ]
  },
  {
   "cell_type": "markdown",
   "metadata": {
    "deletable": true,
    "editable": true
   },
   "source": [
    "### Model Architecture"
   ]
  },
  {
   "cell_type": "code",
   "execution_count": 17,
   "metadata": {
    "collapsed": false,
    "deletable": true,
    "editable": true
   },
   "outputs": [],
   "source": [
    "import tensorflow as tf\n",
    "from tensorflow.contrib.layers import flatten\n",
    "#probability of dropout\n",
    "keep_prob = 0.5\n",
    "mu = 0\n",
    "sigma = 0.1\n",
    "\n",
    "weights = {\n",
    "    'wc1': tf.Variable(tf.random_normal([5,5,1,6],mu,sigma), name = 'wc1'),\n",
    "    'wc2': tf.Variable(tf.random_normal([5, 5, 6, 16],mu,sigma), name = 'wc2'),\n",
    "    'wd1': tf.Variable(tf.random_normal([400, 120],mu,sigma),name = 'wd1'),\n",
    "    'wd2': tf.Variable(tf.random_normal([120, 84],mu,sigma), name = 'wd2'),\n",
    "    'out': tf.Variable(tf.random_normal([84, n_classes],mu,sigma),name = 'out')\n",
    "         }\n",
    "\n",
    "biases = {\n",
    "    'bc1': tf.Variable(tf.zeros([6]),name = 'bc1'),\n",
    "    'bc2': tf.Variable(tf.zeros([16]), name = 'bc2'),\n",
    "    'bd1': tf.Variable(tf.zeros([120]), name= 'bd1'),\n",
    "    'bd2': tf.Variable(tf.zeros([84]), name = 'bd2'),\n",
    "    'out': tf.Variable(tf.zeros([n_classes]), name= 'out_bias')}\n",
    "\n",
    "strides = {\n",
    "        'Layer1_strides': {'conv':[1,1,1,1],\n",
    "                          'maxpool':[1,2,2,1]},\n",
    "        'Layer2_strides': {'conv':[1,1,1,1],\n",
    "                          'maxpool':[1,2,2,1]}}\n",
    "\n",
    "#Architecture definition\n",
    "def LeNet(x):\n",
    "\n",
    "    x = tf.nn.conv2d(x,weights['wc1'],strides['Layer1_strides']['conv'],'VALID')\n",
    "    x = tf.nn.bias_add(x,biases['bc1'])\n",
    "    x = tf.nn.relu(x)\n",
    "    x = tf.nn.max_pool(x,strides['Layer1_strides']['maxpool'],strides['Layer1_strides']['maxpool'],'VALID')\n",
    "\n",
    "\n",
    "    x = tf.nn.conv2d(x, weights['wc2'], strides['Layer2_strides']['conv'], 'VALID')\n",
    "    x = tf.nn.bias_add(x,biases['bc2'])\n",
    "    x = tf.nn.relu(x)\n",
    "    x = tf.nn.max_pool(x, strides['Layer2_strides']['maxpool'],strides['Layer2_strides']['maxpool'],'VALID')\n",
    "\n",
    "    x = flatten(x)\n",
    "\n",
    "    x = tf.add(tf.matmul(x,weights['wd1']),biases['bd1'])\n",
    "    x = tf.nn.relu(x)\n",
    "\n",
    "    x = tf.add(tf.matmul(x, weights['wd2']), biases['bd2'])\n",
    "    x = tf.nn.relu(x)\n",
    "    x = tf.nn.dropout(x, keep_prob)\n",
    "\n",
    "    logits = tf.add(tf.matmul(x, weights['out']), biases['out'])\n",
    "    return logits"
   ]
  },
  {
   "cell_type": "markdown",
   "metadata": {
    "deletable": true,
    "editable": true
   },
   "source": [
    "### Train, Validate and Test the Model"
   ]
  },
  {
   "cell_type": "markdown",
   "metadata": {
    "deletable": true,
    "editable": true
   },
   "source": [
    "A validation set can be used to assess how well the model is performing. A low accuracy on the training and validation\n",
    "sets imply underfitting. A high accuracy on the training set but low accuracy on the validation set implies overfitting."
   ]
  },
  {
   "cell_type": "code",
   "execution_count": 19,
   "metadata": {
    "collapsed": true,
    "deletable": true,
    "editable": true
   },
   "outputs": [],
   "source": [
    "#epochs and batch size definition\n",
    "EPOCHS = 70\n",
    "BATCH_SIZE = 128\n",
    "rate = 0.0008"
   ]
  },
  {
   "cell_type": "code",
   "execution_count": 20,
   "metadata": {
    "collapsed": false,
    "deletable": true,
    "editable": true,
    "scrolled": true
   },
   "outputs": [
    {
     "name": "stdout",
     "output_type": "stream",
     "text": [
      "Training...\n",
      "\n",
      "EPOCH 1 ...\n",
      "Validation Accuracy = 0.566\n",
      "\n",
      "EPOCH 2 ...\n",
      "Validation Accuracy = 0.723\n",
      "\n",
      "EPOCH 3 ...\n",
      "Validation Accuracy = 0.773\n",
      "\n",
      "EPOCH 4 ...\n",
      "Validation Accuracy = 0.805\n",
      "\n",
      "EPOCH 5 ...\n",
      "Validation Accuracy = 0.823\n",
      "\n",
      "EPOCH 6 ...\n",
      "Validation Accuracy = 0.847\n",
      "\n",
      "EPOCH 7 ...\n",
      "Validation Accuracy = 0.858\n",
      "\n",
      "EPOCH 8 ...\n",
      "Validation Accuracy = 0.860\n",
      "\n",
      "EPOCH 9 ...\n",
      "Validation Accuracy = 0.870\n",
      "\n",
      "EPOCH 10 ...\n",
      "Validation Accuracy = 0.877\n",
      "\n",
      "EPOCH 11 ...\n",
      "Validation Accuracy = 0.880\n",
      "\n",
      "EPOCH 12 ...\n",
      "Validation Accuracy = 0.880\n",
      "\n",
      "EPOCH 13 ...\n",
      "Validation Accuracy = 0.896\n",
      "\n",
      "EPOCH 14 ...\n",
      "Validation Accuracy = 0.891\n",
      "\n",
      "EPOCH 15 ...\n",
      "Validation Accuracy = 0.899\n",
      "\n",
      "EPOCH 16 ...\n",
      "Validation Accuracy = 0.905\n",
      "\n",
      "EPOCH 17 ...\n",
      "Validation Accuracy = 0.896\n",
      "\n",
      "EPOCH 18 ...\n",
      "Validation Accuracy = 0.900\n",
      "\n",
      "EPOCH 19 ...\n",
      "Validation Accuracy = 0.905\n",
      "\n",
      "EPOCH 20 ...\n",
      "Validation Accuracy = 0.901\n",
      "\n",
      "EPOCH 21 ...\n",
      "Validation Accuracy = 0.900\n",
      "\n",
      "EPOCH 22 ...\n",
      "Validation Accuracy = 0.909\n",
      "\n",
      "EPOCH 23 ...\n",
      "Validation Accuracy = 0.904\n",
      "\n",
      "EPOCH 24 ...\n",
      "Validation Accuracy = 0.916\n",
      "\n",
      "EPOCH 25 ...\n",
      "Validation Accuracy = 0.920\n",
      "\n",
      "EPOCH 26 ...\n",
      "Validation Accuracy = 0.914\n",
      "\n",
      "EPOCH 27 ...\n",
      "Validation Accuracy = 0.923\n",
      "\n",
      "EPOCH 28 ...\n",
      "Validation Accuracy = 0.920\n",
      "\n",
      "EPOCH 29 ...\n",
      "Validation Accuracy = 0.922\n",
      "\n",
      "EPOCH 30 ...\n",
      "Validation Accuracy = 0.914\n",
      "\n",
      "EPOCH 31 ...\n",
      "Validation Accuracy = 0.917\n",
      "\n",
      "EPOCH 32 ...\n",
      "Validation Accuracy = 0.923\n",
      "\n",
      "EPOCH 33 ...\n",
      "Validation Accuracy = 0.922\n",
      "\n",
      "EPOCH 34 ...\n",
      "Validation Accuracy = 0.917\n",
      "\n",
      "EPOCH 35 ...\n",
      "Validation Accuracy = 0.923\n",
      "\n",
      "EPOCH 36 ...\n",
      "Validation Accuracy = 0.922\n",
      "\n",
      "EPOCH 37 ...\n",
      "Validation Accuracy = 0.922\n",
      "\n",
      "EPOCH 38 ...\n",
      "Validation Accuracy = 0.923\n",
      "\n",
      "EPOCH 39 ...\n",
      "Validation Accuracy = 0.919\n",
      "\n",
      "EPOCH 40 ...\n",
      "Validation Accuracy = 0.925\n",
      "\n",
      "EPOCH 41 ...\n",
      "Validation Accuracy = 0.922\n",
      "\n",
      "EPOCH 42 ...\n",
      "Validation Accuracy = 0.923\n",
      "\n",
      "EPOCH 43 ...\n",
      "Validation Accuracy = 0.932\n",
      "\n",
      "EPOCH 44 ...\n",
      "Validation Accuracy = 0.927\n",
      "\n",
      "EPOCH 45 ...\n",
      "Validation Accuracy = 0.925\n",
      "\n",
      "EPOCH 46 ...\n",
      "Validation Accuracy = 0.927\n",
      "\n",
      "EPOCH 47 ...\n",
      "Validation Accuracy = 0.929\n",
      "\n",
      "EPOCH 48 ...\n",
      "Validation Accuracy = 0.934\n",
      "\n",
      "EPOCH 49 ...\n",
      "Validation Accuracy = 0.936\n",
      "\n",
      "EPOCH 50 ...\n",
      "Validation Accuracy = 0.923\n",
      "\n",
      "EPOCH 51 ...\n",
      "Validation Accuracy = 0.930\n",
      "\n",
      "EPOCH 52 ...\n",
      "Validation Accuracy = 0.937\n",
      "\n",
      "EPOCH 53 ...\n",
      "Validation Accuracy = 0.928\n",
      "\n",
      "EPOCH 54 ...\n",
      "Validation Accuracy = 0.925\n",
      "\n",
      "EPOCH 55 ...\n",
      "Validation Accuracy = 0.924\n",
      "\n",
      "EPOCH 56 ...\n",
      "Validation Accuracy = 0.922\n",
      "\n",
      "EPOCH 57 ...\n",
      "Validation Accuracy = 0.934\n",
      "\n",
      "EPOCH 58 ...\n",
      "Validation Accuracy = 0.926\n",
      "\n",
      "EPOCH 59 ...\n",
      "Validation Accuracy = 0.930\n",
      "\n",
      "EPOCH 60 ...\n",
      "Validation Accuracy = 0.929\n",
      "\n",
      "EPOCH 61 ...\n",
      "Validation Accuracy = 0.933\n",
      "\n",
      "EPOCH 62 ...\n",
      "Validation Accuracy = 0.937\n",
      "\n",
      "EPOCH 63 ...\n",
      "Validation Accuracy = 0.934\n",
      "\n",
      "EPOCH 64 ...\n",
      "Validation Accuracy = 0.931\n",
      "\n",
      "EPOCH 65 ...\n",
      "Validation Accuracy = 0.936\n",
      "\n",
      "EPOCH 66 ...\n",
      "Validation Accuracy = 0.939\n",
      "\n",
      "EPOCH 67 ...\n",
      "Validation Accuracy = 0.940\n",
      "\n",
      "EPOCH 68 ...\n",
      "Validation Accuracy = 0.935\n",
      "\n",
      "EPOCH 69 ...\n",
      "Validation Accuracy = 0.932\n",
      "\n",
      "EPOCH 70 ...\n",
      "Validation Accuracy = 0.933\n",
      "\n",
      "Model saved\n"
     ]
    }
   ],
   "source": [
    "from sklearn.utils import shuffle\n",
    "import tensorflow as tf\n",
    "x = tf.placeholder(tf.float32, (None, X_train.shape[1], X_train.shape[2], X_train.shape[3]))\n",
    "y = tf.placeholder(tf.int32, (None))\n",
    "one_hot_y = tf.one_hot(y, 43)\n",
    "\n",
    "logits = LeNet(x)\n",
    "cross_entropy = tf.nn.softmax_cross_entropy_with_logits(logits = logits, labels = one_hot_y)\n",
    "loss_operation = tf.reduce_mean(cross_entropy)\n",
    "optimizer = tf.train.AdamOptimizer(learning_rate = rate)\n",
    "training_operation = optimizer.minimize(loss_operation)\n",
    "\n",
    "correct_prediction = tf.equal(tf.argmax(logits, 1), tf.argmax(one_hot_y, 1))\n",
    "accuracy_operation = tf.reduce_mean(tf.cast(correct_prediction, tf.float32))\n",
    "saver = tf.train.Saver()\n",
    "\n",
    "def evaluate(X_data, y_data):\n",
    "    num_examples = len(X_data)\n",
    "    total_accuracy = 0\n",
    "    sess = tf.get_default_session()\n",
    "    for offset in range(0, num_examples, BATCH_SIZE):\n",
    "        batch_x, batch_y = X_data[offset:offset+BATCH_SIZE], y_data[offset:offset+BATCH_SIZE]\n",
    "        accuracy = sess.run(accuracy_operation, feed_dict={x: batch_x, y: batch_y})\n",
    "        total_accuracy += (accuracy * len(batch_x))\n",
    "    return total_accuracy / num_examples\n",
    "\n",
    "\n",
    "with tf.Session() as sess:\n",
    "    sess.run(tf.global_variables_initializer())\n",
    "    num_examples = len(X_train)\n",
    "\n",
    "    print(\"Training...\")\n",
    "    print()\n",
    "    for i in range(EPOCHS):\n",
    "        X_train, y_train = shuffle(X_train, y_train)\n",
    "        for offset in range(0, num_examples, BATCH_SIZE):\n",
    "            end = offset + BATCH_SIZE\n",
    "            batch_x, batch_y = X_train[offset:end], y_train[offset:end]\n",
    "            sess.run(training_operation, feed_dict={x: batch_x, y: batch_y})\n",
    "\n",
    "        validation_accuracy = evaluate(X_valid, y_valid)\n",
    "        print(\"EPOCH {} ...\".format(i + 1))\n",
    "        print(\"Validation Accuracy = {:.3f}\".format(validation_accuracy))\n",
    "        print()\n",
    "\n",
    "    saver.save(sess, './lenet')\n",
    "    print(\"Model saved\")"
   ]
  },
  {
   "cell_type": "code",
   "execution_count": 23,
   "metadata": {
    "collapsed": true,
    "deletable": true,
    "editable": true
   },
   "outputs": [],
   "source": [
    "import tensorflow as tf\n",
    "from tensorflow.contrib.layers import flatten \n",
    "#probability of dropout\n",
    "keep_prob = 0.5\n",
    "#architecture 2 definition\n",
    "def lenet_2(x):\n",
    "    mu = 0\n",
    "    sigma = 0.1\n",
    "    n_classes = 43\n",
    "    weights = {\n",
    "        'wc1': tf.Variable(tf.random_normal([5,5,1,6],mu,sigma)),\n",
    "        'wc2': tf.Variable(tf.random_normal([5, 5, 6, 16],mu,sigma)),\n",
    "        'wd1': tf.Variable(tf.random_normal([694, 100],mu,sigma)),\n",
    "        'wd2': tf.Variable(tf.random_normal([100, 84],mu,sigma)),\n",
    "        'out': tf.Variable(tf.random_normal([84, n_classes],mu,sigma))\n",
    "             }\n",
    "\n",
    "    biases = {\n",
    "        'bc1': tf.Variable(tf.zeros([6])),\n",
    "        'bc2': tf.Variable(tf.zeros([16])),\n",
    "        'bd1': tf.Variable(tf.zeros([100])),\n",
    "        'bd2': tf.Variable(tf.zeros([84])),\n",
    "        'out': tf.Variable(tf.zeros([n_classes]))}\n",
    "\n",
    "    strides = {\n",
    "            'Layer1_strides': {'conv':[1,1,1,1],\n",
    "                              'maxpool':[1,2,2,1]},\n",
    "            'Layer2_strides': {'conv':[1,1,1,1],\n",
    "                              'maxpool':[1,2,2,1]}}\n",
    "\n",
    "\n",
    "\n",
    "    x = tf.nn.conv2d(x,weights['wc1'],strides['Layer1_strides']['conv'],'VALID')\n",
    "    x = tf.nn.bias_add(x,biases['bc1'])\n",
    "    x = tf.nn.relu(x)\n",
    "    x = tf.nn.max_pool(x,strides['Layer1_strides']['maxpool'],strides['Layer1_strides']['maxpool'],'VALID')\n",
    "    #second subsampling layer\n",
    "    temp = tf.nn.max_pool(x,strides['Layer1_strides']['maxpool'],strides['Layer1_strides']['maxpool'],'VALID')\n",
    "    temp = flatten(temp)\n",
    "\n",
    "    x = tf.nn.conv2d(x, weights['wc2'], strides['Layer2_strides']['conv'], 'VALID')\n",
    "    x = tf.nn.bias_add(x,biases['bc2'])\n",
    "    x = tf.nn.relu(x)\n",
    "    x = tf.nn.max_pool(x, strides['Layer2_strides']['maxpool'],strides['Layer2_strides']['maxpool'],'VALID')\n",
    "\n",
    "    x = tf.concat_v2([temp, flatten(x)], 1)\n",
    "\n",
    "    x = tf.add(tf.matmul(x,weights['wd1']),biases['bd1'])\n",
    "    x = tf.nn.relu(x)\n",
    "\n",
    "    #x = tf.nn.dropout(x, keep_prob)\n",
    "    \n",
    "    x = tf.add(tf.matmul(x, weights['wd2']), biases['bd2'])\n",
    "    x = tf.nn.relu(x)\n",
    "\n",
    "    x = tf.nn.dropout(x, keep_prob)\n",
    "    \n",
    "    logits = tf.add(tf.matmul(x, weights['out']), biases['out'])\n",
    "    return logits"
   ]
  },
  {
   "cell_type": "code",
   "execution_count": 24,
   "metadata": {
    "collapsed": false,
    "deletable": true,
    "editable": true
   },
   "outputs": [
    {
     "name": "stdout",
     "output_type": "stream",
     "text": [
      "Training...\n",
      "\n",
      "EPOCH 1 ...\n",
      "Validation Accuracy = 0.537\n",
      "\n",
      "EPOCH 2 ...\n",
      "Validation Accuracy = 0.687\n",
      "\n",
      "EPOCH 3 ...\n",
      "Validation Accuracy = 0.746\n",
      "\n",
      "EPOCH 4 ...\n",
      "Validation Accuracy = 0.789\n",
      "\n",
      "EPOCH 5 ...\n",
      "Validation Accuracy = 0.807\n",
      "\n",
      "EPOCH 6 ...\n",
      "Validation Accuracy = 0.825\n",
      "\n",
      "EPOCH 7 ...\n",
      "Validation Accuracy = 0.835\n",
      "\n",
      "EPOCH 8 ...\n",
      "Validation Accuracy = 0.849\n",
      "\n",
      "EPOCH 9 ...\n",
      "Validation Accuracy = 0.844\n",
      "\n",
      "EPOCH 10 ...\n",
      "Validation Accuracy = 0.868\n",
      "\n",
      "EPOCH 11 ...\n",
      "Validation Accuracy = 0.870\n",
      "\n",
      "EPOCH 12 ...\n",
      "Validation Accuracy = 0.889\n",
      "\n",
      "EPOCH 13 ...\n",
      "Validation Accuracy = 0.890\n",
      "\n",
      "EPOCH 14 ...\n",
      "Validation Accuracy = 0.896\n",
      "\n",
      "EPOCH 15 ...\n",
      "Validation Accuracy = 0.886\n",
      "\n",
      "EPOCH 16 ...\n",
      "Validation Accuracy = 0.890\n",
      "\n",
      "EPOCH 17 ...\n",
      "Validation Accuracy = 0.899\n",
      "\n",
      "EPOCH 18 ...\n",
      "Validation Accuracy = 0.901\n",
      "\n",
      "EPOCH 19 ...\n",
      "Validation Accuracy = 0.900\n",
      "\n",
      "EPOCH 20 ...\n",
      "Validation Accuracy = 0.895\n",
      "\n",
      "EPOCH 21 ...\n",
      "Validation Accuracy = 0.907\n",
      "\n",
      "EPOCH 22 ...\n",
      "Validation Accuracy = 0.902\n",
      "\n",
      "EPOCH 23 ...\n",
      "Validation Accuracy = 0.908\n",
      "\n",
      "EPOCH 24 ...\n",
      "Validation Accuracy = 0.907\n",
      "\n",
      "EPOCH 25 ...\n",
      "Validation Accuracy = 0.908\n",
      "\n",
      "EPOCH 26 ...\n",
      "Validation Accuracy = 0.909\n",
      "\n",
      "EPOCH 27 ...\n",
      "Validation Accuracy = 0.913\n",
      "\n",
      "EPOCH 28 ...\n",
      "Validation Accuracy = 0.910\n",
      "\n",
      "EPOCH 29 ...\n",
      "Validation Accuracy = 0.912\n",
      "\n",
      "EPOCH 30 ...\n",
      "Validation Accuracy = 0.917\n",
      "\n",
      "EPOCH 31 ...\n",
      "Validation Accuracy = 0.915\n",
      "\n",
      "EPOCH 32 ...\n",
      "Validation Accuracy = 0.916\n",
      "\n",
      "EPOCH 33 ...\n",
      "Validation Accuracy = 0.920\n",
      "\n",
      "EPOCH 34 ...\n",
      "Validation Accuracy = 0.918\n",
      "\n",
      "EPOCH 35 ...\n",
      "Validation Accuracy = 0.911\n",
      "\n",
      "EPOCH 36 ...\n",
      "Validation Accuracy = 0.916\n",
      "\n",
      "EPOCH 37 ...\n",
      "Validation Accuracy = 0.915\n",
      "\n",
      "EPOCH 38 ...\n",
      "Validation Accuracy = 0.917\n",
      "\n",
      "EPOCH 39 ...\n",
      "Validation Accuracy = 0.919\n",
      "\n",
      "EPOCH 40 ...\n",
      "Validation Accuracy = 0.919\n",
      "\n",
      "EPOCH 41 ...\n",
      "Validation Accuracy = 0.919\n",
      "\n",
      "EPOCH 42 ...\n",
      "Validation Accuracy = 0.923\n",
      "\n",
      "EPOCH 43 ...\n",
      "Validation Accuracy = 0.916\n",
      "\n",
      "EPOCH 44 ...\n",
      "Validation Accuracy = 0.919\n",
      "\n",
      "EPOCH 45 ...\n",
      "Validation Accuracy = 0.931\n",
      "\n",
      "EPOCH 46 ...\n",
      "Validation Accuracy = 0.922\n",
      "\n",
      "EPOCH 47 ...\n",
      "Validation Accuracy = 0.923\n",
      "\n",
      "EPOCH 48 ...\n",
      "Validation Accuracy = 0.927\n",
      "\n",
      "EPOCH 49 ...\n",
      "Validation Accuracy = 0.916\n",
      "\n",
      "EPOCH 50 ...\n",
      "Validation Accuracy = 0.915\n",
      "\n",
      "EPOCH 51 ...\n",
      "Validation Accuracy = 0.924\n",
      "\n",
      "EPOCH 52 ...\n",
      "Validation Accuracy = 0.929\n",
      "\n",
      "EPOCH 53 ...\n",
      "Validation Accuracy = 0.922\n",
      "\n",
      "EPOCH 54 ...\n",
      "Validation Accuracy = 0.907\n",
      "\n",
      "EPOCH 55 ...\n",
      "Validation Accuracy = 0.922\n",
      "\n",
      "EPOCH 56 ...\n",
      "Validation Accuracy = 0.930\n",
      "\n",
      "EPOCH 57 ...\n",
      "Validation Accuracy = 0.926\n",
      "\n",
      "EPOCH 58 ...\n",
      "Validation Accuracy = 0.927\n",
      "\n",
      "EPOCH 59 ...\n",
      "Validation Accuracy = 0.927\n",
      "\n",
      "EPOCH 60 ...\n",
      "Validation Accuracy = 0.912\n",
      "\n",
      "EPOCH 61 ...\n",
      "Validation Accuracy = 0.923\n",
      "\n",
      "EPOCH 62 ...\n",
      "Validation Accuracy = 0.915\n",
      "\n",
      "EPOCH 63 ...\n",
      "Validation Accuracy = 0.919\n",
      "\n",
      "EPOCH 64 ...\n",
      "Validation Accuracy = 0.927\n",
      "\n",
      "EPOCH 65 ...\n",
      "Validation Accuracy = 0.923\n",
      "\n",
      "EPOCH 66 ...\n",
      "Validation Accuracy = 0.925\n",
      "\n",
      "EPOCH 67 ...\n",
      "Validation Accuracy = 0.928\n",
      "\n",
      "EPOCH 68 ...\n",
      "Validation Accuracy = 0.918\n",
      "\n",
      "EPOCH 69 ...\n",
      "Validation Accuracy = 0.930\n",
      "\n",
      "EPOCH 70 ...\n",
      "Validation Accuracy = 0.929\n",
      "\n",
      "Model saved\n"
     ]
    }
   ],
   "source": [
    "#train model\n",
    "from sklearn.utils import shuffle\n",
    "import tensorflow as tf\n",
    "x = tf.placeholder(tf.float32, (None, X_train.shape[1], X_train.shape[2], X_train.shape[3]))\n",
    "y = tf.placeholder(tf.int32, (None))\n",
    "one_hot_y = tf.one_hot(y, 43)\n",
    "\n",
    "save_file = './train_model2'\n",
    "\n",
    "\n",
    "\n",
    "logits = lenet_2(x)\n",
    "cross_entropy = tf.nn.softmax_cross_entropy_with_logits(logits = logits, labels = one_hot_y)\n",
    "loss_operation = tf.reduce_mean(cross_entropy)\n",
    "optimizer = tf.train.AdamOptimizer(learning_rate = rate)\n",
    "training_operation = optimizer.minimize(loss_operation)\n",
    "\n",
    "correct_prediction = tf.equal(tf.argmax(logits, 1), tf.argmax(one_hot_y, 1))\n",
    "accuracy_operation = tf.reduce_mean(tf.cast(correct_prediction, tf.float32))\n",
    "saver = tf.train.Saver()\n",
    "\n",
    "def evaluate(X_data, y_data):\n",
    "    num_examples = len(X_data)\n",
    "    total_accuracy = 0\n",
    "    sess = tf.get_default_session()\n",
    "    for offset in range(0, num_examples, BATCH_SIZE):\n",
    "        batch_x, batch_y = X_data[offset:offset+BATCH_SIZE], y_data[offset:offset+BATCH_SIZE]\n",
    "        accuracy = sess.run(accuracy_operation, feed_dict={x: batch_x, y: batch_y})\n",
    "        total_accuracy += (accuracy * len(batch_x))\n",
    "    return total_accuracy / num_examples\n",
    "\n",
    "\n",
    "with tf.Session() as sess:\n",
    "    sess.run(tf.global_variables_initializer())\n",
    "    num_examples = len(X_train)\n",
    "\n",
    "    print(\"Training...\")\n",
    "    print()\n",
    "    for i in range(EPOCHS):\n",
    "        X_train, y_train = shuffle(X_train, y_train)\n",
    "        for offset in range(0, num_examples, BATCH_SIZE):\n",
    "            end = offset + BATCH_SIZE\n",
    "            batch_x, batch_y = X_train[offset:end], y_train[offset:end]\n",
    "            sess.run(training_operation, feed_dict={x: batch_x, y: batch_y})\n",
    "\n",
    "        validation_accuracy = evaluate(X_valid, y_valid)\n",
    "        print(\"EPOCH {} ...\".format(i + 1))\n",
    "        print(\"Validation Accuracy = {:.3f}\".format(validation_accuracy))\n",
    "        print()\n",
    "\n",
    "    saver.save(sess, save_file)\n",
    "    print(\"Model saved\")"
   ]
  },
  {
   "cell_type": "code",
   "execution_count": 25,
   "metadata": {
    "collapsed": true,
    "deletable": true,
    "editable": true
   },
   "outputs": [],
   "source": [
    "#architecture 3 definition\n",
    "def lenet_3(x):\n",
    "    mu = 0\n",
    "    sigma = 0.1\n",
    "    n_classes = 43\n",
    "    weights = {\n",
    "        'wc1': tf.Variable(tf.random_normal([5,5,1,6],mu,sigma)),\n",
    "        'wc2': tf.Variable(tf.random_normal([5, 5, 6, 16],mu,sigma)),\n",
    "        'wc3': tf.Variable(tf.random_normal([5, 5, 16, 128], mu, sigma)),\n",
    "        'wd1': tf.Variable(tf.random_normal([1704, 100],mu,sigma)),\n",
    "        'wd2': tf.Variable(tf.random_normal([100, 84],mu,sigma)),\n",
    "        'out': tf.Variable(tf.random_normal([84, n_classes],mu,sigma))\n",
    "             }\n",
    "\n",
    "    biases = {\n",
    "        'bc1': tf.Variable(tf.zeros([6])),\n",
    "        'bc2': tf.Variable(tf.zeros([16])),\n",
    "        'bc3': tf.Variable(tf.zeros([128])),\n",
    "        'bd1': tf.Variable(tf.zeros([100])),\n",
    "        'bd2': tf.Variable(tf.zeros([84])),\n",
    "        'out': tf.Variable(tf.zeros([n_classes]))}\n",
    "\n",
    "    strides = {\n",
    "            'Layer1_strides': {'conv':[1,1,1,1],\n",
    "                              'maxpool':[1,2,2,1]},\n",
    "            'Layer2_strides': {'conv':[1,1,1,1],\n",
    "                              'maxpool':[1,2,2,1]},\n",
    "            'Layer3_strides': {'conv': [1, 1, 1, 1]}\n",
    "                }\n",
    "\n",
    "\n",
    "\n",
    "    x = tf.nn.conv2d(x,weights['wc1'],strides['Layer1_strides']['conv'],'VALID')\n",
    "    x = tf.nn.bias_add(x,biases['bc1'])\n",
    "    x = tf.nn.relu(x)\n",
    "    x = tf.nn.max_pool(x,strides['Layer1_strides']['maxpool'],strides['Layer1_strides']['maxpool'],'VALID')\n",
    "    #second subsampling layer\n",
    "    #temp = tf.nn.max_pool(x,strides['Layer1_strides']['maxpool'],strides['Layer1_strides']['maxpool'],'VALID')\n",
    "    temp = flatten(x)\n",
    "\n",
    "    x = tf.nn.conv2d(x, weights['wc2'], strides['Layer3_strides']['conv'], 'VALID')\n",
    "    x = tf.nn.bias_add(x,biases['bc2'])\n",
    "    x = tf.nn.relu(x)\n",
    "    x = tf.nn.max_pool(x, strides['Layer2_strides']['maxpool'],strides['Layer2_strides']['maxpool'],'VALID')\n",
    "\n",
    "    layer_1_2_flattened = tf.concat_v2([temp, flatten(x)], 1)\n",
    "    x = tf.nn.conv2d(x, weights['wc3'], strides['Layer2_strides']['conv'], 'VALID')\n",
    "    x = tf.nn.bias_add(x, biases['bc3'])\n",
    "    x = tf.nn.relu(x)\n",
    "\n",
    "    x = tf.concat_v2([layer_1_2_flattened, flatten(x)],1)\n",
    "\n",
    "\n",
    "    x = tf.add(tf.matmul(x,weights['wd1']),biases['bd1'])\n",
    "    x = tf.nn.relu(x)\n",
    "\n",
    "\n",
    "    \n",
    "    x = tf.add(tf.matmul(x, weights['wd2']), biases['bd2'])\n",
    "    x = tf.nn.relu(x)\n",
    "\n",
    "    x = tf.nn.dropout(x, keep_prob)\n",
    "    \n",
    "    logits = tf.add(tf.matmul(x, weights['out']), biases['out'])\n",
    "    return logits\n"
   ]
  },
  {
   "cell_type": "code",
   "execution_count": 26,
   "metadata": {
    "collapsed": false,
    "deletable": true,
    "editable": true
   },
   "outputs": [
    {
     "name": "stdout",
     "output_type": "stream",
     "text": [
      "Training...\n",
      "\n",
      "EPOCH 1 ...\n",
      "Validation Accuracy = 0.617\n",
      "\n",
      "EPOCH 2 ...\n",
      "Validation Accuracy = 0.747\n",
      "\n",
      "EPOCH 3 ...\n",
      "Validation Accuracy = 0.817\n",
      "\n",
      "EPOCH 4 ...\n",
      "Validation Accuracy = 0.838\n",
      "\n",
      "EPOCH 5 ...\n",
      "Validation Accuracy = 0.863\n",
      "\n",
      "EPOCH 6 ...\n",
      "Validation Accuracy = 0.883\n",
      "\n",
      "EPOCH 7 ...\n",
      "Validation Accuracy = 0.885\n",
      "\n",
      "EPOCH 8 ...\n",
      "Validation Accuracy = 0.893\n",
      "\n",
      "EPOCH 9 ...\n",
      "Validation Accuracy = 0.894\n",
      "\n",
      "EPOCH 10 ...\n",
      "Validation Accuracy = 0.909\n",
      "\n",
      "EPOCH 11 ...\n",
      "Validation Accuracy = 0.902\n",
      "\n",
      "EPOCH 12 ...\n",
      "Validation Accuracy = 0.904\n",
      "\n",
      "EPOCH 13 ...\n",
      "Validation Accuracy = 0.912\n",
      "\n",
      "EPOCH 14 ...\n",
      "Validation Accuracy = 0.911\n",
      "\n",
      "EPOCH 15 ...\n",
      "Validation Accuracy = 0.918\n",
      "\n",
      "EPOCH 16 ...\n",
      "Validation Accuracy = 0.920\n",
      "\n",
      "EPOCH 17 ...\n",
      "Validation Accuracy = 0.918\n",
      "\n",
      "EPOCH 18 ...\n",
      "Validation Accuracy = 0.917\n",
      "\n",
      "EPOCH 19 ...\n",
      "Validation Accuracy = 0.918\n",
      "\n",
      "EPOCH 20 ...\n",
      "Validation Accuracy = 0.918\n",
      "\n",
      "EPOCH 21 ...\n",
      "Validation Accuracy = 0.923\n",
      "\n",
      "EPOCH 22 ...\n",
      "Validation Accuracy = 0.914\n",
      "\n",
      "EPOCH 23 ...\n",
      "Validation Accuracy = 0.927\n",
      "\n",
      "EPOCH 24 ...\n",
      "Validation Accuracy = 0.923\n",
      "\n",
      "EPOCH 25 ...\n",
      "Validation Accuracy = 0.929\n",
      "\n",
      "EPOCH 26 ...\n",
      "Validation Accuracy = 0.930\n",
      "\n",
      "EPOCH 27 ...\n",
      "Validation Accuracy = 0.933\n",
      "\n",
      "EPOCH 28 ...\n",
      "Validation Accuracy = 0.929\n",
      "\n",
      "EPOCH 29 ...\n",
      "Validation Accuracy = 0.922\n",
      "\n",
      "EPOCH 30 ...\n",
      "Validation Accuracy = 0.926\n",
      "\n",
      "EPOCH 31 ...\n",
      "Validation Accuracy = 0.932\n",
      "\n",
      "EPOCH 32 ...\n",
      "Validation Accuracy = 0.930\n",
      "\n",
      "EPOCH 33 ...\n",
      "Validation Accuracy = 0.930\n",
      "\n",
      "EPOCH 34 ...\n",
      "Validation Accuracy = 0.934\n",
      "\n",
      "EPOCH 35 ...\n",
      "Validation Accuracy = 0.914\n",
      "\n",
      "EPOCH 36 ...\n",
      "Validation Accuracy = 0.937\n",
      "\n",
      "EPOCH 37 ...\n",
      "Validation Accuracy = 0.937\n",
      "\n",
      "EPOCH 38 ...\n",
      "Validation Accuracy = 0.927\n",
      "\n",
      "EPOCH 39 ...\n",
      "Validation Accuracy = 0.930\n",
      "\n",
      "EPOCH 40 ...\n",
      "Validation Accuracy = 0.927\n",
      "\n",
      "EPOCH 41 ...\n",
      "Validation Accuracy = 0.931\n",
      "\n",
      "EPOCH 42 ...\n",
      "Validation Accuracy = 0.932\n",
      "\n",
      "EPOCH 43 ...\n",
      "Validation Accuracy = 0.933\n",
      "\n",
      "EPOCH 44 ...\n",
      "Validation Accuracy = 0.937\n",
      "\n",
      "EPOCH 45 ...\n",
      "Validation Accuracy = 0.934\n",
      "\n",
      "EPOCH 46 ...\n",
      "Validation Accuracy = 0.942\n",
      "\n",
      "EPOCH 47 ...\n",
      "Validation Accuracy = 0.933\n",
      "\n",
      "EPOCH 48 ...\n",
      "Validation Accuracy = 0.940\n",
      "\n",
      "EPOCH 49 ...\n",
      "Validation Accuracy = 0.928\n",
      "\n",
      "EPOCH 50 ...\n",
      "Validation Accuracy = 0.938\n",
      "\n",
      "EPOCH 51 ...\n",
      "Validation Accuracy = 0.932\n",
      "\n",
      "EPOCH 52 ...\n",
      "Validation Accuracy = 0.932\n",
      "\n",
      "EPOCH 53 ...\n",
      "Validation Accuracy = 0.942\n",
      "\n",
      "EPOCH 54 ...\n",
      "Validation Accuracy = 0.935\n",
      "\n",
      "EPOCH 55 ...\n",
      "Validation Accuracy = 0.936\n",
      "\n",
      "EPOCH 56 ...\n",
      "Validation Accuracy = 0.936\n",
      "\n",
      "EPOCH 57 ...\n",
      "Validation Accuracy = 0.940\n",
      "\n",
      "EPOCH 58 ...\n",
      "Validation Accuracy = 0.902\n",
      "\n",
      "EPOCH 59 ...\n",
      "Validation Accuracy = 0.938\n",
      "\n",
      "EPOCH 60 ...\n",
      "Validation Accuracy = 0.927\n",
      "\n",
      "EPOCH 61 ...\n",
      "Validation Accuracy = 0.937\n",
      "\n",
      "EPOCH 62 ...\n",
      "Validation Accuracy = 0.944\n",
      "\n",
      "EPOCH 63 ...\n",
      "Validation Accuracy = 0.938\n",
      "\n",
      "EPOCH 64 ...\n",
      "Validation Accuracy = 0.940\n",
      "\n",
      "EPOCH 65 ...\n",
      "Validation Accuracy = 0.940\n",
      "\n",
      "EPOCH 66 ...\n",
      "Validation Accuracy = 0.942\n",
      "\n",
      "EPOCH 67 ...\n",
      "Validation Accuracy = 0.942\n",
      "\n",
      "EPOCH 68 ...\n",
      "Validation Accuracy = 0.942\n",
      "\n",
      "EPOCH 69 ...\n",
      "Validation Accuracy = 0.947\n",
      "\n",
      "EPOCH 70 ...\n",
      "Validation Accuracy = 0.938\n",
      "\n",
      "Model saved\n"
     ]
    }
   ],
   "source": [
    "#train model\n",
    "from sklearn.utils import shuffle\n",
    "import tensorflow as tf\n",
    "x = tf.placeholder(tf.float32, (None, X_train.shape[1], X_train.shape[2], X_train.shape[3]))\n",
    "y = tf.placeholder(tf.int32, (None))\n",
    "one_hot_y = tf.one_hot(y, 43)\n",
    "\n",
    "save_file = './train_model3'\n",
    "\n",
    "logits = lenet_3(x)\n",
    "cross_entropy = tf.nn.softmax_cross_entropy_with_logits(logits = logits, labels = one_hot_y)\n",
    "loss_operation = tf.reduce_mean(cross_entropy)\n",
    "optimizer = tf.train.AdamOptimizer(learning_rate = rate)\n",
    "training_operation = optimizer.minimize(loss_operation)\n",
    "\n",
    "correct_prediction = tf.equal(tf.argmax(logits, 1), tf.argmax(one_hot_y, 1))\n",
    "accuracy_operation = tf.reduce_mean(tf.cast(correct_prediction, tf.float32))\n",
    "saver = tf.train.Saver()\n",
    "\n",
    "def evaluate(X_data, y_data):\n",
    "    num_examples = len(X_data)\n",
    "    total_accuracy = 0\n",
    "    sess = tf.get_default_session()\n",
    "    for offset in range(0, num_examples, BATCH_SIZE):\n",
    "        batch_x, batch_y = X_data[offset:offset+BATCH_SIZE], y_data[offset:offset+BATCH_SIZE]\n",
    "        accuracy = sess.run(accuracy_operation, feed_dict={x: batch_x, y: batch_y})\n",
    "        total_accuracy += (accuracy * len(batch_x))\n",
    "    return total_accuracy / num_examples\n",
    "\n",
    "\n",
    "with tf.Session() as sess:\n",
    "    sess.run(tf.global_variables_initializer())\n",
    "    num_examples = len(X_train)\n",
    "\n",
    "    print(\"Training...\")\n",
    "    print()\n",
    "    for i in range(EPOCHS):\n",
    "        X_train, y_train = shuffle(X_train, y_train)\n",
    "        for offset in range(0, num_examples, BATCH_SIZE):\n",
    "            end = offset + BATCH_SIZE\n",
    "            batch_x, batch_y = X_train[offset:end], y_train[offset:end]\n",
    "            sess.run(training_operation, feed_dict={x: batch_x, y: batch_y})\n",
    "\n",
    "        validation_accuracy = evaluate(X_valid, y_valid)\n",
    "        print(\"EPOCH {} ...\".format(i + 1))\n",
    "        print(\"Validation Accuracy = {:.3f}\".format(validation_accuracy))\n",
    "        print()\n",
    "\n",
    "    saver.save(sess, save_file)\n",
    "    print(\"Model saved\")"
   ]
  },
  {
   "cell_type": "code",
   "execution_count": 27,
   "metadata": {
    "collapsed": true,
    "deletable": true,
    "editable": true
   },
   "outputs": [],
   "source": [
    "#normalize the test set\n",
    "x_test_temp = X_test\n",
    "x_test_grayscale = temp = np.sum(X_test/3, axis=3, keepdims=True)\n",
    "for i in range(0,x_test_grayscale.shape[0]):\n",
    "    x_test_grayscale[i,:,:,0] = cv2.equalizeHist(np.uint8(x_test_grayscale[i]))\n",
    "X_test = (x_test_grayscale - 127.5)/255"
   ]
  },
  {
   "cell_type": "code",
   "execution_count": 28,
   "metadata": {
    "collapsed": false,
    "deletable": true,
    "editable": true
   },
   "outputs": [
    {
     "name": "stdout",
     "output_type": "stream",
     "text": [
      "Test Accuracy = 0.914\n"
     ]
    }
   ],
   "source": [
    "#test the model on the test set \n",
    "save_file = './train_model3'\n",
    "with tf.Session() as sess:\n",
    "    saver = tf.train.import_meta_graph('./train_model3.meta')\n",
    "    saver.restore(sess, save_file)    \n",
    "    test_accuracy = evaluate(X_test, y_test)\n",
    "    print(\"Test Accuracy = {:.3f}\".format(test_accuracy))"
   ]
  },
  {
   "cell_type": "markdown",
   "metadata": {
    "deletable": true,
    "editable": true
   },
   "source": [
    "---\n",
    "\n",
    "## Step 3: Test a Model on New Images\n",
    "\n",
    "To give yourself more insight into how your model is working, download at least five pictures of German traffic signs from the web and use your model to predict the traffic sign type.\n",
    "\n",
    "You may find `signnames.csv` useful as it contains mappings from the class id (integer) to the actual sign name."
   ]
  },
  {
   "cell_type": "markdown",
   "metadata": {
    "deletable": true,
    "editable": true
   },
   "source": [
    "### Load and Output the Images"
   ]
  },
  {
   "cell_type": "code",
   "execution_count": 30,
   "metadata": {
    "collapsed": false,
    "deletable": true,
    "editable": true
   },
   "outputs": [
    {
     "name": "stdout",
     "output_type": "stream",
     "text": [
      "Input Image shape: (5, 32, 32, 3)\n"
     ]
    }
   ],
   "source": [
    "import glob\n",
    "import matplotlib.pyplot as plt\n",
    "from PIL import Image\n",
    "import numpy as np\n",
    "#import the traffic sign images\n",
    "filelist = glob.glob('../../ubuntu/*.jpg')\n",
    "new_width  = 32\n",
    "new_height = 32\n",
    "my_images = np.array([np.array(Image.open(fname).resize((new_width, new_height), Image.ANTIALIAS)) for fname in filelist])\n",
    "\n",
    "print('Input Image shape:',my_images.shape)"
   ]
  },
  {
   "cell_type": "markdown",
   "metadata": {
    "deletable": true,
    "editable": true
   },
   "source": [
    "### Predict the Sign Type for Each Image"
   ]
  },
  {
   "cell_type": "code",
   "execution_count": 31,
   "metadata": {
    "collapsed": false,
    "deletable": true,
    "editable": true
   },
   "outputs": [
    {
     "data": {
      "text/plain": [
       "(5, 32, 32, 1)"
      ]
     },
     "execution_count": 31,
     "metadata": {},
     "output_type": "execute_result"
    }
   ],
   "source": [
    "#Preprocesing the images ..image(RGB) ---> Grayscale---> Histogram normalize--->Zero mean\n",
    "images_normalised = np.sum(my_images/3, axis=3, keepdims=True)\n",
    "for i in range(0,images_normalised.shape[0]):\n",
    "    images_normalised[i,:,:,0] = cv2.equalizeHist(np.uint8(images_normalised[i]))\n",
    "images_normalised = (images_normalised - 127.5)/255\n",
    "labels = [12,11,14,2,3]\n",
    "images_normalised.shape"
   ]
  },
  {
   "cell_type": "code",
   "execution_count": 32,
   "metadata": {
    "collapsed": false,
    "deletable": true,
    "editable": true
   },
   "outputs": [
    {
     "data": {
      "text/plain": [
       "<matplotlib.text.Text at 0x7fbf284ac358>"
      ]
     },
     "execution_count": 32,
     "metadata": {},
     "output_type": "execute_result"
    },
    {
     "data": {
      "image/png": "[encoded data removed]",
      "text/plain": [
       "<matplotlib.figure.Figure at 0x7fbf28067198>"
      ]
     },
     "metadata": {},
     "output_type": "display_data"
    }
   ],
   "source": [
    "#display a random test image\n",
    "import random\n",
    "index = random.randint(0,4)\n",
    "image = images_normalised[index].squeeze()\n",
    "images_normalised[index].shape\n",
    "plt.figure(figsize=(5,5))\n",
    "plt.imshow(image,cmap='gray')\n",
    "plt.title(str(y_train[index]))"
   ]
  },
  {
   "cell_type": "markdown",
   "metadata": {
    "deletable": true,
    "editable": true
   },
   "source": [
    "### Analyze Performance"
   ]
  },
  {
   "cell_type": "code",
   "execution_count": 33,
   "metadata": {
    "collapsed": false,
    "deletable": true,
    "editable": true
   },
   "outputs": [],
   "source": [
    "with tf.Session() as sess:   \n",
    "    saver.restore(sess, './train_model3')\n",
    "    for i in range(images_normalised.shape[0]):        \n",
    "        predictions = sess.run(logits,feed_dict={x:images_normalised})       \n",
    "        soft_max_pred = sess.run(tf.nn.softmax(predictions, dim=-1, name=None))\n",
    "        top_5 = sess.run(tf.nn.top_k(soft_max_pred, k=5))\n",
    "#print('Test soft MAx: {}'.format(soft_max_pred))"
   ]
  },
  {
   "cell_type": "markdown",
   "metadata": {
    "deletable": true,
    "editable": true
   },
   "source": [
    "### Output Top 5 Softmax Probabilities For Each Image Found on the Web"
   ]
  },
  {
   "cell_type": "markdown",
   "metadata": {
    "deletable": true,
    "editable": true
   },
   "source": [
    "For each of the new images, print out the model's softmax probabilities to show the **certainty** of the model's predictions (limit the output to the top 5 probabilities for each image). [`tf.nn.top_k`](https://www.tensorflow.org/versions/r0.12/api_docs/python/nn.html#top_k) could prove helpful here. \n",
    "\n",
    "The example below demonstrates how tf.nn.top_k can be used to find the top k predictions for each image.\n",
    "\n",
    "`tf.nn.top_k` will return the values and indices (class ids) of the top k predictions. So if k=3, for each sign, it'll return the 3 largest probabilities (out of a possible 43) and the correspoding class ids.\n",
    "\n",
    "Take this numpy array as an example. The values in the array represent predictions. The array contains softmax probabilities for five candidate images with six possible classes. `tk.nn.top_k` is used to choose the three classes with the highest probability:\n",
    "\n",
    "```\n",
    "# (5, 6) array\n",
    "a = np.array([[ 0.24879643,  0.07032244,  0.12641572,  0.34763842,  0.07893497,\n",
    "         0.12789202],\n",
    "       [ 0.28086119,  0.27569815,  0.08594638,  0.0178669 ,  0.18063401,\n",
    "         0.15899337],\n",
    "       [ 0.26076848,  0.23664738,  0.08020603,  0.07001922,  0.1134371 ,\n",
    "         0.23892179],\n",
    "       [ 0.11943333,  0.29198961,  0.02605103,  0.26234032,  0.1351348 ,\n",
    "         0.16505091],\n",
    "       [ 0.09561176,  0.34396535,  0.0643941 ,  0.16240774,  0.24206137,\n",
    "         0.09155967]])\n",
    "```\n",
    "\n",
    "Running it through `sess.run(tf.nn.top_k(tf.constant(a), k=3))` produces:\n",
    "\n",
    "```\n",
    "TopKV2(values=array([[ 0.34763842,  0.24879643,  0.12789202],\n",
    "       [ 0.28086119,  0.27569815,  0.18063401],\n",
    "       [ 0.26076848,  0.23892179,  0.23664738],\n",
    "       [ 0.29198961,  0.26234032,  0.16505091],\n",
    "       [ 0.34396535,  0.24206137,  0.16240774]]), indices=array([[3, 0, 5],\n",
    "       [0, 1, 4],\n",
    "       [0, 5, 1],\n",
    "       [1, 3, 5],\n",
    "       [1, 4, 3]], dtype=int32))\n",
    "```\n",
    "\n",
    "Looking just at the first row we get `[ 0.34763842,  0.24879643,  0.12789202]`, you can confirm these are the 3 largest probabilities in `a`. You'll also notice `[3, 0, 5]` are the corresponding indices."
   ]
  },
  {
   "cell_type": "code",
   "execution_count": 34,
   "metadata": {
    "collapsed": false
   },
   "outputs": [
    {
     "data": {
      "image/png": "[encoded data removed]",
      "text/plain": [
       "<matplotlib.figure.Figure at 0x7fbf2865f898>"
      ]
     },
     "metadata": {},
     "output_type": "display_data"
    }
   ],
   "source": [
    "plt.figure(figsize=(20,20))\n",
    "for i in range(len(soft_max_pred)):\n",
    "    plt.subplot(5,2,(2*i)+1)\n",
    "    plt.imshow(images_normalised[i].squeeze(),\n",
    "               cmap= 'gray')\n",
    "    plt.subplot(5,2,(2*i)+2)\n",
    "    plt.bar(top_5[1][i],top_5[0][i])\n",
    "    \n"
   ]
  },
  {
   "cell_type": "code",
   "execution_count": 36,
   "metadata": {
    "collapsed": false
   },
   "outputs": [
    {
     "name": "stdout",
     "output_type": "stream",
     "text": [
      "SOft max probablities: [[  9.98868465e-01   8.03285220e-04   2.47529446e-04   5.49765718e-05\n",
      "    2.51073925e-05]\n",
      " [  8.67840588e-01   1.32156536e-01   2.20550305e-06   4.16692728e-07\n",
      "    9.90765088e-08]\n",
      " [  9.99987006e-01   1.16740121e-05   9.97704433e-07   2.56256129e-07\n",
      "    2.70453482e-09]\n",
      " [  3.89696449e-01   2.05808729e-01   1.64819062e-01   1.06899351e-01\n",
      "    7.48084784e-02]\n",
      " [  9.22654152e-01   6.24781474e-02   3.42103769e-03   3.27154971e-03\n",
      "    2.35562469e-03]]\n",
      "SOft max predicted classes: [[11 27 30 18 24]\n",
      " [ 2  1 13  3  6]\n",
      " [12 40  9 33 10]\n",
      " [37 41  9 35 13]\n",
      " [12 40  9 19 35]]\n"
     ]
    }
   ],
   "source": [
    "#print softmax probabilities\n",
    "print('SOft max probablities: {}'.format(top_5[0]))\n",
    "print('SOft max predicted classes: {}'.format(top_5[1]))"
   ]
  },
  {
   "cell_type": "code",
   "execution_count": 34,
   "metadata": {
    "collapsed": false,
    "deletable": true,
    "editable": true
   },
   "outputs": [
    {
     "data": {
      "image/png": "[encoded data removed]",
      "text/plain": [
       "<matplotlib.figure.Figure at 0x7f2d35258588>"
      ]
     },
     "metadata": {},
     "output_type": "display_data"
    }
   ],
   "source": [
    "#print predictions depending on softmax predictions\n",
    "images_probablities = top_5[1]\n",
    "plt.figure(figsize=(20,20))\n",
    "k = 1\n",
    "#looping through all the input images and the predctions priority wise\n",
    "for i in range(0,5):\n",
    "    plt.subplot(5,4,k)\n",
    "    plt.imshow(images_normalised[i].squeeze(),\n",
    "               cmap= 'gray')\n",
    "    plt.axis('off')\n",
    "    plt.title('Input')\n",
    "    k = k + 1\n",
    "    for j in range(0,3):\n",
    "        #temp = images_probablities[i][j]\n",
    "        plt.subplot(5, 4, k)\n",
    "        plt.imshow(x_grayscale[separated_elements[str(images_probablities[i][j])][0][0]].squeeze(),cmap = 'gray')\n",
    "        plt.title(str(images_probablities[i][j]))\n",
    "        plt.axis('off')\n",
    "        k = k + 1"
   ]
  },
  {
   "cell_type": "markdown",
   "metadata": {
    "deletable": true,
    "editable": true
   },
   "source": [
    "---\n",
    "\n",
    "## Step 4: Visualize the Neural Network's State with Test Images\n",
    "\n",
    " This Section is not required to complete but acts as an additional excersise for understaning the output of a neural network's weights. While neural networks can be a great learning device they are often referred to as a black box. We can understand what the weights of a neural network look like better by plotting their feature maps. After successfully training your neural network you can see what it's feature maps look like by plotting the output of the network's weight layers in response to a test stimuli image. From these plotted feature maps, it's possible to see what characteristics of an image the network finds interesting. For a sign, maybe the inner network feature maps react with high activation to the sign's boundary outline or to the contrast in the sign's painted symbol.\n",
    "\n",
    " Provided for you below is the function code that allows you to get the visualization output of any tensorflow weight layer you want. The inputs to the function should be a stimuli image, one used during training or a new one you provided, and then the tensorflow variable name that represents the layer's state during the training process, for instance if you wanted to see what the [LeNet lab's](https://classroom.udacity.com/nanodegrees/nd013/parts/fbf77062-5703-404e-b60c-95b78b2f3f9e/modules/6df7ae49-c61c-4bb2-a23e-6527e69209ec/lessons/601ae704-1035-4287-8b11-e2c2716217ad/concepts/d4aca031-508f-4e0b-b493-e7b706120f81) feature maps looked like for it's second convolutional layer you could enter conv2 as the tf_activation variable.\n",
    "\n",
    "For an example of what feature map outputs look like, check out NVIDIA's results in their paper [End-to-End Deep Learning for Self-Driving Cars](https://devblogs.nvidia.com/parallelforall/deep-learning-self-driving-cars/) in the section Visualization of internal CNN State. NVIDIA was able to show that their network's inner weights had high activations to road boundary lines by comparing feature maps from an image with a clear path to one without. Try experimenting with a similar test to show that your trained network's weights are looking for interesting features, whether it's looking at differences in feature maps from images with or without a sign, or even what feature maps look like in a trained network vs a completely untrained one on the same sign image.\n",
    "\n",
    "<figure>\n",
    " <img src=\"visualize_cnn.png\" width=\"380\" alt=\"Combined Image\" />\n",
    " <figcaption>\n",
    " <p></p> \n",
    " <p style=\"text-align: center;\"> Your output should look something like this (above)</p> \n",
    " </figcaption>\n",
    "</figure>\n",
    " <p></p> \n"
   ]
  },
  {
   "cell_type": "code",
   "execution_count": null,
   "metadata": {
    "collapsed": true,
    "deletable": true,
    "editable": true
   },
   "outputs": [],
   "source": [
    "### Visualize your network's feature maps here.\n",
    "### Feel free to use as many code cells as needed.\n",
    "\n",
    "# image_input: the test image being fed into the network to produce the feature maps\n",
    "# tf_activation: should be a tf variable name used during your training procedure that represents the calculated state of a specific weight layer\n",
    "# activation_min/max: can be used to view the activation contrast in more detail, by default matplot sets min and max to the actual min and max values of the output\n",
    "# plt_num: used to plot out multiple different weight feature map sets on the same block, just extend the plt number for each new feature map entry\n",
    "\n",
    "def outputFeatureMap(image_input, tf_activation, activation_min=-1, activation_max=-1 ,plt_num=1):\n",
    "    # Here make sure to preprocess your image_input in a way your network expects\n",
    "    # with size, normalization, ect if needed\n",
    "    # image_input =\n",
    "    # Note: x should be the same name as your network's tensorflow data placeholder variable\n",
    "    # If you get an error tf_activation is not defined it maybe having trouble accessing the variable from inside a function\n",
    "    activation = tf_activation.eval(session=sess,feed_dict={x : image_input})\n",
    "    featuremaps = activation.shape[3]\n",
    "    plt.figure(plt_num, figsize=(15,15))\n",
    "    for featuremap in range(featuremaps):\n",
    "        plt.subplot(6,8, featuremap+1) # sets the number of feature maps to show on each row and column\n",
    "        plt.title('FeatureMap ' + str(featuremap)) # displays the feature map number\n",
    "        if activation_min != -1 & activation_max != -1:\n",
    "            plt.imshow(activation[0,:,:, featuremap], interpolation=\"nearest\", vmin =activation_min, vmax=activation_max, cmap=\"gray\")\n",
    "        elif activation_max != -1:\n",
    "            plt.imshow(activation[0,:,:, featuremap], interpolation=\"nearest\", vmax=activation_max, cmap=\"gray\")\n",
    "        elif activation_min !=-1:\n",
    "            plt.imshow(activation[0,:,:, featuremap], interpolation=\"nearest\", vmin=activation_min, cmap=\"gray\")\n",
    "        else:\n",
    "            plt.imshow(activation[0,:,:, featuremap], interpolation=\"nearest\", cmap=\"gray\")"
   ]
  },
  {
   "cell_type": "markdown",
   "metadata": {
    "deletable": true,
    "editable": true
   },
   "source": [
    "### Question 9\n",
    "\n",
    "Discuss how you used the visual output of your trained network's feature maps to show that it had learned to look for interesting characteristics in traffic sign images\n"
   ]
  },
  {
   "cell_type": "markdown",
   "metadata": {
    "deletable": true,
    "editable": true
   },
   "source": [
    "**Answer:**"
   ]
  },
  {
   "cell_type": "markdown",
   "metadata": {
    "deletable": true,
    "editable": true
   },
   "source": [
    "> **Note**: Once you have completed all of the code implementations and successfully answered each question above, you may finalize your work by exporting the iPython Notebook as an HTML document. You can do this by using the menu above and navigating to  \\n\",\n",
    "    \"**File -> Download as -> HTML (.html)**. Include the finished document along with this notebook as your submission."
   ]
  },
  {
   "cell_type": "markdown",
   "metadata": {
    "deletable": true,
    "editable": true
   },
   "source": [
    "### Project Writeup\n",
    "\n",
    "Once you have completed the code implementation, document your results in a project writeup using this [template](https://github.com/udacity/CarND-Traffic-Sign-Classifier-Project/blob/master/writeup_template.md) as a guide. The writeup can be in a markdown or pdf file. "
   ]
  }
 ],
 "metadata": {
  "anaconda-cloud": {},
  "kernelspec": {
   "display_name": "Python 3",
   "language": "python",
   "name": "python3"
  },
  "language_info": {
   "codemirror_mode": {
    "name": "ipython",
    "version": 3
   },
   "file_extension": ".py",
   "mimetype": "text/x-python",
   "name": "python",
   "nbconvert_exporter": "python",
   "pygments_lexer": "ipython3",
   "version": "3.5.2"
  },
  "widgets": {
   "state": {},
   "version": "1.1.2"
  }
 },
 "nbformat": 4,
 "nbformat_minor": 0
}
